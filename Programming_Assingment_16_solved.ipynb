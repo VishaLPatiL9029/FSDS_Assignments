{
 "cells": [
  {
   "cell_type": "markdown",
   "id": "2af94d6b-9bec-4d3c-ae57-cf65ce8a4cf3",
   "metadata": {},
   "source": [
    "## Question1. \n",
    "\n",
    "Write a function that stutters a word as if someone is struggling to read it. The first two letters are repeated twice with an ellipsis ... and space after each, and then the word is pronounced with a question mark ?.\n",
    "Examples\n",
    "stutter(\"incredible\") ➞ \"in... in... incredible?\"\n",
    "\n",
    "stutter(\"enthusiastic\") ➞ \"en... en... enthusiastic?\"\n",
    "\n",
    "stutter(\"outstanding\") ➞ \"ou... ou... outstanding?\"\n",
    "\n",
    "Hint :- Assume all input is in lower case and at least two characters long."
   ]
  },
  {
   "cell_type": "markdown",
   "id": "94ff12e4-f7e3-4d1a-a7ba-09ab2d55b17a",
   "metadata": {},
   "source": [
    "### Solution to Question 1"
   ]
  },
  {
   "cell_type": "code",
   "execution_count": 1,
   "id": "e1e8c21e-6a41-4586-9b49-b5da55999a8c",
   "metadata": {},
   "outputs": [
    {
     "name": "stdout",
     "output_type": "stream",
     "text": [
      "\"en... en... enthusiastic?\"\n"
     ]
    }
   ],
   "source": [
    "def stutter(word):\n",
    "    print(f\"\\\"{word[0:2]}... {word[0:2]}... {word}?\\\"\")\n",
    "\n",
    "stutter(\"enthusiastic\")"
   ]
  },
  {
   "cell_type": "markdown",
   "id": "8f65d043-e102-47ab-822e-e452b27043f5",
   "metadata": {},
   "source": [
    "## Question 2.\n",
    "Create a function that takes an angle in radians and returns the corresponding angle in degrees rounded to one decimal place.\n",
    "Examples\n",
    "radians_to_degrees(1) ➞ 57.3\n",
    "\n",
    "radians_to_degrees(20) ➞ 1145.9\n",
    "\n",
    "radians_to_degrees(50) ➞ 2864.8\n"
   ]
  },
  {
   "cell_type": "markdown",
   "id": "b6eea806-a778-4f17-b588-7667a83e35e2",
   "metadata": {},
   "source": [
    "### Solution to Question 2"
   ]
  },
  {
   "cell_type": "code",
   "execution_count": 2,
   "id": "7c6fdbff-6211-4d65-b3bf-53051075dae8",
   "metadata": {},
   "outputs": [
    {
     "data": {
      "text/plain": [
       "1145.9"
      ]
     },
     "execution_count": 2,
     "metadata": {},
     "output_type": "execute_result"
    }
   ],
   "source": [
    "import math\n",
    "def radians_to_degrees(rad):\n",
    "    deg = rad*180/math.pi\n",
    "    return(round(deg, 1))\n",
    "    \n",
    "\n",
    "radians_to_degrees(20)"
   ]
  },
  {
   "cell_type": "markdown",
   "id": "315fc92a-7091-4c59-8d02-6955274c024b",
   "metadata": {},
   "source": [
    "## Question 3. \n",
    "In this challenge, establish if a given integer num is a Curzon number. If 1 plus 2 elevated to num is exactly divisible by 1 plus 2 multiplied by num, then num is a Curzon number.\n",
    "Given a non-negative integer num, implement a function that returns True if num is a Curzon number, or False otherwise.\n",
    "Examples\n",
    "is_curzon(5) ➞ True\n",
    "# 2 ** 5 + 1 = 33\n",
    "# 2 * 5 + 1 = 11\n",
    "# 33 is a multiple of 11\n",
    "\n",
    "is_curzon(10) ➞ False\n",
    "# 2 ** 10 + 1 = 1025\n",
    "# 2 * 10 + 1 = 21\n",
    "# 1025 is not a multiple of 21\n",
    "\n",
    "is_curzon(14) ➞ True\n",
    "# 2 ** 14 + 1 = 16385\n",
    "# 2 * 14 + 1 = 29\n",
    "# 16385 is a multiple of 29"
   ]
  },
  {
   "cell_type": "markdown",
   "id": "3571de69-563c-4a04-867f-557cdfcf02f8",
   "metadata": {},
   "source": [
    "### Solution to Question 3"
   ]
  },
  {
   "cell_type": "code",
   "execution_count": 3,
   "id": "dd34960b-c593-4c87-af43-63c0eea3fe02",
   "metadata": {},
   "outputs": [
    {
     "data": {
      "text/plain": [
       "True"
      ]
     },
     "execution_count": 3,
     "metadata": {},
     "output_type": "execute_result"
    }
   ],
   "source": [
    "def is_curzon(num):\n",
    "    a = 1 + (2**num)\n",
    "    b = 1 + (2*num)  \n",
    "    if a % b == 0:\n",
    "        return True\n",
    "    else:\n",
    "        return False\n",
    "    \n",
    "    \n",
    "is_curzon(5)"
   ]
  },
  {
   "cell_type": "markdown",
   "id": "5648569b-ff68-4947-9dcc-3c4678d60428",
   "metadata": {},
   "source": [
    "## Question 4.\n",
    "Given the side length x find the area of a hexagon.\n",
    "\n",
    "formula Area =  (3√3 s2)/2\n",
    "\n",
    "Examples area_of_hexagon(1) ➞ 2.6\n",
    "\n",
    "area_of_hexagon(2) ➞ 10.4\n",
    "\n",
    "area_of_hexagon(3) ➞ 23.4"
   ]
  },
  {
   "cell_type": "markdown",
   "id": "aa02b53b-ec36-420b-8449-96c621c38699",
   "metadata": {},
   "source": [
    "### Solution to Question 4"
   ]
  },
  {
   "cell_type": "code",
   "execution_count": 4,
   "id": "f2cb6821-c378-4511-928f-7983cabe0efd",
   "metadata": {},
   "outputs": [
    {
     "data": {
      "text/plain": [
       "23.4"
      ]
     },
     "execution_count": 4,
     "metadata": {},
     "output_type": "execute_result"
    }
   ],
   "source": [
    "def hexagon_area(side):\n",
    "    area = 3*pow(3, 1/2)*pow(side,2)/2\n",
    "    return round(area, 1)\n",
    "\n",
    "hexagon_area(3)"
   ]
  },
  {
   "cell_type": "markdown",
   "id": "f6df53d0-424d-447c-a4ae-92c5b0dcde5e",
   "metadata": {},
   "source": [
    "## Question 5. \n",
    "Create a function that returns a base-2 (binary) representation of a base-10 (decimal) string number. To convert is simple: ((2) means base-2 and (10) means base-10) 010101001(2) = 1 + 8 + 32 + 128. Going from right to left, the value of the most right bit is 1, now from that every bit to the left will be x2 the value, value of an 8 bit binary numbers are (256, 128, 64, 32, 16, 8, 4, 2, 1). Examples binary(1) ➞ \"1\"\n",
    "\n",
    "1*1 = 1\n",
    "binary(5) ➞ \"101\"\n",
    "\n",
    "11 + 14 = 5\n",
    "binary(10) ➞ \"1010\"\n",
    "\n",
    "12 + 18 = 10"
   ]
  },
  {
   "cell_type": "markdown",
   "id": "09c04a2e-3eb6-4008-b378-1890b2728d76",
   "metadata": {},
   "source": [
    "### Solution to Question 5"
   ]
  },
  {
   "cell_type": "code",
   "execution_count": 5,
   "id": "2366b168-f263-43ba-affb-1154ae970a23",
   "metadata": {},
   "outputs": [
    {
     "data": {
      "text/plain": [
       "'1010'"
      ]
     },
     "execution_count": 5,
     "metadata": {},
     "output_type": "execute_result"
    }
   ],
   "source": [
    "def binary(decimal):\n",
    "    if decimal == 0:\n",
    "        return 0\n",
    "    binary_str = ''\n",
    "    while decimal > 0:\n",
    "        binary_str = str(decimal % 2) + binary_str\n",
    "        decimal = decimal // 2\n",
    "    return binary_str\n",
    "        \n",
    "\n",
    "\n",
    "binary(10)\n"
   ]
  }
 ],
 "metadata": {
  "kernelspec": {
   "display_name": "Python 3 (ipykernel)",
   "language": "python",
   "name": "python3"
  },
  "language_info": {
   "codemirror_mode": {
    "name": "ipython",
    "version": 3
   },
   "file_extension": ".py",
   "mimetype": "text/x-python",
   "name": "python",
   "nbconvert_exporter": "python",
   "pygments_lexer": "ipython3",
   "version": "3.10.6"
  }
 },
 "nbformat": 4,
 "nbformat_minor": 5
}
