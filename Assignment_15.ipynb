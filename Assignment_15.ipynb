{
 "cells": [
  {
   "cell_type": "raw",
   "id": "91c84fd9-9e35-4f9e-b742-7ac0f90fd54f",
   "metadata": {},
   "source": [
    "1.How many seconds are in an hour? Use the interactive interpreter as a calculator and multiply the number of seconds in a minute (60) by the number of minutes in an hour (also 60).\n",
    "sol. 60 \n",
    "2. Assign the result from the previous task (seconds in an hour) to a variable called seconds_per_hour.\n",
    "3. How many seconds do you think there are in a day? Make use of the variables seconds per hour and minutes per hour.\n",
    "4. Calculate seconds per day again, but this time save the result in a variable called seconds_per_day\n",
    "5. Divide seconds_per_day by seconds_per_hour. Use floating-point (/) division.\n",
    "6. Divide seconds_per_day by seconds_per_hour, using integer (//) division. Did this number agree with the floating-point value from the previous question, aside from the final .0?\n",
    "7. Write a generator, genPrimes, that returns the sequence of prime numbers on successive calls to its next() method: 2, 3, 5, 7, 11, ...\n"
   ]
  },
  {
   "cell_type": "code",
   "execution_count": 1,
   "id": "d2d1f259-6d48-4aab-bceb-0317c34c9749",
   "metadata": {},
   "outputs": [
    {
     "name": "stdout",
     "output_type": "stream",
     "text": [
      "3600\n"
     ]
    }
   ],
   "source": [
    "# Q1. 1.How many seconds are in an hour? Use the interactive interpreter as a calculator and multiply \n",
    "# the number of seconds in a minute (60) by the number of minutes in an hour (also 60).\n",
    "\n",
    "# Q2. Assign the result from the previous task (seconds in an hour) to a variable called seconds_per_hour.\n",
    "\n",
    "# solution\n",
    "number_of_seconds_in_minute = 60\n",
    "number_of_minutes_in_hour = 60\n",
    "seconds_in_hour = number_of_seconds_in_minute * number_of_minutes_in_hour\n",
    "print(seconds_in_hour)"
   ]
  },
  {
   "cell_type": "code",
   "execution_count": 2,
   "id": "537e1cf0-7412-4f00-a049-bd80dbcd463e",
   "metadata": {},
   "outputs": [
    {
     "name": "stdout",
     "output_type": "stream",
     "text": [
      "86400\n"
     ]
    }
   ],
   "source": [
    "# Q3. How many seconds do you think there are in a day? \n",
    "# Make use of the variables seconds per hour and minutes per hour.\n",
    "# Q4. Calculate seconds per day again, but this time save the result in a variable called seconds_per_day\n",
    "\n",
    "# solution\n",
    "number_of_hour_in_day = 24\n",
    "seconds_in_day = seconds_in_hour * number_of_hour_in_day\n",
    "print(seconds_in_day)"
   ]
  },
  {
   "cell_type": "code",
   "execution_count": 3,
   "id": "99495187-e895-4d79-90cd-b1f0037baad3",
   "metadata": {},
   "outputs": [
    {
     "data": {
      "text/plain": [
       "24.0"
      ]
     },
     "execution_count": 3,
     "metadata": {},
     "output_type": "execute_result"
    }
   ],
   "source": [
    "# Q5 5. Divide seconds_per_day by seconds_per_hour. Use floating-point (/) division.\n",
    "\n",
    "# solution\n",
    "seconds_in_day/seconds_in_hour"
   ]
  },
  {
   "cell_type": "code",
   "execution_count": 4,
   "id": "ff9ee55d-3392-4f97-afcc-b5a1161d4c02",
   "metadata": {},
   "outputs": [
    {
     "data": {
      "text/plain": [
       "24"
      ]
     },
     "execution_count": 4,
     "metadata": {},
     "output_type": "execute_result"
    }
   ],
   "source": [
    "# Q6 6. Divide seconds_per_day by seconds_per_hour, using integer (//) division. \n",
    "# Did this number agree with the floating-point value from the previous question, aside from the final .0?\n",
    "\n",
    "#solution \n",
    "seconds_in_day//seconds_in_hour"
   ]
  },
  {
   "cell_type": "code",
   "execution_count": 10,
   "id": "23f15ccc-df9c-4598-8ace-682529452652",
   "metadata": {},
   "outputs": [
    {
     "name": "stdout",
     "output_type": "stream",
     "text": [
      "[2, 3, 5, 7, 11, 13, 17, 19, 23, 29, 31, 37, 41, 43, 47, 53, 59, 61, 67, 71, 73, 79, 83, 89, 97]\n"
     ]
    }
   ],
   "source": [
    "# Q7. Write a generator, genPrimes, that returns the sequence of prime numbers on successive calls to its next() method: 2, 3, 5, 7, 11, ...\n",
    "\n",
    "\n",
    "# solution\n",
    "def prime_generator(end):\n",
    "    for n in range(2, end):     # n starts from 2 to end\n",
    "        for x in range(2, n):   # check if x can be divided by n\n",
    "            if n % x == 0:      # if true then n is not prime\n",
    "                break\n",
    "        else:                   # if x is found after exhausting all values of x\n",
    "            yield n             # generate the prime\n",
    "\n",
    "\n",
    "g = prime_generator(100)       # give firt 1000 prime numbers\n",
    "print(list(g)) "
   ]
  },
  {
   "cell_type": "code",
   "execution_count": null,
   "id": "4d7f6c3d-df41-476c-bdc6-cbc0f45af4fd",
   "metadata": {},
   "outputs": [],
   "source": []
  }
 ],
 "metadata": {
  "kernelspec": {
   "display_name": "Python 3 (ipykernel)",
   "language": "python",
   "name": "python3"
  },
  "language_info": {
   "codemirror_mode": {
    "name": "ipython",
    "version": 3
   },
   "file_extension": ".py",
   "mimetype": "text/x-python",
   "name": "python",
   "nbconvert_exporter": "python",
   "pygments_lexer": "ipython3",
   "version": "3.10.6"
  },
  "widgets": {
   "application/vnd.jupyter.widget-state+json": {
    "state": {},
    "version_major": 2,
    "version_minor": 0
   }
  }
 },
 "nbformat": 4,
 "nbformat_minor": 5
}
