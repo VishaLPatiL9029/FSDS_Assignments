{
 "cells": [
  {
   "cell_type": "markdown",
   "id": "b8a35e9f-afee-4c63-afb4-1021d0b924a1",
   "metadata": {},
   "source": [
    "## Question 1\n",
    "Create a function that takes three parameters where:\n",
    "•\tx is the start of the range (inclusive).\n",
    "•\ty is the end of the range (inclusive).\n",
    "•\tn is the divisor to be checked against.\n",
    "Return an ordered list with numbers in the range that are divisible by the third parameter n. Return an empty list if there are no numbers that are divisible by n.\n",
    "Examples\n",
    "list_operation(1, 10, 3) ➞ [3, 6, 9]\n",
    "\n",
    "list_operation(7, 9, 2) ➞ [8]\n",
    "\n",
    "list_operation(15, 20, 7) ➞ []"
   ]
  },
  {
   "cell_type": "markdown",
   "id": "7fa4e3d3-3436-4e11-b1ee-328b0169777b",
   "metadata": {},
   "source": [
    "### Solution for Question 1"
   ]
  },
  {
   "cell_type": "code",
   "execution_count": 1,
   "id": "2d2e3a19-8f96-4db7-b039-f753ef090831",
   "metadata": {},
   "outputs": [],
   "source": [
    "def list_operation(x, y, n):\n",
    "    divs = [i for i in range(x, y+1) if i % n == 0]\n",
    "    return divs"
   ]
  },
  {
   "cell_type": "code",
   "execution_count": 2,
   "id": "cc3c5109-c507-4735-831e-e9d0abd40a1f",
   "metadata": {},
   "outputs": [
    {
     "data": {
      "text/plain": [
       "[3, 6, 9]"
      ]
     },
     "execution_count": 2,
     "metadata": {},
     "output_type": "execute_result"
    }
   ],
   "source": [
    "list_operation(1, 10, 3)"
   ]
  },
  {
   "cell_type": "code",
   "execution_count": 3,
   "id": "ac7fd7ca-c128-486e-9972-606199a5fad5",
   "metadata": {},
   "outputs": [
    {
     "data": {
      "text/plain": [
       "[8]"
      ]
     },
     "execution_count": 3,
     "metadata": {},
     "output_type": "execute_result"
    }
   ],
   "source": [
    "list_operation(7, 9, 2)"
   ]
  },
  {
   "cell_type": "markdown",
   "id": "0f7595bf-3dfd-412e-8996-20dee1d6a8a4",
   "metadata": {},
   "source": [
    "## Question 2\n",
    "Create a function that takes in two lists and returns True if the second list follows the first list by one element, and False otherwise. In other words, determine if the second list is the first list shifted to the right by 1.\n",
    "Examples\n",
    "simon_says([1, 2], [5, 1]) ➞ True\n",
    "\n",
    "simon_says([1, 2], [5, 5]) ➞ False\n",
    "\n",
    "simon_says([1, 2, 3, 4, 5], [0, 1, 2, 3, 4]) ➞ True\n",
    "\n",
    "simon_says([1, 2, 3, 4, 5], [5, 5, 1, 2, 3]) ➞ False\n",
    "Notes\n",
    "•\tBoth input lists will be of the same length, and will have a minimum length of 2.\n",
    "•\tThe values of the 0-indexed element in the second list and the n-1th indexed element in the first list do not matter.\n"
   ]
  },
  {
   "cell_type": "markdown",
   "id": "bf3ef982-0087-41dd-a38b-4a11f8585f57",
   "metadata": {},
   "source": [
    "### Solution for Question 2"
   ]
  },
  {
   "cell_type": "code",
   "execution_count": 4,
   "id": "fc53c040-5378-4d79-962d-e684e360b76c",
   "metadata": {},
   "outputs": [],
   "source": [
    "def simon_says(x, y):\n",
    "    if x[:-1] == y[1:]:\n",
    "        return True\n",
    "    else:\n",
    "        return False"
   ]
  },
  {
   "cell_type": "code",
   "execution_count": 5,
   "id": "d6e563c4-8c50-4b36-820d-601a00105543",
   "metadata": {},
   "outputs": [
    {
     "data": {
      "text/plain": [
       "True"
      ]
     },
     "execution_count": 5,
     "metadata": {},
     "output_type": "execute_result"
    }
   ],
   "source": [
    "simon_says([1, 2, 3, 4, 5], [0, 1, 2, 3, 4])"
   ]
  },
  {
   "cell_type": "code",
   "execution_count": 6,
   "id": "331cbb35-e9a1-473c-bd5d-d18aea481cb3",
   "metadata": {},
   "outputs": [
    {
     "data": {
      "text/plain": [
       "False"
      ]
     },
     "execution_count": 6,
     "metadata": {},
     "output_type": "execute_result"
    }
   ],
   "source": [
    "simon_says([1, 2, 3, 4, 5], [5, 5, 1, 2, 3])"
   ]
  },
  {
   "cell_type": "markdown",
   "id": "4b8b8fd8-f5f7-47b0-ac46-41cbc4d21087",
   "metadata": {},
   "source": [
    "## Question 3\n",
    "A group of friends have decided to start a secret society. The name will be the first letter of each of their names, sorted in alphabetical order.\n",
    "Create a function that takes in a list of names and returns the name of the secret society.\n",
    "Examples\n",
    "society_name([\"Adam\", \"Sarah\", \"Malcolm\"]) ➞ \"AMS\"\n",
    "\n",
    "society_name([\"Harry\", \"Newt\", \"Luna\", \"Cho\"]) ➞ \"CHLN\"\n",
    "\n",
    "society_name([\"Phoebe\", \"Chandler\", \"Rachel\", \"Ross\", \"Monica\", \"Joey\"])"
   ]
  },
  {
   "cell_type": "markdown",
   "id": "7a665014-310f-4389-a026-2eada901f3e7",
   "metadata": {},
   "source": [
    "### Solution for Question 3"
   ]
  },
  {
   "cell_type": "code",
   "execution_count": 7,
   "id": "18f96e36-b1ec-4a95-87c5-afebb6555702",
   "metadata": {},
   "outputs": [],
   "source": [
    "def society_name(lst):\n",
    "    sec_name = ''\n",
    "    for i in lst:\n",
    "        sec_name = sec_name + i[0]\n",
    "    return sec_name\n",
    "    "
   ]
  },
  {
   "cell_type": "code",
   "execution_count": 8,
   "id": "d0de7d26-8cd9-4f9b-acfd-fe6e123b17c1",
   "metadata": {},
   "outputs": [
    {
     "data": {
      "text/plain": [
       "'ASM'"
      ]
     },
     "execution_count": 8,
     "metadata": {},
     "output_type": "execute_result"
    }
   ],
   "source": [
    "society_name([\"Adam\", \"Sarah\", \"Malcolm\"])"
   ]
  },
  {
   "cell_type": "code",
   "execution_count": 9,
   "id": "3436b782-0f27-47f9-bc5e-1bf968eab740",
   "metadata": {},
   "outputs": [
    {
     "data": {
      "text/plain": [
       "'PCRRMJ'"
      ]
     },
     "execution_count": 9,
     "metadata": {},
     "output_type": "execute_result"
    }
   ],
   "source": [
    "society_name([\"Phoebe\", \"Chandler\", \"Rachel\", \"Ross\", \"Monica\", \"Joey\"])"
   ]
  },
  {
   "cell_type": "markdown",
   "id": "cbb65fb7-d196-4b0c-82ff-8ace0faaa372",
   "metadata": {},
   "source": [
    "## Question 4\n",
    "An isogram is a word that has no duplicate letters. Create a function that takes a string and returns either True or False depending on whether or not it's an \"isogram\".\n",
    "Examples\n",
    "is_isogram(\"Algorism\") ➞ True\n",
    "\n",
    "is_isogram(\"PasSword\") ➞ False\n",
    "#Not case sensitive.\n",
    "is_isogram(\"Consecutive\") ➞ False\n",
    "Notes\n",
    "•\tIgnore letter case (should not be case sensitive).\n",
    "•\tAll test cases contain valid one word strings."
   ]
  },
  {
   "cell_type": "markdown",
   "id": "4bf7369e-2cbe-4a00-8798-996e5d64c888",
   "metadata": {},
   "source": [
    "### Solution for Question 4"
   ]
  },
  {
   "cell_type": "code",
   "execution_count": 10,
   "id": "29734686-2adc-47f2-a635-a94c3e7c77e9",
   "metadata": {},
   "outputs": [],
   "source": [
    "def is_isogram(strng):\n",
    "    strng_list = [i for i in strng.lower()]\n",
    "    if len(strng_list) == len(set(strng_list)):\n",
    "        return True\n",
    "    else:\n",
    "        return False\n",
    "    "
   ]
  },
  {
   "cell_type": "code",
   "execution_count": 11,
   "id": "8315146d-9e12-47cf-91db-5a76a2134da7",
   "metadata": {},
   "outputs": [
    {
     "data": {
      "text/plain": [
       "False"
      ]
     },
     "execution_count": 11,
     "metadata": {},
     "output_type": "execute_result"
    }
   ],
   "source": [
    "is_isogram(\"PasSword\")"
   ]
  },
  {
   "cell_type": "code",
   "execution_count": 12,
   "id": "1c27d5ba-f28c-4949-bc0d-d749e532ba9b",
   "metadata": {},
   "outputs": [
    {
     "data": {
      "text/plain": [
       "False"
      ]
     },
     "execution_count": 12,
     "metadata": {},
     "output_type": "execute_result"
    }
   ],
   "source": [
    "is_isogram(\"Consecutive\")"
   ]
  },
  {
   "cell_type": "markdown",
   "id": "cb019341-3718-4b0c-86ec-b64c8be683cb",
   "metadata": {},
   "source": [
    "## Question 5\n",
    "Create a function that takes a string and returns True or False, depending on whether the characters are in order or not.\n",
    "Examples\n",
    "is_in_order(\"abc\") ➞ True\n",
    "\n",
    "is_in_order(\"edabit\") ➞ False\n",
    "\n",
    "is_in_order(\"123\") ➞ True\n",
    "\n",
    "is_in_order(\"xyzz\") ➞ True\n",
    "Notes\n",
    "You don't have to handle empty strings."
   ]
  },
  {
   "cell_type": "markdown",
   "id": "8f0eefa6-7a25-4227-b941-77a79ce9a2cf",
   "metadata": {},
   "source": [
    "### Solution for Question 5"
   ]
  },
  {
   "cell_type": "code",
   "execution_count": 13,
   "id": "6f1a849b-20a9-4e0c-9176-c2b64bbd6066",
   "metadata": {},
   "outputs": [],
   "source": [
    "def is_in_order(strng):\n",
    "    if [i for i in strng] == sorted(strng):\n",
    "        return True\n",
    "    else:\n",
    "        return False\n",
    "    "
   ]
  },
  {
   "cell_type": "code",
   "execution_count": 14,
   "id": "7515910b-672b-4335-b480-9522ab8d89b3",
   "metadata": {},
   "outputs": [
    {
     "data": {
      "text/plain": [
       "True"
      ]
     },
     "execution_count": 14,
     "metadata": {},
     "output_type": "execute_result"
    }
   ],
   "source": [
    "is_in_order(\"abc\")"
   ]
  },
  {
   "cell_type": "code",
   "execution_count": 15,
   "id": "9ef1e98a-a0c9-4737-9216-eb5784fbbf6e",
   "metadata": {},
   "outputs": [
    {
     "data": {
      "text/plain": [
       "True"
      ]
     },
     "execution_count": 15,
     "metadata": {},
     "output_type": "execute_result"
    }
   ],
   "source": [
    "is_in_order(\"xyzz\")"
   ]
  },
  {
   "cell_type": "code",
   "execution_count": 16,
   "id": "9d909794-ec05-46cc-b94c-c4562660ab5a",
   "metadata": {},
   "outputs": [
    {
     "data": {
      "text/plain": [
       "False"
      ]
     },
     "execution_count": 16,
     "metadata": {},
     "output_type": "execute_result"
    }
   ],
   "source": [
    "is_in_order(\"edabit\")"
   ]
  }
 ],
 "metadata": {
  "kernelspec": {
   "display_name": "Python 3 (ipykernel)",
   "language": "python",
   "name": "python3"
  },
  "language_info": {
   "codemirror_mode": {
    "name": "ipython",
    "version": 3
   },
   "file_extension": ".py",
   "mimetype": "text/x-python",
   "name": "python",
   "nbconvert_exporter": "python",
   "pygments_lexer": "ipython3",
   "version": "3.10.6"
  },
  "widgets": {
   "application/vnd.jupyter.widget-state+json": {
    "state": {},
    "version_major": 2,
    "version_minor": 0
   }
  }
 },
 "nbformat": 4,
 "nbformat_minor": 5
}
