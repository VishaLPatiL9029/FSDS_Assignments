{
 "cells": [
  {
   "cell_type": "markdown",
   "id": "c4109d10-ba65-4f92-8edc-3abd10f5b37d",
   "metadata": {},
   "source": [
    "1. Write a Python Program to Find the Factorial of a Number?\n",
    "2. Write a Python Program to Display the multiplication Table?\n",
    "3. Write a Python Program to Print the Fibonacci sequence?\n",
    "4. Write a Python Program to Check Armstrong Number?\n",
    "5. Write a Python Program to Find Armstrong Number in an Interval?\n",
    "6. Write a Python Program to Find the Sum of Natural Numbers?"
   ]
  },
  {
   "cell_type": "markdown",
   "id": "c7fb467a-0f7a-484e-b76d-2ec29ce80e04",
   "metadata": {},
   "source": [
    "1. Write a Python Program to Find the Factorial of a Number?"
   ]
  },
  {
   "cell_type": "code",
   "execution_count": 4,
   "id": "5cc36da0-a178-4d20-8e68-c1d84e49dc49",
   "metadata": {},
   "outputs": [
    {
     "name": "stdin",
     "output_type": "stream",
     "text": [
      " 5\n"
     ]
    },
    {
     "name": "stdout",
     "output_type": "stream",
     "text": [
      "the factorial of 5 is 120\n"
     ]
    }
   ],
   "source": [
    "#solution\n",
    "num = int(input())\n",
    "factorial = 1\n",
    "if num < 0:\n",
    "    print(\"Factorial doesnot exist for -ve numbers\")\n",
    "elif num == 0:\n",
    "    print(\"Factorila of zero is 1\")\n",
    "else:\n",
    "    for i in range(1, num+1):\n",
    "        factorial = factorial * i\n",
    "    print(f\"the factorial of {num} is {factorial}\")"
   ]
  },
  {
   "cell_type": "markdown",
   "id": "7b0c9a27-308f-45ac-9910-6b49d1b316d8",
   "metadata": {},
   "source": [
    "2. Write a Python Program to Display the multiplication Table?"
   ]
  },
  {
   "cell_type": "code",
   "execution_count": 8,
   "id": "5d60a5b4-714b-439e-8a97-46d3470474ba",
   "metadata": {},
   "outputs": [
    {
     "name": "stdin",
     "output_type": "stream",
     "text": [
      " 4\n"
     ]
    },
    {
     "name": "stdout",
     "output_type": "stream",
     "text": [
      "4 * 1 = 4\n",
      "4 * 2 = 8\n",
      "4 * 3 = 12\n",
      "4 * 4 = 16\n",
      "4 * 5 = 20\n",
      "4 * 6 = 24\n",
      "4 * 7 = 28\n",
      "4 * 8 = 32\n",
      "4 * 9 = 36\n",
      "4 * 10 = 40\n"
     ]
    }
   ],
   "source": [
    "#solution\n",
    "num = int(input())\n",
    "for i in range(1,11):\n",
    "    print(num ,\"*\", i, \"=\", num*i)\n"
   ]
  },
  {
   "cell_type": "markdown",
   "id": "dddcc4ec-9427-47a1-81e6-c63501e3854d",
   "metadata": {},
   "source": [
    "3. Write a Python Program to Print the Fibonacci sequence?"
   ]
  },
  {
   "cell_type": "code",
   "execution_count": 12,
   "id": "d6fc8264-9829-4e90-b7e0-d31b4a9fd1dc",
   "metadata": {},
   "outputs": [
    {
     "name": "stdin",
     "output_type": "stream",
     "text": [
      " 5\n"
     ]
    },
    {
     "name": "stdout",
     "output_type": "stream",
     "text": [
      "0\n",
      "1\n",
      "1\n",
      "2\n",
      "3\n",
      "5\n"
     ]
    }
   ],
   "source": [
    "#solution\n",
    "num = int(input())\n",
    "first = 0\n",
    "second = 1\n",
    "print(first)\n",
    "print(second)\n",
    "for x in range(1,num):\n",
    "    third = first + second\n",
    "    print(third)\n",
    "    first,second=second,third"
   ]
  },
  {
   "cell_type": "markdown",
   "id": "bf59ba9e-a42c-46ad-937f-7e41b766e3ca",
   "metadata": {},
   "source": [
    "4. Write a Python Program to Check Armstrong Number?"
   ]
  },
  {
   "cell_type": "code",
   "execution_count": 8,
   "id": "300df578-a0b5-4f61-a580-5c8bb5da6fb3",
   "metadata": {},
   "outputs": [
    {
     "name": "stdin",
     "output_type": "stream",
     "text": [
      " 789\n"
     ]
    },
    {
     "name": "stdout",
     "output_type": "stream",
     "text": [
      "its not Armstrong number\n"
     ]
    }
   ],
   "source": [
    "#solution\n",
    "num = input()\n",
    "lst = []\n",
    "for i in num:\n",
    "    lst.append(pow(int(i),len(num)))\n",
    "    \n",
    "if sum(lst) == int(num):\n",
    "    print(\"its Armstrong number\")\n",
    "else:\n",
    "    print(\"its not Armstrong number\")"
   ]
  },
  {
   "cell_type": "markdown",
   "id": "9ff45c84-560b-4cda-b58d-bd81233b6e46",
   "metadata": {},
   "source": [
    "5. Write a Python Program to Find Armstrong Number in an Interval?"
   ]
  },
  {
   "cell_type": "code",
   "execution_count": 9,
   "id": "3819bd55-a1aa-4ddb-b66c-c1661e344aba",
   "metadata": {},
   "outputs": [
    {
     "name": "stdin",
     "output_type": "stream",
     "text": [
      " 100\n",
      " 10000\n"
     ]
    },
    {
     "name": "stdout",
     "output_type": "stream",
     "text": [
      "153\n",
      "370\n",
      "371\n",
      "407\n",
      "1634\n",
      "8208\n",
      "9474\n"
     ]
    }
   ],
   "source": [
    "#solution\n",
    "start = int(input())\n",
    "end = int(input())\n",
    "\n",
    "for num in range(start, end):\n",
    "    lst = []\n",
    "    for i in str(num):\n",
    "        lst.append(pow(int(i),len(str(num))))\n",
    "    \n",
    "    if sum(lst) == int(num):\n",
    "        print(num)"
   ]
  },
  {
   "cell_type": "markdown",
   "id": "3e1df506-24d6-4f55-b847-46b4ac225918",
   "metadata": {},
   "source": [
    "6. Write a Python Program to Find the Sum of Natural Numbers?"
   ]
  },
  {
   "cell_type": "code",
   "execution_count": 12,
   "id": "231e9572-7c05-4110-a872-447ad2b2b800",
   "metadata": {},
   "outputs": [
    {
     "name": "stdin",
     "output_type": "stream",
     "text": [
      " 102\n"
     ]
    },
    {
     "name": "stdout",
     "output_type": "stream",
     "text": [
      "5253\n"
     ]
    }
   ],
   "source": [
    "#solution\n",
    "num = int(input())\n",
    "summ = 0\n",
    "for i in range(num+1):\n",
    "    summ = summ + i\n",
    "\n",
    "print(summ)"
   ]
  },
  {
   "cell_type": "code",
   "execution_count": null,
   "id": "43405210-373c-462a-b52d-06281d9b6c9d",
   "metadata": {},
   "outputs": [],
   "source": []
  }
 ],
 "metadata": {
  "kernelspec": {
   "display_name": "Python 3 (ipykernel)",
   "language": "python",
   "name": "python3"
  },
  "language_info": {
   "codemirror_mode": {
    "name": "ipython",
    "version": 3
   },
   "file_extension": ".py",
   "mimetype": "text/x-python",
   "name": "python",
   "nbconvert_exporter": "python",
   "pygments_lexer": "ipython3",
   "version": "3.10.6"
  }
 },
 "nbformat": 4,
 "nbformat_minor": 5
}
