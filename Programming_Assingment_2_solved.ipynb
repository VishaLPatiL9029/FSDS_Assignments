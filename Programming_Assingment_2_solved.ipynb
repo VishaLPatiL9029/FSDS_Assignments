{
 "cells": [
  {
   "cell_type": "markdown",
   "id": "80995d16-480d-4462-8d69-c38dacbba5ca",
   "metadata": {},
   "source": [
    "1. Write a Python program to convert kilometers to miles?\n",
    "2. Write a Python program to convert Celsius to Fahrenheit?\n",
    "3. Write a Python program to display calendar?\n",
    "4. Write a Python program to solve quadratic equation?\n",
    "5. Write a Python program to swap two variables without temp variable?"
   ]
  },
  {
   "cell_type": "markdown",
   "id": "ba0cc571-b9d5-436c-ac30-8c9d98afaf50",
   "metadata": {},
   "source": [
    "1.\tWrite a Python program to convert kilometers to miles?"
   ]
  },
  {
   "cell_type": "code",
   "execution_count": 2,
   "id": "668cace3-4050-495f-9cd3-22802253c57f",
   "metadata": {},
   "outputs": [
    {
     "name": "stdin",
     "output_type": "stream",
     "text": [
      "Enter the value in KMs:  23.99882938\n"
     ]
    },
    {
     "name": "stdout",
     "output_type": "stream",
     "text": [
      "the value in miles is: 14.91217661067998\n"
     ]
    }
   ],
   "source": [
    "#solution\n",
    "value_in_km = float(input(\"Enter the value in KMs: \"))\n",
    "miles = value_in_km * 0.621371\n",
    "\n",
    "print(f\"the value in miles is: {miles}\")\n"
   ]
  },
  {
   "cell_type": "markdown",
   "id": "c0a82f52-dfc3-450f-9b85-ee6b4d91d98a",
   "metadata": {},
   "source": [
    "2.\tWrite a Python program to convert Celsius to Fahrenheit?"
   ]
  },
  {
   "cell_type": "code",
   "execution_count": 10,
   "id": "3261f138-66ea-48ab-8627-945eae662b0f",
   "metadata": {},
   "outputs": [
    {
     "name": "stdin",
     "output_type": "stream",
     "text": [
      "Enter the value  in Celsius:  34\n"
     ]
    },
    {
     "name": "stdout",
     "output_type": "stream",
     "text": [
      "The temp_in_fahrenheit is 93.2 F\n"
     ]
    }
   ],
   "source": [
    "#solution\n",
    "temp_in_celsius = float(input(\"Enter the value  in Celsius: \"))\n",
    "temp_in_fahrenheit = (temp_in_celsius * 1.8) + 32\n",
    "\n",
    "print(f\"The temp_in_fahrenheit is {temp_in_fahrenheit} F\")"
   ]
  },
  {
   "cell_type": "markdown",
   "id": "fb708672-8805-4e09-a51d-a773bed252e6",
   "metadata": {},
   "source": [
    "3.\tWrite a Python program to display calendar?"
   ]
  },
  {
   "cell_type": "code",
   "execution_count": 15,
   "id": "b4d05ac0-7637-4ff3-9a7f-7f393fe3a45d",
   "metadata": {},
   "outputs": [
    {
     "name": "stdin",
     "output_type": "stream",
     "text": [
      "Enter the year:  2022\n",
      "Enter the month:  12\n"
     ]
    },
    {
     "name": "stdout",
     "output_type": "stream",
     "text": [
      "_______________________\n",
      "   December 2022\n",
      "Mo Tu We Th Fr Sa Su\n",
      "          1  2  3  4\n",
      " 5  6  7  8  9 10 11\n",
      "12 13 14 15 16 17 18\n",
      "19 20 21 22 23 24 25\n",
      "26 27 28 29 30 31\n",
      "\n"
     ]
    }
   ],
   "source": [
    "import calendar\n",
    "\n",
    "yy = int(input(\"Enter the year: \"))\n",
    "mm = int(input(\"Enter the month: \"))\n",
    "print(\"_______________________\")\n",
    "print(calendar.month(yy, mm))\n",
    "\n",
    "               "
   ]
  },
  {
   "cell_type": "markdown",
   "id": "70abf9ba-ee17-4810-8cc8-327de2bee64d",
   "metadata": {},
   "source": [
    "4.\tWrite a Python program to solve quadratic equation?"
   ]
  },
  {
   "cell_type": "code",
   "execution_count": 16,
   "id": "efb6cb3a-ff6b-488b-a95f-5e25c6c4399b",
   "metadata": {},
   "outputs": [
    {
     "name": "stdin",
     "output_type": "stream",
     "text": [
      "a=  3\n",
      "b=  4\n",
      "c=  5\n"
     ]
    },
    {
     "name": "stdout",
     "output_type": "stream",
     "text": [
      "The equation has no real solution\n"
     ]
    }
   ],
   "source": [
    "#solution\n",
    "a = int(input('a= ')) \n",
    "b = int(input('b= ')) \n",
    "c = int(input('c= '))\n",
    "\n",
    "d=b**2-4*a*c \n",
    "\n",
    "# the equation can have 3 different types of resaults in  R \n",
    "\n",
    "# If  d<0 :No solution in  R \n",
    "# If  d=0 :The equation has only one solution in  R , x=−b2a \n",
    "# If  d>0 :The equation has two solutions,  x1=−b+d−−√2a  and  x2=−b−d−−√2a\n",
    "if d < 0: \n",
    "    print('The equation has no real solution') \n",
    "elif d == 0: \n",
    "    x=(-b)/(2*a) \n",
    "    print('This equation has one solution ',x) \n",
    "else: \n",
    "    x1 = (-b+math.sqrt(d))/(2*a) \n",
    "    x2 = (-b-math.sqrt(d))/(2*a) \n",
    "    print('This equation has two solutions: ',x1, 'or',x2) "
   ]
  },
  {
   "cell_type": "markdown",
   "id": "48268996-2d02-4849-8879-690c1d469824",
   "metadata": {},
   "source": [
    "5.\tWrite a Python program to swap two variables without temp variable?"
   ]
  },
  {
   "cell_type": "code",
   "execution_count": 19,
   "id": "c61f10ba-c435-4b67-a940-db0d6c427cd5",
   "metadata": {},
   "outputs": [
    {
     "name": "stdin",
     "output_type": "stream",
     "text": [
      " 3\n",
      " 4\n"
     ]
    },
    {
     "name": "stdout",
     "output_type": "stream",
     "text": [
      "4 3\n"
     ]
    }
   ],
   "source": [
    "#solution\n",
    "x = int(input())\n",
    "y = int(input())\n",
    "x, y = y, x\n",
    "\n",
    "print(x, y)"
   ]
  },
  {
   "cell_type": "code",
   "execution_count": null,
   "id": "091fdbe1-fee4-4077-bf10-9ef71315a299",
   "metadata": {},
   "outputs": [],
   "source": []
  }
 ],
 "metadata": {
  "kernelspec": {
   "display_name": "Python 3 (ipykernel)",
   "language": "python",
   "name": "python3"
  },
  "language_info": {
   "codemirror_mode": {
    "name": "ipython",
    "version": 3
   },
   "file_extension": ".py",
   "mimetype": "text/x-python",
   "name": "python",
   "nbconvert_exporter": "python",
   "pygments_lexer": "ipython3",
   "version": "3.10.6"
  }
 },
 "nbformat": 4,
 "nbformat_minor": 5
}
