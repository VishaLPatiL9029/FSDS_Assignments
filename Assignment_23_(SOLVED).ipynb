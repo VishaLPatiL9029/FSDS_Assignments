{
 "cells": [
  {
   "cell_type": "markdown",
   "id": "62ad1f55-bcae-4118-9a55-e30e4672817c",
   "metadata": {},
   "source": [
    "1. What is the result of the code, and why?\n",
    ">>> def func(a, b=6, c=8):\n",
    "print(a, b, c)\n",
    ">>> func(1, 2)\n",
    "\n",
    "2. What is the result of this code, and why?\n",
    ">>> def func(a, b, c=5):\n",
    "print(a, b, c)\n",
    ">>> func(1, c=3, b=2)\n",
    "\n",
    "3. How about this code: what is its result, and why?\n",
    ">>> def func(a, *pargs):\n",
    "print(a, pargs)\n",
    ">>> func(1, 2, 3)\n",
    "\n",
    "4. What does this code print, and why?\n",
    ">>> def func(a, **kargs):\n",
    "print(a, kargs)\n",
    ">>> func(a=1, c=3, b=2)\n",
    "\n",
    "5. What gets printed by this, and explain?\n",
    ">>> def func(a, b, c=8, d=5): print(a, b, c, d)\n",
    ">>> func(1, *(5, 6))\n",
    "\n",
    "6. what is the result of this, and explain?\n",
    ">>> def func(a, b, c): a = 2; b[0] = 'x'; c['a'] = 'y'\n",
    ">>> l=1; m=[1]; n={'a':0}\n",
    ">>> func(l, m, n)\n",
    ">>> l, m, n\n",
    "\n"
   ]
  },
  {
   "cell_type": "code",
   "execution_count": 1,
   "id": "44fc5a2f-6c2f-4ea2-ab23-57ed8ae403f3",
   "metadata": {},
   "outputs": [
    {
     "name": "stdout",
     "output_type": "stream",
     "text": [
      "1 2 8\n"
     ]
    }
   ],
   "source": [
    "## 1. What is the result of the code, and why?\n",
    "def func(a, b=6, c=8):\n",
    "    print(a, b, c)\n",
    "\n",
    "func(1, 2)"
   ]
  },
  {
   "cell_type": "markdown",
   "id": "1baa7d92-6e58-45b6-9d56-27b7555e0e76",
   "metadata": {},
   "source": [
    "# solution\n",
    "\n",
    "the output will 1 2 8.\n",
    "there are three argument given inside the function i.e., a, b, c\n",
    "\n",
    "when we called the funtion, we passed only first 2 aruments i.e., a and b, we didnt pass the third argument.\n",
    "at this moment funtion will consider the default value for the third argument which is c=8\n"
   ]
  },
  {
   "cell_type": "code",
   "execution_count": 2,
   "id": "2b67132d-03b9-447b-9dea-5a485f5979ac",
   "metadata": {},
   "outputs": [
    {
     "name": "stdout",
     "output_type": "stream",
     "text": [
      "1 2 3\n"
     ]
    }
   ],
   "source": [
    "##2. What is the result of this code, and why?\n",
    "def func(a, b, c=5):\n",
    "    print(a, b, c)\n",
    "func(1, c=3, b=2)"
   ]
  },
  {
   "cell_type": "markdown",
   "id": "6dc8b80c-0bb2-42e3-9765-b9beb1d62c2b",
   "metadata": {},
   "source": [
    "# solution\n",
    "\n",
    "the output will 1 2 3.\n",
    "there are three argument given inside the function i.e., a, b, c\n",
    "\n",
    "when we called the funtion, we passed all the 3 aruments with different order, we didnt pass the defalut parameter value for a as compare to b and c. the function managage exectute the program irespective of the order the default parameter values defined inside the paranethesis when funciton is called.\n"
   ]
  },
  {
   "cell_type": "code",
   "execution_count": 3,
   "id": "d156d8b2-c9e8-4442-a06f-55387794f411",
   "metadata": {},
   "outputs": [
    {
     "name": "stdout",
     "output_type": "stream",
     "text": [
      "1 (2, 3)\n"
     ]
    }
   ],
   "source": [
    "## 3. How about this code: what is its result, and why?\n",
    "def func(a, *pargs):\n",
    "    print(a, pargs)\n",
    "func(1, 2, 3)"
   ]
  },
  {
   "cell_type": "raw",
   "id": "30e857d3-cb78-490b-bc99-307539952ed4",
   "metadata": {},
   "source": [
    "# solution\n",
    "\n",
    "the output will 1 (2, 3).\n",
    "there are three argument given inside the function i.e., a, *pargs\n",
    "*pargs is arbitrary argument allow us to pass a varying number of values during a function call.\n",
    "We use an asterisk (*) before the parameter name to denote this kind of argument.\n",
    "\n",
    "when we called the funtion, we passed the 3 aruments. the 1st one will consider as regular function argument and other two will consider as arbitrary arguments."
   ]
  },
  {
   "cell_type": "code",
   "execution_count": 4,
   "id": "ddeca1f1-bbab-4272-9111-2b9be15c3af0",
   "metadata": {},
   "outputs": [
    {
     "name": "stdout",
     "output_type": "stream",
     "text": [
      "1 {'c': 3, 'b': 2}\n"
     ]
    }
   ],
   "source": [
    "## 4. What does this code print, and why?\n",
    "def func(a, **kargs):\n",
    "    print(a, kargs)\n",
    "\n",
    "func(a=1, c=3, b=2)"
   ]
  },
  {
   "cell_type": "markdown",
   "id": "00749129-76ab-46d9-aad7-341a77ad4fb7",
   "metadata": {},
   "source": [
    "#solution\n",
    "\n",
    "**kargs is a keyword argument where you provide a name/number to the variable as you pass it into the function.\n",
    "One can think of the kwargs as being a dictionary that maps each keyword to the value that we pass alongside it.\n",
    "\n",
    "here in above example a is individual argument\n",
    "and c and b are keyword arguments which can be defined with help of **args"
   ]
  },
  {
   "cell_type": "code",
   "execution_count": 7,
   "id": "e011f4ba-2b16-4124-90ce-d73e2efb3a65",
   "metadata": {},
   "outputs": [
    {
     "name": "stdout",
     "output_type": "stream",
     "text": [
      "1 5 6 5\n"
     ]
    }
   ],
   "source": [
    "##5.What gets printed by this, and explain?\n",
    "def func(a, b, c=8, d=5):\n",
    "    print(a, b, c, d)\n",
    "\n",
    "func(1, *(5,6))"
   ]
  },
  {
   "cell_type": "markdown",
   "id": "8038c13f-c7d8-4d27-ac34-b4396116585f",
   "metadata": {},
   "source": [
    "#solution\n",
    "The output of the above is 1 5 6 5. \n",
    "The reason for this is the function expects 4 arguments, but the value for a is provided explicitly whereas for arguments b and c, the function will expand the *(5,6) and consider the value of b as 5 and value of c as 6. Since the default value of d is provided in function declaration d value will be 5. However it is recommended to use the feature of positional arguments at the end."
   ]
  },
  {
   "cell_type": "code",
   "execution_count": 9,
   "id": "7659312e-a1ab-4152-b965-3e68bc73409e",
   "metadata": {},
   "outputs": [
    {
     "data": {
      "text/plain": [
       "(1, ['x'], {'a': 'y'})"
      ]
     },
     "execution_count": 9,
     "metadata": {},
     "output_type": "execute_result"
    }
   ],
   "source": [
    "###6. what is the result of this, and explain?\n",
    "def func(a, b, c): a = 2; b[0] = 'x'; c['a'] = 'y'\n",
    "l=1; m=[1]; n={'a':0}\n",
    "func(l, m, n)\n",
    "l, m, n\n"
   ]
  },
  {
   "cell_type": "markdown",
   "id": "c1357461-fb39-4291-b70f-1d9600f1a414",
   "metadata": {},
   "source": [
    "# solution\n",
    "\n",
    "The output of above code is 1, ['x'], {'a': 'y'}.\n",
    "\n",
    "Even though Python gives importance to indentation, it provides a facility to declare an entire function in one single line, where statements in a function body are sepereated by ;\n",
    "\n",
    "When l,m,n are provided as inputs to the function it modifies the values of l,m,n and sets the value of l=2 ,m=['x'] and n={'a':'y'}."
   ]
  }
 ],
 "metadata": {
  "kernelspec": {
   "display_name": "Python 3 (ipykernel)",
   "language": "python",
   "name": "python3"
  },
  "language_info": {
   "codemirror_mode": {
    "name": "ipython",
    "version": 3
   },
   "file_extension": ".py",
   "mimetype": "text/x-python",
   "name": "python",
   "nbconvert_exporter": "python",
   "pygments_lexer": "ipython3",
   "version": "3.10.6"
  }
 },
 "nbformat": 4,
 "nbformat_minor": 5
}
