{
 "cells": [
  {
   "cell_type": "markdown",
   "id": "a6e7f600-531c-4a5b-b0ee-f4731ab50b42",
   "metadata": {},
   "source": [
    "## Question 1:\n",
    "Please write a program using generator to print the numbers which can be divisible by 5 and 7 between 0 and n in comma separated form while n is input by console.\n",
    "Example:\n",
    "If the following n is given as input to the program:\n",
    "100\n",
    "Then, the output of the program should be:\n",
    "0,35,70"
   ]
  },
  {
   "cell_type": "markdown",
   "id": "faa38023-ce69-44ff-a9a3-39c15c755e60",
   "metadata": {},
   "source": [
    "### Solution for Question 1"
   ]
  },
  {
   "cell_type": "code",
   "execution_count": 1,
   "id": "75c8d136-5669-4c6c-85fc-863d68a96688",
   "metadata": {},
   "outputs": [
    {
     "name": "stdout",
     "output_type": "stream",
     "text": [
      "0, 35, 70, "
     ]
    }
   ],
   "source": [
    "def divby5n7(n):\n",
    "    for i in range(0, n+1):\n",
    "        if (i % 5 == 0) and (i % 7 == 0):\n",
    "            yield i\n",
    "            \n",
    "for i in divby5n7(100):\n",
    "    print(i, end = ', ')"
   ]
  },
  {
   "cell_type": "markdown",
   "id": "327d8f8c-7225-4283-9107-68b8cc40d2b7",
   "metadata": {},
   "source": [
    "## Question 2:\n",
    "Please write a program using generator to print the even numbers between 0 and n in comma separated form while n is input by console.\n",
    "Example:\n",
    "If the following n is given as input to the program:\n",
    "10\n",
    "Then, the output of the program should be:\n",
    "0,2,4,6,8,10"
   ]
  },
  {
   "cell_type": "markdown",
   "id": "0efb0f9f-594a-4ab5-b072-69b82576a164",
   "metadata": {},
   "source": [
    "### Solution for Question 2"
   ]
  },
  {
   "cell_type": "code",
   "execution_count": 2,
   "id": "18c3192c-6ca5-46a2-9d2e-2a13c48aa392",
   "metadata": {},
   "outputs": [
    {
     "name": "stdout",
     "output_type": "stream",
     "text": [
      "0, 2, 4, 6, 8, 10, "
     ]
    }
   ],
   "source": [
    "def even_num(n):\n",
    "    for i in range(0, n+1):\n",
    "        if i % 2 == 0:\n",
    "            yield i\n",
    "            \n",
    "for i in even_num(10):\n",
    "    print(i, end = ', ')"
   ]
  },
  {
   "cell_type": "markdown",
   "id": "be9baa4b-2d18-42dc-93e2-c579a012eb71",
   "metadata": {},
   "source": [
    "## Question 3:\n",
    "The Fibonacci Sequence is computed based on the following formula:\n",
    "f(n)=0 if n=0\n",
    "f(n)=1 if n=1\n",
    "f(n)=f(n-1)+f(n-2) if n>1\n",
    "Please write a program using list comprehension to print the Fibonacci Sequence in comma separated form with a given n input by console.\n",
    "Example:\n",
    "If the following n is given as input to the program:\n",
    "7\n",
    "\n",
    "Then, the output of the program should be:\n",
    "0,1,1,2,3,5,8,13\n"
   ]
  },
  {
   "cell_type": "markdown",
   "id": "d0af067a-e0b3-419a-93e4-b89ce0e8663e",
   "metadata": {},
   "source": [
    "### Solution for Question 3"
   ]
  },
  {
   "cell_type": "code",
   "execution_count": 3,
   "id": "6c80c28a-1570-4169-b01b-b2744009a01b",
   "metadata": {},
   "outputs": [
    {
     "data": {
      "text/plain": [
       "[0, 1, 1, 2, 3, 5, 8, 13]"
      ]
     },
     "execution_count": 3,
     "metadata": {},
     "output_type": "execute_result"
    }
   ],
   "source": [
    "def fibonacci_seq(n):\n",
    "    if n in {0, 1}:\n",
    "        return n\n",
    "    else:\n",
    "        return fibonacci_seq(n - 1) + fibonacci_seq(n - 2)\n",
    "\n",
    "n = 7\n",
    "[fibonacci_seq(n) for n in range(n + 1)]"
   ]
  },
  {
   "cell_type": "markdown",
   "id": "077f50b8-2c41-4b45-bec9-7e44df802996",
   "metadata": {},
   "source": [
    "## Question 4:\n",
    "Assuming that we have some email addresses in the \"username@companyname.com\" format, please write program to print the user name of a given email address. Both user names and company names are composed of letters only.\n",
    "Example:\n",
    "If the following email address is given as input to the program:\n",
    "john@google.com\n",
    "Then, the output of the program should be:\n",
    "john"
   ]
  },
  {
   "cell_type": "markdown",
   "id": "bdaa84c7-578a-4d8b-8b54-1ece2f6b2376",
   "metadata": {},
   "source": [
    "### Solution for Question 4"
   ]
  },
  {
   "cell_type": "code",
   "execution_count": 4,
   "id": "a996f3c5-59de-4f01-bc24-d28aca4b8804",
   "metadata": {},
   "outputs": [
    {
     "data": {
      "text/plain": [
       "'john'"
      ]
     },
     "execution_count": 4,
     "metadata": {},
     "output_type": "execute_result"
    }
   ],
   "source": [
    "s =  'john@google.com'\n",
    "s.split(\"@\")[0]"
   ]
  },
  {
   "cell_type": "markdown",
   "id": "4eefcd2b-4342-4465-8121-9a1e2f3588b1",
   "metadata": {},
   "source": [
    "## Question 5:\n",
    "Define a class named Shape and its subclass Square. The Square class has an init function which takes a length as argument. Both classes have a area function which can print the area of the shape where Shape's area is 0 by default."
   ]
  },
  {
   "cell_type": "markdown",
   "id": "a7495c10-0128-4bd3-9281-30e5e9ff3542",
   "metadata": {},
   "source": [
    "### Solution for Question 5"
   ]
  },
  {
   "cell_type": "code",
   "execution_count": 15,
   "id": "8eb36ee1-bf58-48a9-911c-1b1d0da79fa0",
   "metadata": {},
   "outputs": [
    {
     "name": "stdout",
     "output_type": "stream",
     "text": [
      "9\n"
     ]
    }
   ],
   "source": [
    "class shape():\n",
    "    def __init__(self):\n",
    "        pass\n",
    "        \n",
    "    def area(self):\n",
    "        return 0\n",
    "\n",
    "class square(shape):\n",
    "    def __init__(self, l):\n",
    "        shape.__init__('square')\n",
    "        self.length = l\n",
    "        \n",
    "    def area(self):\n",
    "        return self.length*self.length\n",
    "    \n",
    "    \n",
    "a = square(3)\n",
    "print (a.area())"
   ]
  },
  {
   "cell_type": "code",
   "execution_count": null,
   "id": "983b67bd-c994-485d-927e-9774993d9640",
   "metadata": {},
   "outputs": [],
   "source": []
  },
  {
   "cell_type": "code",
   "execution_count": null,
   "id": "f52fcd77-57fb-415e-b992-ec2d8756ca5e",
   "metadata": {},
   "outputs": [],
   "source": []
  }
 ],
 "metadata": {
  "kernelspec": {
   "display_name": "Python 3 (ipykernel)",
   "language": "python",
   "name": "python3"
  },
  "language_info": {
   "codemirror_mode": {
    "name": "ipython",
    "version": 3
   },
   "file_extension": ".py",
   "mimetype": "text/x-python",
   "name": "python",
   "nbconvert_exporter": "python",
   "pygments_lexer": "ipython3",
   "version": "3.10.6"
  }
 },
 "nbformat": 4,
 "nbformat_minor": 5
}
