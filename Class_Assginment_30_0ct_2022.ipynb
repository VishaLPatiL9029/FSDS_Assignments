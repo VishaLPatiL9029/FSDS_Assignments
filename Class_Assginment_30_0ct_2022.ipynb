{
  "nbformat": 4,
  "nbformat_minor": 0,
  "metadata": {
    "colab": {
      "provenance": [],
      "authorship_tag": "ABX9TyOGVRjxyhfjtgV4Kaow/f1P",
      "include_colab_link": true
    },
    "kernelspec": {
      "name": "python3",
      "display_name": "Python 3"
    },
    "language_info": {
      "name": "python"
    }
  },
  "cells": [
    {
      "cell_type": "markdown",
      "metadata": {
        "id": "view-in-github",
        "colab_type": "text"
      },
      "source": [
        "<a href=\"https://colab.research.google.com/github/VishaLPatiL9029/FSDS_Assignments/blob/main/Class_Assginment_30_0ct_2022.ipynb\" target=\"_parent\"><img src=\"https://colab.research.google.com/assets/colab-badge.svg\" alt=\"Open In Colab\"/></a>"
      ]
    },
    {
      "cell_type": "markdown",
      "source": [
        "## 1. write a function which will take string and return a len of it without using inbuilt function len"
      ],
      "metadata": {
        "id": "tlervUuHtKAq"
      }
    },
    {
      "cell_type": "code",
      "source": [
        "\n",
        "a = str(input(\"Enter the string only: \"))\n",
        "\n",
        "def len_new(a):\n",
        "  counter = 0\n",
        "  for i in a:\n",
        "    counter = counter + 1\n",
        "  print(counter)\n",
        "\n",
        "len_new(a)"
      ],
      "metadata": {
        "colab": {
          "base_uri": "https://localhost:8080/"
        },
        "id": "43Ia-1VD17Yo",
        "outputId": "f5e265a2-f261-4937-9031-365a3fcc9de2"
      },
      "execution_count": 14,
      "outputs": [
        {
          "output_type": "stream",
          "name": "stdout",
          "text": [
            "Enter the string only: vishal\n",
            "6\n"
          ]
        }
      ]
    },
    {
      "cell_type": "markdown",
      "source": [
        "## 2. write a function which  will be able to print an index of list element without using an index function"
      ],
      "metadata": {
        "id": "ouSIPADJtWym"
      }
    },
    {
      "cell_type": "code",
      "source": [
        "# write a function which will be able to print a index of all premitive element which will you pass\n",
        "List = [\"b\", 56, \"strng\", \"stmac\", 34.3, \"joke\"]\n",
        "print(\"mylist: \", List)\n",
        "\n",
        "def index_new(List):\n",
        "  for i in List:\n",
        "    index = list(filter(lambda j: List[j] == i , range(len(List)))) \n",
        "    print(f\"the element {i} have the indexvalue as {index}\")\n",
        "\n",
        "index_new(List)\n"
      ],
      "metadata": {
        "colab": {
          "base_uri": "https://localhost:8080/"
        },
        "id": "Ml8SdIb217gl",
        "outputId": "5daf712f-ba38-42e6-d11c-a7252b2e2f37"
      },
      "execution_count": 8,
      "outputs": [
        {
          "output_type": "stream",
          "name": "stdout",
          "text": [
            "mylist:  ['b', 56, 'strng', 'stmac', 34.3, 'joke']\n",
            "the element b have the indexvalue as [0]\n",
            "the element 56 have the indexvalue as [1]\n",
            "the element strng have the indexvalue as [2]\n",
            "the element stmac have the indexvalue as [3]\n",
            "the element 34.3 have the indexvalue as [4]\n",
            "the element joke have the indexvalue as [5]\n"
          ]
        }
      ]
    },
    {
      "cell_type": "markdown",
      "source": [
        "## 3.write a function which will be able to print an ip address of your system"
      ],
      "metadata": {
        "id": "v2RH7yHNtCYc"
      }
    },
    {
      "cell_type": "code",
      "source": [
        "import socket\n",
        "\n",
        "def my_ip():\n",
        "  hostname = socket.gethostname()\n",
        "  IPAddr = socket.gethostbyname(hostname)\n",
        " \n",
        "  print(\"Your Computer Name is:\" + hostname)\n",
        "  print(\"Your Computer IP Address is:\" + IPAddr)\n",
        "\n",
        "my_ip()"
      ],
      "metadata": {
        "id": "RnAdE38l17i7",
        "colab": {
          "base_uri": "https://localhost:8080/"
        },
        "outputId": "74989b1c-bdc0-4e64-87f4-36acc90820f9"
      },
      "execution_count": 17,
      "outputs": [
        {
          "output_type": "stream",
          "name": "stdout",
          "text": [
            "Your Computer Name is:3d0cb324e33f\n",
            "Your Computer IP Address is:172.28.0.2\n"
          ]
        }
      ]
    },
    {
      "cell_type": "markdown",
      "source": [
        "## 4. write a function which will shutdown your system"
      ],
      "metadata": {
        "id": "IJicAscJs6yl"
      }
    },
    {
      "cell_type": "code",
      "source": [
        "import os\n",
        "def shut_down():\n",
        "  shutdown = input(\"Do you wish to shutdown your computer ? (yes / no): \")\n",
        "  if shutdown == 'no':\n",
        "      exit()\n",
        "  else:\n",
        "      os.system(\"shutdown /s /t 1\")\n",
        "\n",
        "\n",
        "shut_down()"
      ],
      "metadata": {
        "id": "vlYiSnh-17lk",
        "colab": {
          "base_uri": "https://localhost:8080/"
        },
        "outputId": "3a8d820a-2aa2-43f2-f14d-78d24290a508"
      },
      "execution_count": 20,
      "outputs": [
        {
          "name": "stdout",
          "output_type": "stream",
          "text": [
            "Do you wish to shutdown your computer ? (yes / no): no\n"
          ]
        }
      ]
    },
    {
      "cell_type": "markdown",
      "source": [
        "## 5.write a function which will take input as a list with any kind of numeric value and give an out as a multiplication of all the numeric data l = [3.5, 6.56, 4,5,\"sudh\" , \"ineuron\" , 'fsda bootcamp 2.0']"
      ],
      "metadata": {
        "id": "AvPN-eQqsr8R"
      }
    },
    {
      "cell_type": "code",
      "source": [
        "l = [3.5, 6.56, 4,5,\"sudh\" , \"ineuron\" , 'fsda bootcamp 2.0']\n",
        "\n",
        "def mul_func(l):\n",
        "  mul = 1.0\n",
        "  for i in l:\n",
        "    if type(i) == int or type(i) == float:\n",
        "      mul = mul * i \n",
        "  return mul\n",
        "\n",
        "\n",
        "mul_func(l)"
      ],
      "metadata": {
        "colab": {
          "base_uri": "https://localhost:8080/"
        },
        "id": "sk7Hl5wYs7xf",
        "outputId": "6f81187b-7d31-49ae-d50f-c2bc7cc5baca"
      },
      "execution_count": 16,
      "outputs": [
        {
          "output_type": "execute_result",
          "data": {
            "text/plain": [
              "459.19999999999993"
            ]
          },
          "metadata": {},
          "execution_count": 16
        }
      ]
    },
    {
      "cell_type": "markdown",
      "source": [
        "## 6. write a function which will be able to read all the mails "
      ],
      "metadata": {
        "id": "GZZDAnCo-lQj"
      }
    },
    {
      "cell_type": "code",
      "source": [],
      "metadata": {
        "colab": {
          "base_uri": "https://localhost:8080/"
        },
        "id": "VvY89IFpt9t0",
        "outputId": "4f0c922a-2139-4827-e4f0-a00639cc08a4"
      },
      "execution_count": 19,
      "outputs": [
        {
          "output_type": "execute_result",
          "data": {
            "text/plain": [
              "459.19999999999993"
            ]
          },
          "metadata": {},
          "execution_count": 19
        }
      ]
    },
    {
      "cell_type": "code",
      "source": [],
      "metadata": {
        "id": "G30447OS9_HF"
      },
      "execution_count": null,
      "outputs": []
    }
  ]
}