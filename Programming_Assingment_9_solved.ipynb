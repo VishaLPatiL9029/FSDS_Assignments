{
 "cells": [
  {
   "cell_type": "markdown",
   "id": "4d5bce8e-8966-42fa-93a9-e14a163b8342",
   "metadata": {},
   "source": [
    "1. Write a Python program to check if the given number is a Disarium Number?\n",
    "2. Write a Python program to print all disarium numbers between 1 to 100?\n",
    "3. Write a Python program to check if the given number is Happy Number?\n",
    "4. Write a Python program to print all happy numbers between 1 and 100?\n",
    "5. Write a Python program to determine whether the given number is a Harshad Number?\n",
    "6. Write a Python program to print all pronic numbers between 1 and 100?"
   ]
  },
  {
   "cell_type": "markdown",
   "id": "cff2a8aa-b808-4998-b95e-d4624e32b156",
   "metadata": {},
   "source": [
    "1. Write a Python program to check if the given number is a Disarium Number?"
   ]
  },
  {
   "cell_type": "code",
   "execution_count": 24,
   "id": "e4a9471c-7c51-4aaa-8986-65b846cbf84f",
   "metadata": {},
   "outputs": [
    {
     "name": "stdin",
     "output_type": "stream",
     "text": [
      "please enter the number: 25\n"
     ]
    },
    {
     "name": "stdout",
     "output_type": "stream",
     "text": [
      "its not\n"
     ]
    }
   ],
   "source": [
    "#solution\n",
    "numbers = (input(\"please enter the number:\"))\n",
    "new_d = 0\n",
    "for i in numbers:\n",
    "    new_d = new_d + pow(int(i), (numbers.index(i)+1))\n",
    "    \n",
    "if int(numbers) == int(new_d):\n",
    "    print(\"the enter number\", numbers, \"is\", \"Disarium Number\")\n",
    "else:\n",
    "    print(\"its not\")\n"
   ]
  },
  {
   "cell_type": "markdown",
   "id": "375e8ea3-b40d-43e0-baf3-8c997f69d1a2",
   "metadata": {},
   "source": [
    "2. Write a Python program to print all disarium numbers between 1 to 100?"
   ]
  },
  {
   "cell_type": "code",
   "execution_count": 31,
   "id": "d293b1ea-9b4a-4f02-8e48-002498d0d640",
   "metadata": {},
   "outputs": [
    {
     "name": "stdout",
     "output_type": "stream",
     "text": [
      "the number 1 is Disarium Number\n",
      "the number 2 is Disarium Number\n",
      "the number 3 is Disarium Number\n",
      "the number 4 is Disarium Number\n",
      "the number 5 is Disarium Number\n",
      "the number 6 is Disarium Number\n",
      "the number 7 is Disarium Number\n",
      "the number 8 is Disarium Number\n",
      "the number 9 is Disarium Number\n",
      "the number 89 is Disarium Number\n",
      "the number 135 is Disarium Number\n",
      "the number 175 is Disarium Number\n",
      "the number 518 is Disarium Number\n",
      "the number 598 is Disarium Number\n"
     ]
    }
   ],
   "source": [
    "# solution\n",
    "for joke in range(1,101):\n",
    "    new_d = 0\n",
    "    for i in list(str(joke)):\n",
    "        new_d = new_d + pow(int(i), (str(joke).index(i)+1))\n",
    "\n",
    "    if int(joke) == int(new_d):\n",
    "        print(\"the number\", joke, \"is\", \"Disarium Number\")\n",
    "    else:\n",
    "        pass"
   ]
  },
  {
   "cell_type": "markdown",
   "id": "21d564e2-5548-4e8c-91e7-ab889bd0d64c",
   "metadata": {},
   "source": [
    "3. Write a Python program to check if the given number is Happy Number?"
   ]
  },
  {
   "cell_type": "code",
   "execution_count": 76,
   "id": "5324dc43-bb85-415c-b8b3-d24079a464b1",
   "metadata": {},
   "outputs": [],
   "source": [
    "#solution\n",
    "def sumofdigits(n):\n",
    "    lst = []\n",
    "    for i in str(n):\n",
    "        lst.append(int(i)**2)\n",
    "    return(sum(lst))\n",
    "    \n",
    "def isHappy(n):\n",
    "    s=set()\n",
    "    s.add(n)\n",
    "    while True:\n",
    "        if (n == 1):\n",
    "            return True;\n",
    "        n = sumofdigits(n)\n",
    "        if n in s:\n",
    "            return False\n",
    "        s.add(n)\n",
    "    return false;\n",
    " \n",
    "\n",
    "n = 23\n",
    "if (isHappy(n)):\n",
    "    print(\"Yes\")\n",
    "else:\n",
    "    print(\"No\")       "
   ]
  },
  {
   "cell_type": "markdown",
   "id": "d5ca1da0-d6ed-4840-be8f-358b67865209",
   "metadata": {},
   "source": [
    "4. Write a Python program to print all happy numbers between 1 and 100?"
   ]
  },
  {
   "cell_type": "code",
   "execution_count": 90,
   "id": "ff08bd1b-f194-4ca6-bb9d-d12b63096aba",
   "metadata": {},
   "outputs": [
    {
     "name": "stdout",
     "output_type": "stream",
     "text": [
      "1\n",
      "7\n",
      "10\n",
      "13\n",
      "19\n",
      "23\n",
      "28\n",
      "31\n",
      "32\n",
      "44\n",
      "49\n",
      "68\n",
      "70\n",
      "79\n",
      "82\n",
      "86\n",
      "91\n",
      "94\n",
      "97\n"
     ]
    }
   ],
   "source": [
    "#solution\n",
    "for i in range(1, 100):\n",
    "    if isHappy(i):\n",
    "        print(i)"
   ]
  },
  {
   "cell_type": "markdown",
   "id": "439f49a2-254f-4819-b488-fd54fb254064",
   "metadata": {},
   "source": [
    "5. Write a Python program to determine whether the given number is a Harshad Number?"
   ]
  },
  {
   "cell_type": "code",
   "execution_count": 95,
   "id": "3a325cd7-ffd5-4e9e-84a3-787747fb04cc",
   "metadata": {},
   "outputs": [
    {
     "name": "stdout",
     "output_type": "stream",
     "text": [
      "the number is harshad number\n"
     ]
    }
   ],
   "source": [
    "#solution\n",
    "\n",
    "n = 4995\n",
    "\n",
    "def sumofdigits(n):\n",
    "    lst = []\n",
    "    for i in str(n):\n",
    "        lst.append(int(i))\n",
    "    return(sum(lst))\n",
    "\n",
    "\n",
    "if n % sumofdigits(n) == 0:\n",
    "    print(\"The number is harshad number\")\n",
    "else:\n",
    "    print(\"no, its not The harshad number\")"
   ]
  },
  {
   "cell_type": "markdown",
   "id": "5151367e-d46c-4d80-9212-e58fa4365656",
   "metadata": {},
   "source": [
    "6. Write a Python program to print all pronic numbers between 1 and 100?"
   ]
  },
  {
   "cell_type": "code",
   "execution_count": 100,
   "id": "b02b175c-68ae-4ab9-9dbd-f911c6e1e518",
   "metadata": {},
   "outputs": [
    {
     "name": "stdout",
     "output_type": "stream",
     "text": [
      "The number 1 is harshad number\n",
      "The number 2 is harshad number\n",
      "The number 3 is harshad number\n",
      "The number 4 is harshad number\n",
      "The number 5 is harshad number\n",
      "The number 6 is harshad number\n",
      "The number 7 is harshad number\n",
      "The number 8 is harshad number\n",
      "The number 9 is harshad number\n",
      "The number 10 is harshad number\n",
      "The number 12 is harshad number\n",
      "The number 18 is harshad number\n",
      "The number 20 is harshad number\n",
      "The number 21 is harshad number\n",
      "The number 24 is harshad number\n",
      "The number 27 is harshad number\n",
      "The number 30 is harshad number\n",
      "The number 36 is harshad number\n",
      "The number 40 is harshad number\n",
      "The number 42 is harshad number\n",
      "The number 45 is harshad number\n",
      "The number 48 is harshad number\n",
      "The number 50 is harshad number\n",
      "The number 54 is harshad number\n",
      "The number 60 is harshad number\n",
      "The number 63 is harshad number\n",
      "The number 70 is harshad number\n",
      "The number 72 is harshad number\n",
      "The number 80 is harshad number\n",
      "The number 81 is harshad number\n",
      "The number 84 is harshad number\n",
      "The number 90 is harshad number\n"
     ]
    }
   ],
   "source": [
    "#solution\n",
    "\n",
    "for n in range(1, 100):\n",
    "    if n % sumofdigits(n) == 0:\n",
    "        print(f\"The number {n} is harshad number\")\n",
    "    else:\n",
    "        pass"
   ]
  },
  {
   "cell_type": "code",
   "execution_count": null,
   "id": "a021e601-e445-4604-bb80-230ef9dd532d",
   "metadata": {},
   "outputs": [],
   "source": []
  }
 ],
 "metadata": {
  "kernelspec": {
   "display_name": "Python 3 (ipykernel)",
   "language": "python",
   "name": "python3"
  },
  "language_info": {
   "codemirror_mode": {
    "name": "ipython",
    "version": 3
   },
   "file_extension": ".py",
   "mimetype": "text/x-python",
   "name": "python",
   "nbconvert_exporter": "python",
   "pygments_lexer": "ipython3",
   "version": "3.10.6"
  }
 },
 "nbformat": 4,
 "nbformat_minor": 5
}
