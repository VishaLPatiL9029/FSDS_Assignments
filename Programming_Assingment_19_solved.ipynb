{
 "cells": [
  {
   "cell_type": "markdown",
   "id": "66c499ef-5c3b-4a11-b1e2-26a08c882a5b",
   "metadata": {},
   "source": [
    "## Question1\n",
    "Create a function that takes a string and returns a string in which each character is repeated once.\n",
    "Examples\n",
    "double_char(\"String\") ➞ \"SSttrriinngg\"\n",
    "\n",
    "double_char(\"Hello World!\") ➞ \"HHeelllloo  WWoorrlldd!!\"\n",
    "\n",
    "double_char(\"1234!_ \") ➞ \"11223344!!__  \""
   ]
  },
  {
   "cell_type": "markdown",
   "id": "71621e12-f466-44cd-876e-b6ca3cce5dcc",
   "metadata": {},
   "source": [
    "### Solution to Question 1"
   ]
  },
  {
   "cell_type": "code",
   "execution_count": 1,
   "id": "d06f8ab8-9c5a-43ac-ac18-775dafc77651",
   "metadata": {},
   "outputs": [],
   "source": [
    "def double_char(strng):\n",
    "    returning = ''\n",
    "    for i in strng:\n",
    "        returning = returning + i*2\n",
    "    return returning"
   ]
  },
  {
   "cell_type": "code",
   "execution_count": 2,
   "id": "09e74e5c-412f-4d9a-b6b0-3094b7e761ad",
   "metadata": {},
   "outputs": [
    {
     "data": {
      "text/plain": [
       "'HHeelllloo  WWoorrlldd!!'"
      ]
     },
     "execution_count": 2,
     "metadata": {},
     "output_type": "execute_result"
    }
   ],
   "source": [
    "double_char(\"Hello World!\")"
   ]
  },
  {
   "cell_type": "markdown",
   "id": "c9364d12-a523-42f8-9e0c-f93c2b5fe590",
   "metadata": {},
   "source": [
    "## Question 2\n",
    "Create a function that reverses a boolean value and returns the string \"boolean expected\" if another variable type is given.\n",
    "Examples\n",
    "reverse(True) ➞ False\n",
    "\n",
    "reverse(False) ➞ True\n",
    "\n",
    "reverse(0) ➞ \"boolean expected\"\n",
    "\n",
    "reverse(None) ➞ \"boolean expected\""
   ]
  },
  {
   "cell_type": "markdown",
   "id": "e66d3274-1e54-435f-b0a4-f18ae7d95f34",
   "metadata": {},
   "source": [
    "### Solution to Question 2"
   ]
  },
  {
   "cell_type": "code",
   "execution_count": 3,
   "id": "853946ff-fcb3-426c-a822-d09346eeebf2",
   "metadata": {},
   "outputs": [],
   "source": [
    "def reverse(a):\n",
    "    if type(a) != bool:\n",
    "        return \"boolean expected\"\n",
    "    else:\n",
    "        return not a\n",
    "        "
   ]
  },
  {
   "cell_type": "code",
   "execution_count": 4,
   "id": "be75e918-0738-4fa9-935d-f7fd13dd0ad9",
   "metadata": {},
   "outputs": [
    {
     "data": {
      "text/plain": [
       "False"
      ]
     },
     "execution_count": 4,
     "metadata": {},
     "output_type": "execute_result"
    }
   ],
   "source": [
    "reverse(True)"
   ]
  },
  {
   "cell_type": "markdown",
   "id": "92527885-2691-4c5b-a6b2-800905a95272",
   "metadata": {},
   "source": [
    "## Question 3\n",
    "Create a function that returns the thickness (in meters) of a piece of paper after folding it n number of times. The paper starts off with a thickness of 0.5mm.\n",
    "Examples\n",
    "num_layers(1) ➞ \"0.001m\"\n",
    "#Paper folded once is 1mm (equal to 0.001m)\n",
    "\n",
    "num_layers(4) ➞ \"0.008m\"\n",
    "#Paper folded 4 times is 8mm (equal to 0.008m)\n",
    "\n",
    "num_layers(21) ➞ \"1048.576m\"\n",
    "#Paper folded 21 times is 1048576mm (equal to 1048.576m)"
   ]
  },
  {
   "cell_type": "markdown",
   "id": "6a0601b1-9f19-445d-9eb6-f322c05c0c11",
   "metadata": {},
   "source": [
    "### Solution to Question 3"
   ]
  },
  {
   "cell_type": "code",
   "execution_count": 5,
   "id": "07e6461c-c5de-49a6-ac0d-b723d7f50dee",
   "metadata": {},
   "outputs": [
    {
     "data": {
      "text/plain": [
       "'0.001m'"
      ]
     },
     "execution_count": 5,
     "metadata": {},
     "output_type": "execute_result"
    }
   ],
   "source": [
    "def num_layers(n):\n",
    "    thickness = 0.0005\n",
    "    for i in range(n):\n",
    "        thickness *= 2\n",
    "    return '{:.3f}m'.format(thickness)\n",
    "\n",
    "num_layers(1)"
   ]
  },
  {
   "cell_type": "markdown",
   "id": "0a26a0d5-7142-4dca-8e7f-3b2d777f8250",
   "metadata": {},
   "source": [
    "## Question 4\n",
    "Create a function that takes a single string as argument and returns an ordered list containing the indices of all capital letters in the string.\n",
    "Examples\n",
    "index_of_caps(\"eDaBiT\") ➞ [1, 3, 5]\n",
    "\n",
    "index_of_caps(\"eQuINoX\") ➞ [1, 3, 4, 6]\n",
    "\n",
    "index_of_caps(\"determine\") ➞ []\n",
    "\n",
    "index_of_caps(\"STRIKE\") ➞ [0, 1, 2, 3, 4, 5]\n",
    "\n",
    "index_of_caps(\"sUn\") ➞ [1]"
   ]
  },
  {
   "cell_type": "markdown",
   "id": "d80ee4cd-4f07-43ad-943a-5931ac237a21",
   "metadata": {},
   "source": [
    "### Solution to Question 4"
   ]
  },
  {
   "cell_type": "code",
   "execution_count": 6,
   "id": "5e9142fb-e5a8-4547-a724-e47849604783",
   "metadata": {},
   "outputs": [
    {
     "data": {
      "text/plain": [
       "[0, 1, 2, 3, 4, 5]"
      ]
     },
     "execution_count": 6,
     "metadata": {},
     "output_type": "execute_result"
    }
   ],
   "source": [
    "def index_of_caps(strng):\n",
    "    indexs = []\n",
    "    for i in strng:\n",
    "        if i.isupper():\n",
    "            indexs.append(strng.index(i))\n",
    "    return indexs\n",
    "\n",
    "index_of_caps(\"STRIKE\")"
   ]
  },
  {
   "cell_type": "markdown",
   "id": "2481ea94-452a-441d-9fda-5110f2abd88a",
   "metadata": {},
   "source": [
    "## Question 5\n",
    "Using list comprehensions, create a function that finds all even numbers from 1 to the given number.\n",
    "Examples\n",
    "find_even_nums(8) ➞ [2, 4, 6, 8]\n",
    "\n",
    "find_even_nums(4) ➞ [2, 4]\n",
    "\n",
    "find_even_nums(2) ➞ [2]"
   ]
  },
  {
   "cell_type": "markdown",
   "id": "8250e289-4085-4dfa-a29b-81f2bbd89d77",
   "metadata": {},
   "source": [
    "### Solution to Question 5"
   ]
  },
  {
   "cell_type": "code",
   "execution_count": 9,
   "id": "655954eb-e89e-4b86-a9e5-205e01472b11",
   "metadata": {},
   "outputs": [
    {
     "data": {
      "text/plain": [
       "[2, 4, 6, 8]"
      ]
     },
     "execution_count": 9,
     "metadata": {},
     "output_type": "execute_result"
    }
   ],
   "source": [
    "def find_even_nums(num):\n",
    "    lst = [i for i in range(1, num+1) if i % 2 == 0]\n",
    "    return lst\n",
    "\n",
    "find_even_nums(9)"
   ]
  },
  {
   "cell_type": "code",
   "execution_count": 10,
   "id": "7d5c39d8-555f-4873-be9e-e45cf4a6aaa6",
   "metadata": {},
   "outputs": [
    {
     "data": {
      "text/plain": [
       "[2, 4]"
      ]
     },
     "execution_count": 10,
     "metadata": {},
     "output_type": "execute_result"
    }
   ],
   "source": [
    "find_even_nums(4)"
   ]
  },
  {
   "cell_type": "code",
   "execution_count": null,
   "id": "aae85df3-c131-46b6-9b72-999599ba0f15",
   "metadata": {},
   "outputs": [],
   "source": []
  },
  {
   "cell_type": "code",
   "execution_count": null,
   "id": "80bab2a1-c4b1-42e3-b68a-10a0c7e53551",
   "metadata": {},
   "outputs": [],
   "source": []
  }
 ],
 "metadata": {
  "kernelspec": {
   "display_name": "Python 3 (ipykernel)",
   "language": "python",
   "name": "python3"
  },
  "language_info": {
   "codemirror_mode": {
    "name": "ipython",
    "version": 3
   },
   "file_extension": ".py",
   "mimetype": "text/x-python",
   "name": "python",
   "nbconvert_exporter": "python",
   "pygments_lexer": "ipython3",
   "version": "3.10.6"
  }
 },
 "nbformat": 4,
 "nbformat_minor": 5
}
