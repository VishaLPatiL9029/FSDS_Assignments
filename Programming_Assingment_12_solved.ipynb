{
 "cells": [
  {
   "cell_type": "markdown",
   "id": "ff3cc395-f3d5-4169-9e08-e8b5ed16e85b",
   "metadata": {},
   "source": [
    "1. Write a Python program to Extract Unique values dictionary values?\n",
    "2. Write a Python program to find the sum of all items in a dictionary?\n",
    "3. Write a Python program to Merging two Dictionaries?\n",
    "4. Write a Python program to convert key-values list to flat dictionary?\n",
    "5. Write a Python program to insertion at the beginning in OrderedDict?\n",
    "6. Write a Python program to check order of character in string using OrderedDict()?\n",
    "7. Write a Python program to sort Python Dictionaries by Key or Value?"
   ]
  },
  {
   "cell_type": "markdown",
   "id": "8db5995d-2b31-419a-8747-2ac90a1e642e",
   "metadata": {},
   "source": [
    "1. Write a Python program to Extract Unique values dictionary values?"
   ]
  },
  {
   "cell_type": "code",
   "execution_count": 1,
   "id": "635b7453-739a-4f5f-a1c9-81018c53c545",
   "metadata": {},
   "outputs": [
    {
     "name": "stdout",
     "output_type": "stream",
     "text": [
      "[1, 2, 3, 4, 5, 6, 7, 8, 9, 10]\n"
     ]
    }
   ],
   "source": [
    "#Solution\n",
    "dict_1 = {\"vishal\": [1,3,4,6,7,8,9,10],\n",
    "          \"vinod\": [5,6,8,4,3,2,3,5],\n",
    "          \"dhanu\": [9,5,6,4,3,2,5,4]}\n",
    "          \n",
    "x=[]\n",
    "for i in dict_1.keys():\n",
    "    x.extend(dict_1[i])\n",
    "x=list(set(x))\n",
    "x.sort()\n",
    "print(x)"
   ]
  },
  {
   "cell_type": "markdown",
   "id": "aa08d0ab-43a9-4b5b-a7bc-10c6c5f3b7b5",
   "metadata": {},
   "source": [
    "2. Write a Python program to find the sum of all items in a dictionary?"
   ]
  },
  {
   "cell_type": "code",
   "execution_count": 2,
   "id": "08ffe6b2-946e-4f41-934c-d368e66b259f",
   "metadata": {},
   "outputs": [
    {
     "name": "stdout",
     "output_type": "stream",
     "text": [
      "[[1, 3, 4, 6, 7, 8, 9, 10], [5, 6, 8, 4, 3, 2, 3, 5], [9, 5, 6, 4, 3, 2, 5, 4]]\n",
      "[1, 3, 4, 6, 7, 8, 9, 10, 5, 6, 8, 4, 3, 2, 3, 5, 9, 5, 6, 4, 3, 2, 5, 4]\n",
      "sum of the all the items in dictionary is 122.\n"
     ]
    }
   ],
   "source": [
    "# solution\n",
    "dict_1 = {\"vishal\": [1,3,4,6,7,8,9,10],\n",
    "          \"vinod\": [5,6,8,4,3,2,3,5],\n",
    "          \"dhanu\": [9,5,6,4,3,2,5,4]}\n",
    "lst = []\n",
    "lst_1 = []\n",
    "for i in dict_1:\n",
    "    lst.append(dict_1[i])\n",
    "    \n",
    "for j in lst:\n",
    "    for i in j:\n",
    "        lst_1.append(i)\n",
    "        final = sum(lst_1)\n",
    "\n",
    "print (lst)\n",
    "print (lst_1)\n",
    "print(f\"sum of the all the items in dictionary is {final}.\")"
   ]
  },
  {
   "cell_type": "markdown",
   "id": "4112c3ae-9c0a-4866-bc52-09e66d6926fe",
   "metadata": {},
   "source": [
    "3. Write a Python program to Merging two Dictionaries?"
   ]
  },
  {
   "cell_type": "code",
   "execution_count": 15,
   "id": "f456a51e-e870-4626-92c5-d16dd934f91e",
   "metadata": {},
   "outputs": [
    {
     "name": "stdout",
     "output_type": "stream",
     "text": [
      "{'vishal': [1, 3, 4, 6, 7, 8, 9, 10], 'vinod': [5, 6, 8, 4, 3, 2, 3, 5], 'dhanu': [9, 5, 6, 4, 3, 2, 5, 4], 'shivani': [1, 3, 5, 7, 9, 7, 5, 3, 6, 6], 'kiran': [2, 3, 4, 6, 7, 4, 3, 1, 2, 3]}\n"
     ]
    }
   ],
   "source": [
    "#solution\n",
    "dict_1 = {\"vishal\": [1,3,4,6,7,8,9,10],\n",
    "          \"vinod\": [5,6,8,4,3,2,3,5],\n",
    "          \"dhanu\": [9,5,6,4,3,2,5,4]}\n",
    "dict_2 = {\"shivani\" : [1,3,5,7,9,7,5,3,6,6],\n",
    "          \"kiran\" : [2,3,4,6,7,4,3,1,2,3]}\n",
    "\n",
    "dict_1.update(dict_2)\n",
    "\n",
    "print(dict_1)"
   ]
  },
  {
   "cell_type": "markdown",
   "id": "1942258f-4e57-4c8b-892a-446d4925e4d5",
   "metadata": {},
   "source": [
    "4. Write a Python program to convert key-values list to flat dictionary?"
   ]
  },
  {
   "cell_type": "code",
   "execution_count": 18,
   "id": "6d568dda-d9f6-44cf-b3de-6800f1a6c58b",
   "metadata": {},
   "outputs": [
    {
     "name": "stdout",
     "output_type": "stream",
     "text": [
      "The flattened dictionary is {1: 'Jan', 2: 'Feb', 3: 'March', 4: 'Apr', 5: 'May', 6: 'June'} \n"
     ]
    }
   ],
   "source": [
    "#solution\n",
    "my_dict = {'month_num' : [1, 2, 3, 4, 5, 6], \n",
    "           'name_of_month' : ['Jan', 'Feb', 'March', 'Apr', 'May', 'June']}\n",
    "\n",
    "my_result = dict(zip(my_dict['month_num'], my_dict['name_of_month']))\n",
    "\n",
    "print(f\"The flattened dictionary is {my_result} \")\n"
   ]
  },
  {
   "cell_type": "markdown",
   "id": "6888e312-74f9-473f-82e2-0fddb631c940",
   "metadata": {},
   "source": [
    "5. Write a Python program to insertion at the beginning in OrderedDict?"
   ]
  },
  {
   "cell_type": "code",
   "execution_count": 22,
   "id": "ec6832de-0339-4b97-8ae8-0bc53841843e",
   "metadata": {},
   "outputs": [
    {
     "name": "stdout",
     "output_type": "stream",
     "text": [
      "OrderedDict([('vinod', '3'), ('vishal', '1'), ('dhanu', '2')])\n"
     ]
    }
   ],
   "source": [
    "#Solution\n",
    "from collections import OrderedDict\n",
    "\n",
    "O_dict = OrderedDict([('vishal', '1'), ('dhanu', '2')])\n",
    "\n",
    "\n",
    "O_dict.update({'vinod':'3'})\n",
    "O_dict.move_to_end('vinod', last = False)\n",
    "\n",
    "\n",
    "print(O_dict)\n"
   ]
  },
  {
   "cell_type": "markdown",
   "id": "e1e32872-c9c5-4615-8874-b4738dc14406",
   "metadata": {},
   "source": [
    "6. Write a Python program to check order of character in string using OrderedDict()?"
   ]
  },
  {
   "cell_type": "code",
   "execution_count": 32,
   "id": "0c84377a-5cbe-462c-a140-53b37424a209",
   "metadata": {},
   "outputs": [
    {
     "name": "stdout",
     "output_type": "stream",
     "text": [
      "false\n"
     ]
    }
   ],
   "source": [
    "#Solution\n",
    "from collections import OrderedDict\n",
    "\n",
    "inpt = 'engineers rock'\n",
    "pattern = 'er'\n",
    "dict_input = OrderedDict.fromkeys(inpt)\n",
    "\n",
    "\n",
    "ptrnlen = 0\n",
    "for key,value in dict_input.items():\n",
    "    if (key == pattern[ptrnlen]):\n",
    "        ptrnlen = ptrnlen + 1\n",
    "    if (ptrnlen == (len(pattern))):\n",
    "        print('true')\n",
    "        break\n",
    "else:\n",
    "    print('false')\n"
   ]
  },
  {
   "cell_type": "markdown",
   "id": "c3b26593-5f1e-4975-b53a-cab276b0aef7",
   "metadata": {},
   "source": [
    "7. Write a Python program to sort Python Dictionaries by Key or Value?"
   ]
  },
  {
   "cell_type": "code",
   "execution_count": 35,
   "id": "eb873086-3a86-475e-abee-3c5f8167a516",
   "metadata": {},
   "outputs": [
    {
     "name": "stdout",
     "output_type": "stream",
     "text": [
      "{'dhanu': [9, 5, 6, 4, 3, 2, 5, 4], 'kiran': [2, 3, 4, 6, 7, 4, 3, 1, 2, 3], 'shivani': [1, 3, 5, 7, 9, 7, 5, 3, 6, 6], 'vinod': [5, 6, 8, 4, 3, 2, 3, 5], 'vishal': [1, 3, 4, 6, 7, 8, 9, 10]}\n"
     ]
    }
   ],
   "source": [
    "#solution\n",
    "\n",
    "mydict = {'vishal': [1, 3, 4, 6, 7, 8, 9, 10], \n",
    "          'vinod': [5, 6, 8, 4, 3, 2, 3, 5], \n",
    "          'dhanu': [9, 5, 6, 4, 3, 2, 5, 4], \n",
    "          'shivani': [1, 3, 5, 7, 9, 7, 5, 3, 6, 6], \n",
    "          'kiran': [2, 3, 4, 6, 7, 4, 3, 1, 2, 3]}\n",
    "\n",
    "mykeys = list(mydict.keys())\n",
    "mykeys.sort()\n",
    "sorted_dict = {i: mydict[i] for i in mykeys}\n",
    "\n",
    "print(sorted_dict)\n"
   ]
  },
  {
   "cell_type": "code",
   "execution_count": null,
   "id": "78991824-d2ff-4d47-bd98-733972e1ca49",
   "metadata": {},
   "outputs": [],
   "source": []
  }
 ],
 "metadata": {
  "kernelspec": {
   "display_name": "Python 3 (ipykernel)",
   "language": "python",
   "name": "python3"
  },
  "language_info": {
   "codemirror_mode": {
    "name": "ipython",
    "version": 3
   },
   "file_extension": ".py",
   "mimetype": "text/x-python",
   "name": "python",
   "nbconvert_exporter": "python",
   "pygments_lexer": "ipython3",
   "version": "3.10.6"
  }
 },
 "nbformat": 4,
 "nbformat_minor": 5
}
