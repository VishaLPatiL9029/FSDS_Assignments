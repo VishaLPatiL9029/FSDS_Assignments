{
 "cells": [
  {
   "cell_type": "markdown",
   "id": "57091d8d-e90c-407d-84a4-d6d73c1e1388",
   "metadata": {},
   "source": [
    "1. Make a class called Thing with no contents and print it. Then, create an object called example from this class and also print it. Are the printed values the same or different?\n",
    "2. Create a new class called Thing2 and add the value 'abc' to the letters class attribute. Letters should be printed.\n",
    "3. Make yet another class called, of course, Thing3. This time, assign the value 'xyz' to an instance (object) attribute called letters. Print letters. Do you need to make an object from the class to do this?\n",
    "4. Create an Element class with the instance attributes name, symbol, and number. Create a class object with the values 'Hydrogen,' 'H,' and 1.\n",
    "5. Make a dictionary with these keys and values: 'name': 'Hydrogen', 'symbol': 'H', 'number': 1. Then, create an object called hydrogen from class Element using this dictionary.\n",
    "6. For the Element class, define a method called dump() that prints the values of the object’s attributes (name, symbol, and number). Create the hydrogen object from this new definition and use dump() to print its attributes.\n",
    "7. Call print(hydrogen). In the definition of Element, change the name of method dump to __str__, create a new hydrogen object, and call print(hydrogen) again.\n",
    "8. Modify Element to make the attributes name, symbol, and number private. Define a getter property for each to return its value.\n",
    "9. Define three classes: Bear, Rabbit, and Octothorpe. For each, define only one method: eats(). This should return 'berries' (Bear), 'clover' (Rabbit), or 'campers' (Octothorpe). Create one object from each and print what it eats.\n",
    "10. Define these classes: Laser, Claw, and SmartPhone. Each has only one method: does(). This returns 'disintegrate' (Laser), 'crush' (Claw), or 'ring' (SmartPhone). Then, define the class Robot that has one instance (object) of each of these. Define a does() method for the Robot that prints what its component objects do.\n"
   ]
  },
  {
   "cell_type": "markdown",
   "id": "c00afd77-8720-4de9-932c-5b54226df0eb",
   "metadata": {},
   "source": [
    "1. Make a class called Thing with no contents and print it. Then, create an object called example from this class and also print it. Are the printed values the same or different?"
   ]
  },
  {
   "cell_type": "code",
   "execution_count": 1,
   "id": "072c2188-40af-4138-8d33-47c8e4e216e8",
   "metadata": {},
   "outputs": [],
   "source": [
    "#solution\n",
    "class thing:\n",
    "    pass\n"
   ]
  },
  {
   "cell_type": "code",
   "execution_count": 2,
   "id": "03a3e98f-7666-4ce2-a476-d4544a3d573a",
   "metadata": {},
   "outputs": [
    {
     "name": "stdout",
     "output_type": "stream",
     "text": [
      "<class '__main__.thing'>\n"
     ]
    }
   ],
   "source": [
    "print(thing)"
   ]
  },
  {
   "cell_type": "code",
   "execution_count": 3,
   "id": "5cbb6e8f-8d52-42be-a594-7fc48626d30c",
   "metadata": {},
   "outputs": [],
   "source": [
    "example = thing()"
   ]
  },
  {
   "cell_type": "code",
   "execution_count": 4,
   "id": "7ad456b3-9539-43d0-872c-c4c49fdeca44",
   "metadata": {},
   "outputs": [
    {
     "name": "stdout",
     "output_type": "stream",
     "text": [
      "<__main__.thing object at 0x7f1ccb7c0280>\n"
     ]
    }
   ],
   "source": [
    "print(example)"
   ]
  },
  {
   "cell_type": "code",
   "execution_count": 5,
   "id": "e8f5d9d8-9b2f-4fd2-8459-79659a4e7da2",
   "metadata": {},
   "outputs": [],
   "source": [
    "# printed values are different"
   ]
  },
  {
   "cell_type": "markdown",
   "id": "0a845963-9c6b-4be9-a2a6-3f0784eb0e62",
   "metadata": {},
   "source": [
    "2. Create a new class called Thing2 and add the value 'abc' to the letters class attribute. Letters should be printed."
   ]
  },
  {
   "cell_type": "code",
   "execution_count": 6,
   "id": "d2bf1c39-fcb1-4f80-bb81-2b95f449fe6e",
   "metadata": {},
   "outputs": [
    {
     "name": "stdout",
     "output_type": "stream",
     "text": [
      "abc\n"
     ]
    }
   ],
   "source": [
    "# solution\n",
    "\n",
    "class thing2:\n",
    "    letters = \"abc\"\n",
    "    \n",
    "    \n",
    "print(thing2.letters)"
   ]
  },
  {
   "cell_type": "markdown",
   "id": "b0f90768-1a37-4b42-97ee-df2425e91791",
   "metadata": {},
   "source": [
    "3. Make yet another class called, of course, Thing3. This time, assign the value 'xyz' to an instance (object) attribute called letters. Print letters. Do you need to make an object from the class to do this?"
   ]
  },
  {
   "cell_type": "code",
   "execution_count": 7,
   "id": "d3bb29c0-8eba-4ff8-9779-998ab78f89f5",
   "metadata": {},
   "outputs": [],
   "source": [
    "#solution\n",
    "class thing3:\n",
    "    letters = \"xyz\"\n",
    "    "
   ]
  },
  {
   "cell_type": "code",
   "execution_count": 8,
   "id": "c66e3de2-22a0-4401-829b-ba4a4e1eaf95",
   "metadata": {},
   "outputs": [
    {
     "name": "stdout",
     "output_type": "stream",
     "text": [
      "xyz\n"
     ]
    }
   ],
   "source": [
    "print(thing3.letters)"
   ]
  },
  {
   "cell_type": "markdown",
   "id": "34284da4-a64f-4497-bc7a-e38c4871f0de",
   "metadata": {},
   "source": [
    "4. Create an Element class with the instance attributes name, symbol, and number. Create a class object with the values 'Hydrogen,' 'H,' and 1."
   ]
  },
  {
   "cell_type": "code",
   "execution_count": 9,
   "id": "187b40c2-f661-49a6-a6ea-253da3cccb87",
   "metadata": {},
   "outputs": [],
   "source": [
    "#Solution\n",
    "class Element:\n",
    "    def __init__(self, name, symbol, number, proton):\n",
    "        self.name = name\n",
    "        self.symbol = symbol\n",
    "        self.number = number\n",
    "        self.proton = proton\n",
    "    def __str__(self):\n",
    "        return \"name = {}, symbol = {}, number = {}, proton = {}\".format(self.name, self.symbol, self.number, self.proton)"
   ]
  },
  {
   "cell_type": "code",
   "execution_count": 10,
   "id": "261ef43e-621e-4b69-a73a-6c76fda1b941",
   "metadata": {},
   "outputs": [],
   "source": [
    "ele = Element(\"hydrogen\", \"H\", 1,1)"
   ]
  },
  {
   "cell_type": "code",
   "execution_count": 11,
   "id": "850e9986-5b96-42d6-8e84-25d4b526b9f8",
   "metadata": {},
   "outputs": [
    {
     "name": "stdout",
     "output_type": "stream",
     "text": [
      "name = hydrogen, symbol = H, number = 1, proton = 1\n"
     ]
    }
   ],
   "source": [
    "print(ele)"
   ]
  },
  {
   "cell_type": "markdown",
   "id": "5b82af5e-f236-422d-b053-2311683e1bcf",
   "metadata": {},
   "source": [
    "5. Make a dictionary with these keys and values: 'name': 'Hydrogen', 'symbol': 'H', 'number': 1. Then, create an object called hydrogen from class Element using this dictionary."
   ]
  },
  {
   "cell_type": "code",
   "execution_count": 12,
   "id": "18b9411e-7a94-4105-b638-d610a9ba3a3b",
   "metadata": {},
   "outputs": [
    {
     "name": "stdout",
     "output_type": "stream",
     "text": [
      "name = Hydrogen, symbol = H, number = 1, proton = 1\n"
     ]
    }
   ],
   "source": [
    "#Solution\n",
    "d = {\n",
    "    'name': 'Hydrogen',\n",
    "    'symbol': 'H',\n",
    "    'number': 1,\n",
    "    'proton': 1,\n",
    "}\n",
    "\n",
    "hydrogen = Element(**d)\n",
    "print(hydrogen)"
   ]
  },
  {
   "cell_type": "markdown",
   "id": "fe15c382-33c4-43d3-9747-5b6ee9c89c21",
   "metadata": {},
   "source": [
    "6. For the Element class, define a method called dump() that prints the values of the object’s attributes (name, symbol, and number). Create the hydrogen object from this new definition and use dump() to print its attributes."
   ]
  },
  {
   "cell_type": "code",
   "execution_count": 13,
   "id": "e60661d5-b963-434e-ab6b-fd9bee66870c",
   "metadata": {},
   "outputs": [],
   "source": [
    "#Solution\n",
    "class Element:\n",
    "    def __init__(self, name, symbol, number,):\n",
    "        self.name = name\n",
    "        self.symbol = symbol\n",
    "        self.number = number\n",
    "    def dump(self):\n",
    "        print(self.name, self.symbol, self.number)\n",
    "\n",
    "hydrogen = Element(\"hydrogen\", \"H\", 1)"
   ]
  },
  {
   "cell_type": "code",
   "execution_count": 14,
   "id": "82203077-24d2-410b-8f18-e6534900066c",
   "metadata": {},
   "outputs": [
    {
     "name": "stdout",
     "output_type": "stream",
     "text": [
      "hydrogen H 1\n"
     ]
    }
   ],
   "source": [
    "hydrogen.dump()"
   ]
  },
  {
   "cell_type": "markdown",
   "id": "e730970e-aab8-4d70-982c-08078217f585",
   "metadata": {},
   "source": [
    "7. Call print(hydrogen). In the definition of Element, change the name of method dump to __str__, create a new hydrogen object, and call print(hydrogen) again."
   ]
  },
  {
   "cell_type": "code",
   "execution_count": 18,
   "id": "214d4dfe-afa8-4958-9c06-fa90561eab79",
   "metadata": {},
   "outputs": [],
   "source": [
    "#Solution\n",
    "class Element:\n",
    "    def __init__(self, name, symbol, number):\n",
    "        self.name = name\n",
    "        self.symbol = symbol\n",
    "        self.number = number\n",
    "    def __str__(self):\n",
    "        return \"name = {}, symbol = {}, number = {}\".format(self.name, self.symbol, self.number)"
   ]
  },
  {
   "cell_type": "code",
   "execution_count": 19,
   "id": "544a3b7f-5bdf-4b43-84a9-f38117300c84",
   "metadata": {},
   "outputs": [],
   "source": [
    "ele = Element(\"hydrogen\", \"H\", 1)"
   ]
  },
  {
   "cell_type": "code",
   "execution_count": 20,
   "id": "5c488b55-cada-4723-a63a-c2fcca07ef29",
   "metadata": {},
   "outputs": [
    {
     "name": "stdout",
     "output_type": "stream",
     "text": [
      "name = hydrogen, symbol = H, number = 1\n"
     ]
    }
   ],
   "source": [
    "print(ele)"
   ]
  },
  {
   "cell_type": "markdown",
   "id": "9c458979-9ac1-4b18-80a9-6892fd0bf5b5",
   "metadata": {},
   "source": [
    "8. Modify Element to make the attributes name, symbol, and number private. Define a getter property for each to return its value"
   ]
  },
  {
   "cell_type": "code",
   "execution_count": 21,
   "id": "7dc7d326-35a0-41df-b206-bb7c5bd5b432",
   "metadata": {},
   "outputs": [],
   "source": [
    "#solution\n",
    "class Element:\n",
    "    def __init__ (self, name, symbol, number):\n",
    "        self.__name = name\n",
    "        self.__symbol = symbol\n",
    "        self.__number = number\n",
    "        \n",
    "    @property\n",
    "    def name(self):\n",
    "        return self.__name\n",
    "    \n",
    "    @property\n",
    "    def symbol(self):\n",
    "        return self.__symbol\n",
    "    \n",
    "    @property\n",
    "    def number(self):\n",
    "        return self.__number\n",
    "    \n",
    "    \n",
    "Ele = Element(\"hydro\", \"H\", 1) "
   ]
  },
  {
   "cell_type": "code",
   "execution_count": 24,
   "id": "da8137a9-d3e1-4e48-a066-ec4f1c78707a",
   "metadata": {},
   "outputs": [
    {
     "name": "stdout",
     "output_type": "stream",
     "text": [
      "hydro H 1\n"
     ]
    }
   ],
   "source": [
    "print(Ele.name, Ele.symbol, Ele.number)"
   ]
  },
  {
   "cell_type": "markdown",
   "id": "db0a6387-49d9-45d1-b350-cecb31b379d7",
   "metadata": {},
   "source": [
    "9. Define three classes: Bear, Rabbit, and Octothorpe. For each, define only one method: eats(). This should return 'berries' (Bear), 'clover' (Rabbit), or 'campers' (Octothorpe). Create one object from each and print what it eats."
   ]
  },
  {
   "cell_type": "code",
   "execution_count": 25,
   "id": "72a30c51-c7bd-434b-97be-b2bc41cdf078",
   "metadata": {},
   "outputs": [
    {
     "name": "stdout",
     "output_type": "stream",
     "text": [
      "berries\n",
      "clover\n",
      "campers\n"
     ]
    }
   ],
   "source": [
    "#solution\n",
    "class bear():\n",
    "    def eats(self):\n",
    "        return 'berries'\n",
    "\n",
    "class rabbit():\n",
    "    def eats(self):\n",
    "        return 'clover'\n",
    "    \n",
    "class octothorpe():\n",
    "    def eats(self):\n",
    "        return 'campers'\n",
    "\n",
    "b = bear()\n",
    "print(b.eats())\n",
    "r = rabbit()\n",
    "print(r.eats())\n",
    "o = octothorpe()\n",
    "print(o.eats())"
   ]
  },
  {
   "cell_type": "code",
   "execution_count": null,
   "id": "dcdd8a9e-8da9-4f0e-b917-6c5aa17e55ef",
   "metadata": {},
   "outputs": [],
   "source": [
    "bear.eats90"
   ]
  },
  {
   "cell_type": "code",
   "execution_count": null,
   "id": "12a794c9-f955-4777-8d55-03378c747a10",
   "metadata": {},
   "outputs": [],
   "source": []
  },
  {
   "cell_type": "code",
   "execution_count": null,
   "id": "b2e04794-50dc-439a-854b-086f96b60039",
   "metadata": {},
   "outputs": [],
   "source": []
  }
 ],
 "metadata": {
  "kernelspec": {
   "display_name": "Python 3 (ipykernel)",
   "language": "python",
   "name": "python3"
  },
  "language_info": {
   "codemirror_mode": {
    "name": "ipython",
    "version": 3
   },
   "file_extension": ".py",
   "mimetype": "text/x-python",
   "name": "python",
   "nbconvert_exporter": "python",
   "pygments_lexer": "ipython3",
   "version": "3.10.6"
  }
 },
 "nbformat": 4,
 "nbformat_minor": 5
}
