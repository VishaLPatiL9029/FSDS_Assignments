{
 "cells": [
  {
   "cell_type": "raw",
   "id": "e9841f4d-da36-4bb2-8115-97f33dce20b3",
   "metadata": {},
   "source": [
    "1. Create a list called years_list, starting with the year of your birth, and each year thereafter until the year of your fifth birthday. For example, if you were born in 1980. the list would be years_list = [1980, 1981, 1982, 1983, 1984, 1985].\n",
    "2. In which year in years_list was your third birthday? Remember, you were 0 years of age for your first year.\n",
    "3.In the years list, which year were you the oldest?\n",
    "4. Make a list called things with these three strings as elements: \"mozzarella\", \"cinderella\", \"salmonella\".\n",
    "5. Capitalize the element in things that refers to a person and then print the list. Did it change the element in the list?\n",
    "6. Make a surprise list with the elements \"Groucho,\" \"Chico,\" and \"Harpo.\"\n",
    "7. Lowercase the last element of the surprise list, reverse it, and then capitalize it.\n",
    "8. Make an English-to-French dictionary called e2f and print it. Here are your starter words: dog is chien, cat is chat, and walrus is morse.\n",
    "9. Write the French word for walrus in your three-word dictionary e2f.\n",
    "10. Make a French-to-English dictionary called f2e from e2f. Use the items method.\n",
    "11. Print the English version of the French word chien using f2e.\n",
    "12. Make and print a set of English words from the keys in e2f.\n",
    "13. Make a multilevel dictionary called life. Use these strings for the topmost keys: 'animals', 'plants', and 'other'. Make the 'animals' key refer to another dictionary with the keys 'cats', 'octopi', and 'emus'. Make the 'cats' key refer to a list of strings with the values 'Henri', 'Grumpy', and 'Lucy'. Make all the other keys refer to empty dictionaries.\n",
    "14. Print the top-level keys of life.\n",
    "15. Print the keys for life['animals'].\n",
    "16. Print the values for life['animals']['cats']\n"
   ]
  },
  {
   "cell_type": "markdown",
   "id": "eb5627a6-4b4a-40c3-a4b8-d229a9e96255",
   "metadata": {},
   "source": [
    "1. Create a list called years_list, starting with the year of your birth, and each year thereafter until the year of your fifth birthday. \n",
    "    For example, if you were born in 1980. the list would be years_list = [1980, 1981, 1982, 1983, 1984, 1985]."
   ]
  },
  {
   "cell_type": "code",
   "execution_count": 8,
   "id": "01ed31fa-8e21-4b55-a0b6-1015188cff7a",
   "metadata": {},
   "outputs": [
    {
     "name": "stdin",
     "output_type": "stream",
     "text": [
      "please input your born year 1992\n"
     ]
    },
    {
     "name": "stdout",
     "output_type": "stream",
     "text": [
      "[1992, 1993, 1994, 1995, 1996, 1997, 1998, 1999, 2000, 2001, 2002, 2003, 2004, 2005, 2006, 2007, 2008, 2009, 2010, 2011, 2012, 2013, 2014, 2015, 2016, 2017, 2018, 2019, 2020, 2021, 2022, 2023, 2024, 2025, 2026, 2027, 2028, 2029, 2030, 2031, 2032, 2033, 2034, 2035, 2036, 2037, 2038, 2039, 2040, 2041]\n"
     ]
    }
   ],
   "source": [
    "# solution:\n",
    "born_year = int(input(\"please input your born year\"))\n",
    "years_list = []\n",
    "for i in range(born_year, born_year+50):\n",
    "                years_list.append(i)\n",
    "print(years_list)\n"
   ]
  },
  {
   "cell_type": "markdown",
   "id": "2240ca55-4c58-4acd-b84d-7fc078adaf82",
   "metadata": {},
   "source": [
    "2. In which year in years_list was your third birthday? Remember, you were 0 years of age for your first year.\n"
   ]
  },
  {
   "cell_type": "code",
   "execution_count": 11,
   "id": "8b61b322-479c-4833-b190-a539705f9dd6",
   "metadata": {},
   "outputs": [
    {
     "name": "stdout",
     "output_type": "stream",
     "text": [
      "1995\n"
     ]
    }
   ],
   "source": [
    "# solution\n",
    "third_birthday_year = years_list[3]\n",
    "print(third_birthday_year)"
   ]
  },
  {
   "cell_type": "markdown",
   "id": "c2a21b4e-0818-4da5-b666-39febf503b2c",
   "metadata": {},
   "source": [
    "3. In the years list, which year were you the oldest?"
   ]
  },
  {
   "cell_type": "code",
   "execution_count": 14,
   "id": "18c5b505-b77a-49ee-9dbb-f9a1d0bb72b3",
   "metadata": {},
   "outputs": [
    {
     "name": "stdout",
     "output_type": "stream",
     "text": [
      "2041\n"
     ]
    }
   ],
   "source": [
    "# solution\n",
    "oldest_birthday_year = years_list[49]\n",
    "print(oldest_birthday_year)"
   ]
  },
  {
   "cell_type": "markdown",
   "id": "99fc20f0-f1f7-41b4-befd-6dd8f569a2a6",
   "metadata": {},
   "source": [
    "4. Make a list called things with these three strings as elements: \"mozzarella\", \"cinderella\", \"salmonella\"."
   ]
  },
  {
   "cell_type": "code",
   "execution_count": 15,
   "id": "5b6cdba6-bcc8-41f2-88ec-9a9036e0db38",
   "metadata": {},
   "outputs": [],
   "source": [
    "# solution\n",
    "things = [\"mozzarella\", \"cinderella\", \"salmonella\"]"
   ]
  },
  {
   "cell_type": "markdown",
   "id": "cb07b290-bb84-4a63-8cc6-b4c38ee213f9",
   "metadata": {},
   "source": [
    "5. Capitalize the element in things that refers to a person and then print the list. Did it change the element in the list?"
   ]
  },
  {
   "cell_type": "code",
   "execution_count": 20,
   "id": "6e948756-8aaf-4092-a644-2340d56a1761",
   "metadata": {},
   "outputs": [
    {
     "data": {
      "text/plain": [
       "['Mozzarella', 'Cinderella', 'Salmonella']"
      ]
     },
     "execution_count": 20,
     "metadata": {},
     "output_type": "execute_result"
    }
   ],
   "source": [
    "# solution\n",
    "things_capital = []\n",
    "for i in things:\n",
    "    things_capital.append(i.capitalize())\n",
    "\n",
    "things_capital"
   ]
  },
  {
   "cell_type": "markdown",
   "id": "05dadb90-de87-428c-aa4d-00850347bf97",
   "metadata": {},
   "source": [
    "6. Make a surprise list with the elements \"Groucho,\" \"Chico,\" and \"Harpo.\"\n",
    "7. Lowercase the last element of the surprise list, reverse it, and then capitalize it."
   ]
  },
  {
   "cell_type": "code",
   "execution_count": 21,
   "id": "efa62f69-d878-461c-a503-966ec735a199",
   "metadata": {},
   "outputs": [],
   "source": [
    "# solution\n",
    "surprise_list = [\"Groucho\", \"Chico\", \"Harpo\"]"
   ]
  },
  {
   "cell_type": "code",
   "execution_count": 22,
   "id": "57e303f5-9664-43a2-bbba-9d81f03f8912",
   "metadata": {
    "tags": []
   },
   "outputs": [
    {
     "data": {
      "text/plain": [
       "'harpo'"
      ]
     },
     "execution_count": 22,
     "metadata": {},
     "output_type": "execute_result"
    }
   ],
   "source": [
    "surprise_list[-1].lower()     # lowercase"
   ]
  },
  {
   "cell_type": "code",
   "execution_count": 24,
   "id": "9e940ed5-c0fe-4e24-ae21-e4e3186966eb",
   "metadata": {},
   "outputs": [
    {
     "data": {
      "text/plain": [
       "'opraH'"
      ]
     },
     "execution_count": 24,
     "metadata": {},
     "output_type": "execute_result"
    }
   ],
   "source": [
    "surprise_list[-1][::-1]    # reverse"
   ]
  },
  {
   "cell_type": "code",
   "execution_count": 25,
   "id": "8d9a808c-c147-40fa-b82e-df8e12b138fb",
   "metadata": {},
   "outputs": [
    {
     "data": {
      "text/plain": [
       "'OPRAH'"
      ]
     },
     "execution_count": 25,
     "metadata": {},
     "output_type": "execute_result"
    }
   ],
   "source": [
    "surprise_list[-1][::-1].upper()    # uppercase"
   ]
  },
  {
   "cell_type": "markdown",
   "id": "2b526ea9-a652-4aac-bbcf-ce3bab9b7dc6",
   "metadata": {},
   "source": [
    " 8. Make an English-to-French dictionary called e2f and print it. Here are your starter words: dog is chien, cat is chat, and walrus is morse."
   ]
  },
  {
   "cell_type": "code",
   "execution_count": 26,
   "id": "1938fe81-ce71-4bd9-8e25-441115b18c7f",
   "metadata": {},
   "outputs": [],
   "source": [
    "#solution\n",
    "\n",
    "e2f = {\"dog\":\"chien\", \"cat\":\"chat\", \"walrus\":\"morse\"}"
   ]
  },
  {
   "cell_type": "markdown",
   "id": "096895b5-3541-4088-984d-018d17cc5e59",
   "metadata": {},
   "source": [
    "9. Write the French word for walrus in your three-word dictionary e2f."
   ]
  },
  {
   "cell_type": "code",
   "execution_count": 30,
   "id": "57117dc9-5d3e-4baf-8ac0-4aeaa3067b87",
   "metadata": {},
   "outputs": [
    {
     "data": {
      "text/plain": [
       "'morse'"
      ]
     },
     "execution_count": 30,
     "metadata": {},
     "output_type": "execute_result"
    }
   ],
   "source": [
    "#solution\n",
    "\n",
    "e2f[\"walrus\"]"
   ]
  },
  {
   "cell_type": "markdown",
   "id": "c12c8845-e1fc-4723-ab11-8890132c43d7",
   "metadata": {},
   "source": [
    "10. Make a French-to-English dictionary called f2e from e2f. Use the items method."
   ]
  },
  {
   "cell_type": "code",
   "execution_count": 34,
   "id": "20df6e1e-2771-4e29-a2a1-a2cd291cad51",
   "metadata": {},
   "outputs": [],
   "source": [
    "# solution\n",
    "f2e = dict((value, key) for key, value in e2f.items())"
   ]
  },
  {
   "cell_type": "code",
   "execution_count": 35,
   "id": "3bebf7e1-3ab1-4f3e-9ba5-9b05bbb3a9c9",
   "metadata": {},
   "outputs": [
    {
     "data": {
      "text/plain": [
       "{'chien': 'dog', 'chat': 'cat', 'morse': 'walrus'}"
      ]
     },
     "execution_count": 35,
     "metadata": {},
     "output_type": "execute_result"
    }
   ],
   "source": [
    "f2e"
   ]
  },
  {
   "cell_type": "markdown",
   "id": "e8d800f3-8151-4ea2-8a99-4d923fc862eb",
   "metadata": {},
   "source": [
    "11. Print the English version of the French word chien using f2e."
   ]
  },
  {
   "cell_type": "code",
   "execution_count": 37,
   "id": "d4b50088-fc65-4c1a-b0b7-6a66940734cb",
   "metadata": {},
   "outputs": [
    {
     "data": {
      "text/plain": [
       "'dog'"
      ]
     },
     "execution_count": 37,
     "metadata": {},
     "output_type": "execute_result"
    }
   ],
   "source": [
    "# solution\n",
    "f2e[\"chien\"]"
   ]
  },
  {
   "cell_type": "markdown",
   "id": "b02206ae-47aa-4785-833b-9875ccc63572",
   "metadata": {},
   "source": [
    "12. Make and print a set of English words from the keys in e2f."
   ]
  },
  {
   "cell_type": "code",
   "execution_count": 40,
   "id": "c1068d23-ee8c-4f73-8c70-1f2420b52c89",
   "metadata": {},
   "outputs": [
    {
     "name": "stdout",
     "output_type": "stream",
     "text": [
      "['dog', 'cat', 'walrus']\n"
     ]
    }
   ],
   "source": [
    "#solution\n",
    "english_word = []\n",
    "for key, value in e2f.items():\n",
    "    english_word.append(key)\n",
    "    \n",
    "print(english_word)"
   ]
  },
  {
   "cell_type": "markdown",
   "id": "445cc939-999a-46d3-ae64-90df1be6ede9",
   "metadata": {},
   "source": [
    "13. Make a multilevel dictionary called life. Use these strings for the topmost keys: 'animals', 'plants', and 'other'. Make the 'animals' key refer to another dictionary with the keys 'cats', 'octopi', and 'emus'. Make the 'cats' key refer to a list of strings with the values 'Henri', 'Grumpy', and 'Lucy'. Make all the other keys refer to empty dictionaries."
   ]
  },
  {
   "cell_type": "code",
   "execution_count": 6,
   "id": "1f066ae8-dd79-4840-8dac-8ea6691e3a10",
   "metadata": {},
   "outputs": [],
   "source": [
    "life = {\"animals\":{\"cats\":['Henri','Grumpy','Lucy']}, \"plants\":{}, \"others\":{}}"
   ]
  },
  {
   "cell_type": "code",
   "execution_count": 7,
   "id": "98e0592c-b440-4362-8640-47eff05f3cc6",
   "metadata": {},
   "outputs": [
    {
     "data": {
      "text/plain": [
       "{'animals': {'cats': ['Henri', 'Grumpy', 'Lucy']}, 'plants': {}, 'others': {}}"
      ]
     },
     "execution_count": 7,
     "metadata": {},
     "output_type": "execute_result"
    }
   ],
   "source": [
    "life"
   ]
  },
  {
   "cell_type": "markdown",
   "id": "f01c2e92-d16b-4199-bb62-6979df02f0dc",
   "metadata": {},
   "source": [
    "14. Print the top-level keys of life."
   ]
  },
  {
   "cell_type": "code",
   "execution_count": 8,
   "id": "219dc6c6-0608-42e0-8874-7a2623a2c9a8",
   "metadata": {},
   "outputs": [
    {
     "data": {
      "text/plain": [
       "dict_keys(['animals', 'plants', 'others'])"
      ]
     },
     "execution_count": 8,
     "metadata": {},
     "output_type": "execute_result"
    }
   ],
   "source": [
    "life.keys()"
   ]
  },
  {
   "cell_type": "markdown",
   "id": "03ea8ece-0449-4966-9d17-12f6c4c1efb3",
   "metadata": {},
   "source": [
    "15. Print the keys for life['animals'].\n"
   ]
  },
  {
   "cell_type": "code",
   "execution_count": 14,
   "id": "82dfd732-ba00-40a6-ac93-13b1d5b36471",
   "metadata": {},
   "outputs": [
    {
     "data": {
      "text/plain": [
       "dict_keys(['cats'])"
      ]
     },
     "execution_count": 14,
     "metadata": {},
     "output_type": "execute_result"
    }
   ],
   "source": [
    "life[\"animals\"].keys()"
   ]
  },
  {
   "cell_type": "markdown",
   "id": "66a54dd5-f897-4369-b27c-6def19778a97",
   "metadata": {},
   "source": [
    "16. Print the values for life['animals']['cats']"
   ]
  },
  {
   "cell_type": "code",
   "execution_count": 15,
   "id": "09d1c901-ab7f-453f-8cde-fe4e96022596",
   "metadata": {},
   "outputs": [
    {
     "data": {
      "text/plain": [
       "['Henri', 'Grumpy', 'Lucy']"
      ]
     },
     "execution_count": 15,
     "metadata": {},
     "output_type": "execute_result"
    }
   ],
   "source": [
    "life[\"animals\"][\"cats\"]"
   ]
  },
  {
   "cell_type": "code",
   "execution_count": null,
   "id": "21841482-3e4a-4e53-ad9c-f42cac95d0b5",
   "metadata": {},
   "outputs": [],
   "source": []
  }
 ],
 "metadata": {
  "kernelspec": {
   "display_name": "Python 3 (ipykernel)",
   "language": "python",
   "name": "python3"
  },
  "language_info": {
   "codemirror_mode": {
    "name": "ipython",
    "version": 3
   },
   "file_extension": ".py",
   "mimetype": "text/x-python",
   "name": "python",
   "nbconvert_exporter": "python",
   "pygments_lexer": "ipython3",
   "version": "3.10.6"
  },
  "widgets": {
   "application/vnd.jupyter.widget-state+json": {
    "state": {},
    "version_major": 2,
    "version_minor": 0
   }
  }
 },
 "nbformat": 4,
 "nbformat_minor": 5
}
