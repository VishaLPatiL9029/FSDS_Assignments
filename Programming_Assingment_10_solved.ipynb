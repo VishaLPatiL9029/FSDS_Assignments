{
 "cells": [
  {
   "cell_type": "markdown",
   "id": "b25d7c46-1a77-46e4-b583-e43a7788c48c",
   "metadata": {},
   "source": [
    "1. Write a Python program to find sum of elements in list?\n",
    "2. Write a Python program to  Multiply all numbers in the list?\n",
    "3. Write a Python program to find smallest number in a list?\n",
    "4. Write a Python program to find largest number in a list?\n",
    "5. Write a Python program to find second largest number in a list?\n",
    "6. Write a Python program to find N largest elements from a list?\n",
    "7. Write a Python program to print even numbers in a list?\n",
    "8. Write a Python program to print odd numbers in a List?\n",
    "9. Write a Python program to Remove empty List from List?\n",
    "10. Write a Python program to Cloning or Copying a list?\n",
    "11. Write a Python program to Count occurrences of an element in a list?"
   ]
  },
  {
   "cell_type": "markdown",
   "id": "c8ba74c7-e3ed-401a-af53-7fd4e400308f",
   "metadata": {},
   "source": [
    "1. Write a Python program to find sum of elements in list?"
   ]
  },
  {
   "cell_type": "code",
   "execution_count": 3,
   "id": "a3147eae-dea1-4386-a51e-c2717221b907",
   "metadata": {},
   "outputs": [
    {
     "name": "stdout",
     "output_type": "stream",
     "text": [
      "67\n"
     ]
    }
   ],
   "source": [
    "#solution\n",
    "l = [4,5,6,7,8,7,5,4,4,3,6,4,4]\n",
    "\n",
    "sum_ = 0\n",
    "for k in l:\n",
    "    sum_ = sum_ + k\n",
    "    \n",
    "print(sum_)"
   ]
  },
  {
   "cell_type": "markdown",
   "id": "0bf436df-96f5-454a-ba9d-7ef9f118dc60",
   "metadata": {},
   "source": [
    "2. Write a Python program to  Multiply all numbers in the list?"
   ]
  },
  {
   "cell_type": "code",
   "execution_count": 5,
   "id": "42c80bce-aaaf-4344-b6b9-77ef64698554",
   "metadata": {},
   "outputs": [
    {
     "name": "stdout",
     "output_type": "stream",
     "text": [
      "1083801600\n"
     ]
    }
   ],
   "source": [
    "#solution\n",
    "l = [4,5,6,7,8,7,5,4,4,3,6,4,4]\n",
    "\n",
    "mul= 1\n",
    "for k in l:\n",
    "    mul = mul * k\n",
    "    \n",
    "print(mul)"
   ]
  },
  {
   "cell_type": "markdown",
   "id": "77591c01-29f0-42af-9877-7c6a8f3f22a1",
   "metadata": {},
   "source": [
    "3. Write a Python program to find smallest number in a list?"
   ]
  },
  {
   "cell_type": "code",
   "execution_count": 8,
   "id": "91d823fb-ea25-47e8-a5db-2297020a96b8",
   "metadata": {},
   "outputs": [
    {
     "name": "stdout",
     "output_type": "stream",
     "text": [
      "2\n"
     ]
    }
   ],
   "source": [
    "#solution\n",
    "l = [2,6,7,8,4,3,4]\n",
    "min_ = l[0]\n",
    "for i in range(len(l)):\n",
    "    if(l[i] < min_):\n",
    "        min_ = l[i]\n",
    "        \n",
    "print(min_)\n",
    "    "
   ]
  },
  {
   "cell_type": "markdown",
   "id": "1b67f7dc-d68b-4a64-9022-12232024db0b",
   "metadata": {},
   "source": [
    "4. Write a Python program to find largest number in a list?"
   ]
  },
  {
   "cell_type": "code",
   "execution_count": 9,
   "id": "7fd42534-a3ba-4b1f-bcd6-c6c0b5d096b0",
   "metadata": {},
   "outputs": [
    {
     "name": "stdout",
     "output_type": "stream",
     "text": [
      "8\n"
     ]
    }
   ],
   "source": [
    "#solution\n",
    "l = [2,6,7,8,4,3,4]\n",
    "max_ = l[0]\n",
    "for i in range(len(l)):\n",
    "    if(l[i] > max_):\n",
    "        max_ = l[i]\n",
    "        \n",
    "print(max_)\n",
    "    "
   ]
  },
  {
   "cell_type": "markdown",
   "id": "165f6089-f770-4d04-9c79-5f4e5e6ee66c",
   "metadata": {},
   "source": [
    "5. Write a Python program to find second largest number in a list?"
   ]
  },
  {
   "cell_type": "code",
   "execution_count": 18,
   "id": "6251fea2-0b94-43fd-9606-bd78e8fa6146",
   "metadata": {},
   "outputs": [
    {
     "name": "stdout",
     "output_type": "stream",
     "text": [
      "Second largest element is: 45\n"
     ]
    }
   ],
   "source": [
    "# solution\n",
    "\n",
    "l1 = [10, 20, 20, 4, 45, 45, 45, 99, 99]\n",
    "\n",
    "\n",
    "l2 = list(set(l1))\n",
    "\n",
    "# Sorting the list\n",
    "l2.sort()\n",
    "\n",
    "# Printing the second last element\n",
    "print(\"Second largest element is:\", l2[-2])\n"
   ]
  },
  {
   "cell_type": "code",
   "execution_count": null,
   "id": "e6b8fddf-7b81-4322-907c-56867291b73e",
   "metadata": {},
   "outputs": [],
   "source": [
    "6. Write a Python program to find N largest elements from a list?"
   ]
  },
  {
   "cell_type": "code",
   "execution_count": 19,
   "id": "b6f60a89-d113-469e-8db4-4dd0ee2a77bf",
   "metadata": {},
   "outputs": [
    {
     "name": "stdout",
     "output_type": "stream",
     "text": [
      "[85, 41]\n"
     ]
    }
   ],
   "source": [
    "\n",
    "def N_large_elements(list1, N):\n",
    "\tfinal_list = []\n",
    "\n",
    "\tfor i in range(0, N):\n",
    "\t\tmax1 = 0\n",
    "\t\t\n",
    "\t\tfor j in range(len(list1)):\t\n",
    "\t\t\tif list1[j] > max1:\n",
    "\t\t\t\tmax1 = list1[j];\n",
    "\t\t\t\t\n",
    "\t\tlist1.remove(max1);\n",
    "\t\tfinal_list.append(max1)\n",
    "\t\t\n",
    "\tprint(final_list)\n",
    "\n",
    "\n",
    "list1 = [2, 6, 41, 85, 0, 3, 7, 6, 10]\n",
    "N = 2\n",
    "\n",
    "\n",
    "N_large_elements(list1, N)\n"
   ]
  },
  {
   "cell_type": "markdown",
   "id": "7cd3fd50-96cd-4deb-be68-025346537902",
   "metadata": {},
   "source": [
    "7. Write a Python program to print even numbers in a list?"
   ]
  },
  {
   "cell_type": "code",
   "execution_count": 20,
   "id": "62dd9045-0e07-4843-bcdf-2d3196217d7b",
   "metadata": {},
   "outputs": [
    {
     "name": "stdout",
     "output_type": "stream",
     "text": [
      "2\n",
      "6\n",
      "0\n",
      "6\n",
      "10\n"
     ]
    }
   ],
   "source": [
    "#solution\n",
    "list1 = [2, 6, 41, 85, 0, 3, 7, 6, 10]\n",
    "\n",
    "for i in list1:\n",
    "    if i % 2 == 0:\n",
    "        print(i)\n"
   ]
  },
  {
   "cell_type": "markdown",
   "id": "e77d7b20-8e74-4368-a884-a23a18e64d94",
   "metadata": {},
   "source": [
    "8. Write a Python program to print odd numbers in a List?"
   ]
  },
  {
   "cell_type": "code",
   "execution_count": 21,
   "id": "509373f3-d310-42b1-9a4c-3719007cc51d",
   "metadata": {},
   "outputs": [
    {
     "name": "stdout",
     "output_type": "stream",
     "text": [
      "41\n",
      "85\n",
      "3\n",
      "7\n"
     ]
    }
   ],
   "source": [
    "#solution\n",
    "list1 = [2, 6, 41, 85, 0, 3, 7, 6, 10]\n",
    "\n",
    "for i in list1:\n",
    "    if i % 2 != 0:\n",
    "        print(i)\n"
   ]
  },
  {
   "cell_type": "markdown",
   "id": "7c9b10a5-6be9-4ad9-81ab-46dd21a5f7b4",
   "metadata": {},
   "source": [
    "9. Write a Python program to Remove empty List from List"
   ]
  },
  {
   "cell_type": "code",
   "execution_count": 1,
   "id": "e9719492-830b-4bf3-ae4c-55580c231704",
   "metadata": {},
   "outputs": [
    {
     "name": "stdout",
     "output_type": "stream",
     "text": [
      "[2, 6, 41, 85, 0, 7, [7, 8, 90], 10]\n"
     ]
    }
   ],
   "source": [
    "#solution\n",
    "list1 = [2, 6, 41, 85, 0, [], 7, [7,8,90], 10,[]]\n",
    "for i in list1:\n",
    "    if type(i) == list and len(i) == 0:\n",
    "        list1.remove(i)\n",
    "\n",
    "        \n",
    "print(list1)"
   ]
  },
  {
   "cell_type": "markdown",
   "id": "a2de598d-06a4-4397-805e-ebfd39cb8d0f",
   "metadata": {},
   "source": [
    "10. Write a Python program to Cloning or Copying a list?"
   ]
  },
  {
   "cell_type": "code",
   "execution_count": 5,
   "id": "66ce4a86-9fd3-436a-a7ee-6ff4d6e01b75",
   "metadata": {},
   "outputs": [
    {
     "name": "stdout",
     "output_type": "stream",
     "text": [
      "[2, 6, 41, 85, 0, 3, 7, 6, 10]\n"
     ]
    }
   ],
   "source": [
    "# solution\n",
    "list1 = [2, 6, 41, 85, 0, 3, 7, 6, 10]\n",
    "copy_list1 = []\n",
    "copy_list1.extend(list1)\n",
    "print(copy_list1)"
   ]
  },
  {
   "cell_type": "code",
   "execution_count": null,
   "id": "863c6d71-a35c-4aae-a9d5-4a92683ddb76",
   "metadata": {},
   "outputs": [],
   "source": [
    "11. Write a Python program to Count occurrences of an element in a list?"
   ]
  },
  {
   "cell_type": "code",
   "execution_count": 7,
   "id": "ff770bc2-e905-4dd8-b4b6-86c443c6118c",
   "metadata": {},
   "outputs": [
    {
     "name": "stdout",
     "output_type": "stream",
     "text": [
      "8 has occurred 5 times\n"
     ]
    }
   ],
   "source": [
    "# solution\n",
    "def count_N(lst, N):\n",
    "\tcount = 0\n",
    "\tfor ele in lst:\n",
    "\t\tif (ele == N):\n",
    "\t\t\tcount = count + 1\n",
    "\treturn count\n",
    "\n",
    "\n",
    "# Driver Code\n",
    "lst = [8, 6, 8, 10, 8, 20, 10, 8, 8]\n",
    "N = 8\n",
    "print('{} has occurred {} times'.format(N,count_N(lst, N)))\n"
   ]
  },
  {
   "cell_type": "code",
   "execution_count": null,
   "id": "603688e8-8b29-42db-bb8c-66cd979e9ef3",
   "metadata": {},
   "outputs": [],
   "source": []
  }
 ],
 "metadata": {
  "kernelspec": {
   "display_name": "Python 3 (ipykernel)",
   "language": "python",
   "name": "python3"
  },
  "language_info": {
   "codemirror_mode": {
    "name": "ipython",
    "version": 3
   },
   "file_extension": ".py",
   "mimetype": "text/x-python",
   "name": "python",
   "nbconvert_exporter": "python",
   "pygments_lexer": "ipython3",
   "version": "3.10.6"
  }
 },
 "nbformat": 4,
 "nbformat_minor": 5
}
