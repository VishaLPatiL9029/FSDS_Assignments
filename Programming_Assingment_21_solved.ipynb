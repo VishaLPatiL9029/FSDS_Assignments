{
 "cells": [
  {
   "cell_type": "markdown",
   "id": "7cd8c0fa-f3a2-4372-99d1-ce84cb543441",
   "metadata": {},
   "source": [
    "## Question 1\n",
    "Write a function that takes a list and a number as arguments. Add the number to the end of the list, then remove the first element of the list. The function should then return the updated list.\n",
    "Examples\n",
    "next_in_line([5, 6, 7, 8, 9], 1) ➞ [6, 7, 8, 9, 1]\n",
    "\n",
    "next_in_line([7, 6, 3, 23, 17], 10) ➞ [6, 3, 23, 17, 10]\n",
    "\n",
    "next_in_line([1, 10, 20, 42 ], 6) ➞ [10, 20, 42, 6]\n",
    "\n",
    "next_in_line([], 6) ➞ \"No list has been selected\""
   ]
  },
  {
   "cell_type": "markdown",
   "id": "8b6a60ec-5551-4671-9fa8-03a1ea4875e3",
   "metadata": {},
   "source": [
    "### solution for question 1"
   ]
  },
  {
   "cell_type": "code",
   "execution_count": 1,
   "id": "f8a58ad8-0a07-4359-a7bf-34ffc44a9436",
   "metadata": {},
   "outputs": [
    {
     "data": {
      "text/plain": [
       "[6, 7, 8, 9, 1]"
      ]
     },
     "execution_count": 1,
     "metadata": {},
     "output_type": "execute_result"
    }
   ],
   "source": [
    "def next_in_line(lst, ele):\n",
    "    lst.append(ele)\n",
    "    lst.remove(lst[0])\n",
    "    return lst\n",
    "\n",
    "next_in_line([5, 6, 7, 8, 9], 1)"
   ]
  },
  {
   "cell_type": "code",
   "execution_count": 2,
   "id": "6b4c224f-238f-4cfe-9ad8-9e0e60e78ee3",
   "metadata": {},
   "outputs": [
    {
     "data": {
      "text/plain": [
       "[6, 3, 23, 17, 10]"
      ]
     },
     "execution_count": 2,
     "metadata": {},
     "output_type": "execute_result"
    }
   ],
   "source": [
    "next_in_line([7, 6, 3, 23, 17], 10)"
   ]
  },
  {
   "cell_type": "markdown",
   "id": "82e2e1d1-2df3-4cf0-a5ed-7ea5ecb74872",
   "metadata": {},
   "source": [
    "## Question 2\n",
    "Create the function that takes a list of dictionaries and returns the sum of people's budgets.\n",
    "Examples\n",
    "get_budgets([\n",
    "  { \"name\": \"John\", \"age\": 21, \"budget\": 23000 },\n",
    "  { \"name\": \"Steve\",  \"age\": 32, \"budget\": 40000 },\n",
    "  { \"name\": \"Martin\",  \"age\": 16, \"budget\": 2700 }\n",
    "]) ➞ 65700\n",
    "\n",
    "get_budgets([\n",
    "  { \"name\": \"John\",  \"age\": 21, \"budget\": 29000 },\n",
    "  { \"name\": \"Steve\",  \"age\": 32, \"budget\": 32000 },\n",
    "  { \"name\": \"Martin\",  \"age\": 16, \"budget\": 1600 }\n",
    "]) ➞ 62600"
   ]
  },
  {
   "cell_type": "markdown",
   "id": "802af2bc-8c6f-4fd6-9ebc-bcd8f3882137",
   "metadata": {},
   "source": [
    "### solution for question 2"
   ]
  },
  {
   "cell_type": "code",
   "execution_count": 3,
   "id": "88c742a6-42ee-4da7-ae6a-dc1b4746b234",
   "metadata": {},
   "outputs": [],
   "source": [
    "def get_budgets(lst):\n",
    "    total_budget = 0\n",
    "    for i in lst:\n",
    "        total_budget = total_budget + i[\"budget\"]\n",
    "    return total_budget\n",
    "        "
   ]
  },
  {
   "cell_type": "code",
   "execution_count": 4,
   "id": "52c7d5f4-de60-4088-b292-afe475c7a797",
   "metadata": {},
   "outputs": [
    {
     "data": {
      "text/plain": [
       "65700"
      ]
     },
     "execution_count": 4,
     "metadata": {},
     "output_type": "execute_result"
    }
   ],
   "source": [
    "get_budgets([ { \"name\": \"John\", \"age\": 21, \"budget\": 23000 }, { \"name\": \"Steve\", \"age\": 32, \"budget\": 40000 }, { \"name\": \"Martin\", \"age\": 16, \"budget\": 2700 } ])"
   ]
  },
  {
   "cell_type": "code",
   "execution_count": 5,
   "id": "1bf4f2b2-e813-4fb3-bbf2-ce7f18d0ba28",
   "metadata": {},
   "outputs": [
    {
     "data": {
      "text/plain": [
       "62600"
      ]
     },
     "execution_count": 5,
     "metadata": {},
     "output_type": "execute_result"
    }
   ],
   "source": [
    "get_budgets([ { \"name\": \"John\", \"age\": 21, \"budget\": 29000 }, { \"name\": \"Steve\", \"age\": 32, \"budget\": 32000 }, { \"name\": \"Martin\", \"age\": 16, \"budget\": 1600 } ]) "
   ]
  },
  {
   "cell_type": "markdown",
   "id": "333417a7-8e4f-4360-97da-06ede87033f4",
   "metadata": {},
   "source": [
    "## Question 3\n",
    "Create a function that takes a string and returns a string with its letters in alphabetical order.\n",
    "Examples\n",
    "alphabet_soup(\"hello\") ➞ \"ehllo\"\n",
    "\n",
    "alphabet_soup(\"edabit\") ➞ \"abdeit\"\n",
    "\n",
    "alphabet_soup(\"hacker\") ➞ \"acehkr\"\n",
    "\n",
    "alphabet_soup(\"geek\") ➞ \"eegk\"\n",
    "\n",
    "alphabet_soup(\"javascript\") ➞ \"aacijprstv\""
   ]
  },
  {
   "cell_type": "markdown",
   "id": "94dfadce-581e-4cd9-88da-c855eca0b450",
   "metadata": {},
   "source": [
    "### solution for question 3"
   ]
  },
  {
   "cell_type": "code",
   "execution_count": 6,
   "id": "baa4db56-ff85-4ab4-a77a-9ba4d4c54ee0",
   "metadata": {},
   "outputs": [],
   "source": [
    "def alphabet_soup(strng):\n",
    "    alpha_sort = ''\n",
    "    for i in sorted(strng):\n",
    "        alpha_sort = alpha_sort + i\n",
    "    return alpha_sort"
   ]
  },
  {
   "cell_type": "code",
   "execution_count": 7,
   "id": "d10b29b2-2aca-4ad7-b90c-b9bdf0b969f8",
   "metadata": {},
   "outputs": [
    {
     "data": {
      "text/plain": [
       "'abdeit'"
      ]
     },
     "execution_count": 7,
     "metadata": {},
     "output_type": "execute_result"
    }
   ],
   "source": [
    "alphabet_soup(\"edabit\")"
   ]
  },
  {
   "cell_type": "code",
   "execution_count": 8,
   "id": "fcdef013-d066-4e59-bf96-a3e272405583",
   "metadata": {},
   "outputs": [
    {
     "data": {
      "text/plain": [
       "'aacijprstv'"
      ]
     },
     "execution_count": 8,
     "metadata": {},
     "output_type": "execute_result"
    }
   ],
   "source": [
    "alphabet_soup(\"javascript\")"
   ]
  },
  {
   "cell_type": "markdown",
   "id": "7e18fea5-b68a-49b8-8a92-48b6f2f68df6",
   "metadata": {},
   "source": [
    "## Question 4\n",
    "Suppose that you invest $10,000 for 10 years at an interest rate of 6% compounded monthly. What will be the value of your investment at the end of the 10 year period?\n",
    "Create a function that accepts the principal p, the term in years t, the interest rate r, and the number of compounding periods per year n. The function returns the value at the end of term rounded to the nearest cent.\n",
    "For the example above:\n",
    "compound_interest(10000, 10, 0.06, 12) ➞ 18193.97\n",
    "Note that the interest rate is given as a decimal and n=12 because with monthly compounding there are 12 periods per year. Compounding can also be done annually, quarterly, weekly, or daily.\n",
    "Examples\n",
    "compound_interest(100, 1, 0.05, 1) ➞ 105.0\n",
    "\n",
    "compound_interest(3500, 15, 0.1, 4) ➞ 15399.26\n",
    "\n",
    "compound_interest(100000, 20, 0.15, 365) ➞ 2007316.26"
   ]
  },
  {
   "cell_type": "markdown",
   "id": "f5dabdad-f762-4267-a180-8f7dbfea4320",
   "metadata": {},
   "source": [
    "### solution for question 4"
   ]
  },
  {
   "cell_type": "code",
   "execution_count": 9,
   "id": "dde8a9e7-d332-4d1c-94ae-71e20c015b54",
   "metadata": {},
   "outputs": [],
   "source": [
    "def compound_interest(p, t, r, n):\n",
    "    a = p * pow((1+r/n), n*t)\n",
    "    return round(a, 2)"
   ]
  },
  {
   "cell_type": "code",
   "execution_count": 10,
   "id": "773f21b0-3fb8-4795-afca-93ba5c7fa298",
   "metadata": {},
   "outputs": [
    {
     "data": {
      "text/plain": [
       "15399.26"
      ]
     },
     "execution_count": 10,
     "metadata": {},
     "output_type": "execute_result"
    }
   ],
   "source": [
    "compound_interest(3500, 15, 0.1, 4)"
   ]
  },
  {
   "cell_type": "code",
   "execution_count": 11,
   "id": "69069803-b3ff-4851-94a7-5daef545474b",
   "metadata": {},
   "outputs": [
    {
     "data": {
      "text/plain": [
       "2007316.26"
      ]
     },
     "execution_count": 11,
     "metadata": {},
     "output_type": "execute_result"
    }
   ],
   "source": [
    "compound_interest(100000, 20, 0.15, 365)"
   ]
  },
  {
   "cell_type": "markdown",
   "id": "1d080ef4-de30-4cc2-8e0b-a3a5eae23e14",
   "metadata": {},
   "source": [
    "## Question 5\n",
    "Write a function that takes a list of elements and returns only the integers.\n",
    "Examples\n",
    "return_only_integer([9, 2, \"space\", \"car\", \"lion\", 16]) ➞ [9, 2, 16]\n",
    "\n",
    "return_only_integer([\"hello\", 81, \"basketball\", 123, \"fox\"]) ➞ [81, 123]\n",
    "\n",
    "return_only_integer([10, \"121\", 56, 20, \"car\", 3, \"lion\"]) ➞ [10, 56, 20, 3]\n",
    "\n",
    "return_only_integer([\"String\",  True,  3.3,  1]) ➞ [1]\n"
   ]
  },
  {
   "cell_type": "markdown",
   "id": "4adf7f39-c199-446b-882a-d4a1b2b635eb",
   "metadata": {},
   "source": [
    "### solution for question 5"
   ]
  },
  {
   "cell_type": "code",
   "execution_count": 12,
   "id": "a04ac21e-7fb7-466c-90ac-c0eb665a5f6b",
   "metadata": {},
   "outputs": [],
   "source": [
    "def return_only_integer(lst):\n",
    "    get_returned = []\n",
    "    for i in lst:\n",
    "        if type(i) == int:\n",
    "            get_returned.append(i)\n",
    "    return get_returned"
   ]
  },
  {
   "cell_type": "code",
   "execution_count": 13,
   "id": "02287450-e3a1-483f-b4f8-3391daa491e0",
   "metadata": {},
   "outputs": [
    {
     "data": {
      "text/plain": [
       "[81, 123]"
      ]
     },
     "execution_count": 13,
     "metadata": {},
     "output_type": "execute_result"
    }
   ],
   "source": [
    "return_only_integer([\"hello\", 81, \"basketball\", 123, \"fox\"])"
   ]
  },
  {
   "cell_type": "code",
   "execution_count": 14,
   "id": "8be785bd-92c6-41bc-8ade-f8dc3b0e97ce",
   "metadata": {},
   "outputs": [
    {
     "data": {
      "text/plain": [
       "[10, 56, 20, 3]"
      ]
     },
     "execution_count": 14,
     "metadata": {},
     "output_type": "execute_result"
    }
   ],
   "source": [
    "return_only_integer([10, \"121\", 56, 20, \"car\", 3, \"lion\"])"
   ]
  },
  {
   "cell_type": "code",
   "execution_count": null,
   "id": "9265f368-085e-4a16-977f-6c3155b77359",
   "metadata": {},
   "outputs": [],
   "source": []
  }
 ],
 "metadata": {
  "kernelspec": {
   "display_name": "Python 3 (ipykernel)",
   "language": "python",
   "name": "python3"
  },
  "language_info": {
   "codemirror_mode": {
    "name": "ipython",
    "version": 3
   },
   "file_extension": ".py",
   "mimetype": "text/x-python",
   "name": "python",
   "nbconvert_exporter": "python",
   "pygments_lexer": "ipython3",
   "version": "3.10.6"
  }
 },
 "nbformat": 4,
 "nbformat_minor": 5
}
