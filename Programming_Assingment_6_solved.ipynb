{
 "cells": [
  {
   "cell_type": "markdown",
   "id": "6dece36d-8a4c-4280-95df-9bbcfd3221e0",
   "metadata": {},
   "source": [
    "1. Write a Python Program to Display Fibonacci Sequence Using Recursion?\n",
    "2. Write a Python Program to Find Factorial of Number Using Recursion?\n",
    "3. Write a Python Program to calculate your Body Mass Index?\n",
    "4. Write a Python Program to calculate the natural logarithm of any number?\n",
    "5. Write a Python Program for cube sum of first n natural numbers?         "
   ]
  },
  {
   "cell_type": "code",
   "execution_count": 1,
   "id": "98f6d692-331e-4c1d-9926-dbd70f7e0c5c",
   "metadata": {},
   "outputs": [
    {
     "name": "stdout",
     "output_type": "stream",
     "text": [
      "Object `Recursion` not found.\n"
     ]
    }
   ],
   "source": [
    "1. Write a Python Program to Display Fibonacci Sequence Using Recursion?"
   ]
  },
  {
   "cell_type": "code",
   "execution_count": 2,
   "id": "02bca020-31f2-4879-b0e8-df0a53f5910a",
   "metadata": {},
   "outputs": [
    {
     "name": "stdout",
     "output_type": "stream",
     "text": [
      "0\n",
      "1\n",
      "1\n",
      "2\n",
      "3\n",
      "5\n",
      "8\n",
      "13\n",
      "21\n"
     ]
    }
   ],
   "source": [
    "#solution\n",
    "def fibonacci_seq(n):\n",
    "    if n <= 1:\n",
    "        return(n)\n",
    "    else:\n",
    "        return(fibonacci_seq(n-1) + fibonacci_seq(n-2))\n",
    "        \n",
    "        \n",
    "        \n",
    "n_terms = 9\n",
    "fibonacci_seq(n_terms)\n",
    "\n",
    "for i in range(n_terms):\n",
    "    print(fibonacci_seq(i))"
   ]
  },
  {
   "cell_type": "markdown",
   "id": "ade4756a-2395-4bb0-b3e9-33eadfce5bec",
   "metadata": {},
   "source": [
    "2. Write a Python Program to Find Factorial of Number Using Recursion?"
   ]
  },
  {
   "cell_type": "code",
   "execution_count": 3,
   "id": "9af756e4-36e3-438d-bfcd-e7093588d756",
   "metadata": {},
   "outputs": [
    {
     "data": {
      "text/plain": [
       "120"
      ]
     },
     "execution_count": 3,
     "metadata": {},
     "output_type": "execute_result"
    }
   ],
   "source": [
    "#solution\n",
    "def factorial(n):\n",
    "    if n == 1:\n",
    "        return(n)\n",
    "    else:\n",
    "        return n * factorial(n-1)\n",
    "        \n",
    "factorial(5)"
   ]
  },
  {
   "cell_type": "markdown",
   "id": "fd2e32ea-c51d-4a63-91c7-a4e3ce278e34",
   "metadata": {},
   "source": [
    "3. Write a Python Program to calculate your Body Mass Index?"
   ]
  },
  {
   "cell_type": "code",
   "execution_count": 4,
   "id": "1f2367fc-ed84-4783-9c0f-8b45350fd541",
   "metadata": {},
   "outputs": [
    {
     "name": "stdin",
     "output_type": "stream",
     "text": [
      "please enter your weight in Kgs:  67\n",
      "please enter your weight in meters:  135\n"
     ]
    },
    {
     "name": "stdout",
     "output_type": "stream",
     "text": [
      "your body mass index is 0\n"
     ]
    }
   ],
   "source": [
    "#solution\n",
    "weight = float(input(\"please enter your weight in Kgs: \"))\n",
    "height = float(input(\"please enter your weight in meters: \"))\n",
    "\n",
    "bmi = weight / (height**2)\n",
    "\n",
    "print(f\"your body mass index is {round(bmi)}\")"
   ]
  },
  {
   "cell_type": "markdown",
   "id": "f94a762f-07cd-4522-95f6-44aa728f12e8",
   "metadata": {},
   "source": [
    "4. Write a Python Program to calculate the natural logarithm of any number?"
   ]
  },
  {
   "cell_type": "code",
   "execution_count": 5,
   "id": "345f8fb7-e344-4679-be59-60bbdbb842b5",
   "metadata": {},
   "outputs": [
    {
     "name": "stdin",
     "output_type": "stream",
     "text": [
      "Enter the number: 6\n"
     ]
    },
    {
     "name": "stdout",
     "output_type": "stream",
     "text": [
      "Natural logarithm of 14 is : 1.791759469228055\n"
     ]
    }
   ],
   "source": [
    "#solution\n",
    "import math\n",
    "num = int(input(\"Enter the number:\"))\n",
    "print (\"Natural logarithm of 14 is : \", end=\"\")\n",
    "print (math.log(num))"
   ]
  },
  {
   "cell_type": "markdown",
   "id": "0b429880-2583-4fee-86ca-8bbc7d5bdc88",
   "metadata": {},
   "source": [
    "5. Write a Python Program for cube sum of first n natural numbers?"
   ]
  },
  {
   "cell_type": "code",
   "execution_count": 9,
   "id": "40d8ab5f-d892-498a-9ba2-8eb4d8024c6f",
   "metadata": {},
   "outputs": [
    {
     "name": "stdin",
     "output_type": "stream",
     "text": [
      " 2\n"
     ]
    },
    {
     "name": "stdout",
     "output_type": "stream",
     "text": [
      "9\n"
     ]
    }
   ],
   "source": [
    "#solution\n",
    "num = int(input())\n",
    "l = []\n",
    "for i in range(1,num+1):\n",
    "    l.append(pow(i, 3))\n",
    "\n",
    "print(sum(l))"
   ]
  },
  {
   "cell_type": "code",
   "execution_count": null,
   "id": "4c05222f-9638-457b-ac91-edb86dcbcc1d",
   "metadata": {},
   "outputs": [],
   "source": []
  },
  {
   "cell_type": "code",
   "execution_count": null,
   "id": "3d917ba7-b36f-4582-9c75-e6c27ed84f3e",
   "metadata": {},
   "outputs": [],
   "source": []
  }
 ],
 "metadata": {
  "kernelspec": {
   "display_name": "Python 3 (ipykernel)",
   "language": "python",
   "name": "python3"
  },
  "language_info": {
   "codemirror_mode": {
    "name": "ipython",
    "version": 3
   },
   "file_extension": ".py",
   "mimetype": "text/x-python",
   "name": "python",
   "nbconvert_exporter": "python",
   "pygments_lexer": "ipython3",
   "version": "3.10.6"
  }
 },
 "nbformat": 4,
 "nbformat_minor": 5
}
