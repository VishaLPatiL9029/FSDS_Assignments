{
 "cells": [
  {
   "cell_type": "markdown",
   "id": "b570ebaa-cbe5-492a-a765-79b9f14472a9",
   "metadata": {},
   "source": [
    "1. What is the relationship between def statements and lambda expressions ?\n",
    "2. What is the benefit of lambda?\n",
    "3. Compare and contrast map, filter, and reduce.\n",
    "4. What are function annotations, and how are they used?\n",
    "5. What are recursive functions, and how are they used?\n",
    "6. What are some general design guidelines for coding functions?\n",
    "7. Name three or more ways that functions can communicate results to a caller.\n",
    "\n"
   ]
  },
  {
   "cell_type": "markdown",
   "id": "5af35328-ced8-428e-970d-f355bba2c858",
   "metadata": {},
   "source": [
    "1. What is the relationship between def statements and lambda expressions ?"
   ]
  },
  {
   "cell_type": "markdown",
   "id": "3130be9e-19fa-46f5-8fef-5afdfd6566d1",
   "metadata": {},
   "source": [
    "#solution\n",
    "\n",
    "In python, \n",
    "\n",
    "the def defined functions are commonly used because of their simplicity. The def defined functions do not return anything if not explicitly returned whereas the lambda function does return an object. The def functions must be declared in the namespace. The def functions can perform any python task including multiple conditions, nested conditions or loops of any level, printing, importing libraries, raising Exceptions, etc. \n",
    "\n",
    "The lambda functions can be used without any declaration in the namespace. The lambda functions like single-line functions. These functions do not have parenthesis like the def defined functions but instead. There is no return keyword defined explicitly because the lambda function does return an object by default.\n",
    "\n",
    "A lambda is an expression producing a function.\n",
    "A def is a statement producing a function."
   ]
  },
  {
   "cell_type": "markdown",
   "id": "b7ca36e1-af00-44dd-b860-2651c67648ba",
   "metadata": {},
   "source": [
    "2. What is the benefit of lambda?"
   ]
  },
  {
   "cell_type": "markdown",
   "id": "82b4669e-f7a9-4e5a-b945-3a64c9b31089",
   "metadata": {},
   "source": [
    "#solution\n",
    "\n",
    "The lambda keyword in Python provides a shortcut for declaring small anonymous functions. Lambda functions behave just like regular functions declared with the def keyword. They can be used whenever function objects are required.\n"
   ]
  },
  {
   "cell_type": "markdown",
   "id": "15d5e487-c693-4c44-bc03-afa4f51e841d",
   "metadata": {},
   "source": [
    "3. Compare and contrast map, filter, and reduce."
   ]
  },
  {
   "cell_type": "markdown",
   "id": "6e0c2313-0c8a-4c9b-9ab3-f44c857edf59",
   "metadata": {},
   "source": [
    "#solution\n",
    "1. the map() function iterates through all items in the given iterable and executes the function we passed as an \n",
    "    argument on each of them."
   ]
  },
  {
   "cell_type": "code",
   "execution_count": 1,
   "id": "56f1191a-6fff-41ad-8a01-d8ec6e713568",
   "metadata": {},
   "outputs": [
    {
     "name": "stdout",
     "output_type": "stream",
     "text": [
      "[True, False, False, True, False]\n"
     ]
    }
   ],
   "source": [
    "fruit = [\"Apple\", \"Banana\", \"Pear\", \"Apricot\", \"Orange\"]\n",
    "\n",
    "def starts_with_A(s):\n",
    "    return s[0] == \"A\"\n",
    "\n",
    "map_object = map(starts_with_A, fruit)\n",
    "\n",
    "print(list(map_object))"
   ]
  },
  {
   "cell_type": "markdown",
   "id": "a09743fc-d89b-4a7e-be4f-978b74be3043",
   "metadata": {},
   "source": [
    "2. the filter () funnction takes function object and an iterables and creates a new list which contains\n",
    "    only elements that satify a certain condition"
   ]
  },
  {
   "cell_type": "code",
   "execution_count": 2,
   "id": "7beaa0ff-1784-4ced-80fc-6db5e8879966",
   "metadata": {},
   "outputs": [
    {
     "name": "stdout",
     "output_type": "stream",
     "text": [
      "['Apple', 'Apricot']\n"
     ]
    }
   ],
   "source": [
    "filter_object = filter(starts_with_A, fruit)\n",
    "print(list(filter_object))"
   ]
  },
  {
   "cell_type": "markdown",
   "id": "0260e480-4583-4654-9013-0d2d4ecc2d31",
   "metadata": {},
   "source": [
    "3. reduce() works differently  than map() and filter().\n",
    "    it does not return a new list based on the function and iterables we have passed instead it returns a single\n",
    "    value.\n",
    "    "
   ]
  },
  {
   "cell_type": "code",
   "execution_count": 4,
   "id": "c7a7914e-6dea-4c59-b86c-3f5724335f88",
   "metadata": {},
   "outputs": [
    {
     "name": "stdout",
     "output_type": "stream",
     "text": [
      "21\n"
     ]
    }
   ],
   "source": [
    "from functools import reduce\n",
    "items=[1,2,3,4,5,6]\n",
    "\n",
    "def sum(x,y):\n",
    "    return x + y\n",
    "\n",
    "print(reduce(sum,items))"
   ]
  },
  {
   "cell_type": "markdown",
   "id": "233d81c5-4976-4464-aeda-ddc6ef8eff96",
   "metadata": {},
   "source": [
    "4. What are function annotations, and how are they used?"
   ]
  },
  {
   "cell_type": "markdown",
   "id": "00f02c47-896e-4004-81c2-e063f280d91f",
   "metadata": {},
   "source": [
    "# solution\n",
    "function annotations are arbitrary python expressions that are associated with various part of functions.\n",
    "these expressions are evaluted at compile time and have no life in python's runtime environment. python does not\n",
    "attach any meaning to these annotations."
   ]
  },
  {
   "cell_type": "markdown",
   "id": "813a726d-0207-47dc-a596-991dba968a8a",
   "metadata": {},
   "source": [
    "5. What are recursive functions, and how are they used?"
   ]
  },
  {
   "cell_type": "markdown",
   "id": "861a4791-513f-4e9a-9d68-852218268285",
   "metadata": {},
   "source": [
    "# solution\n",
    "a recursive function is a function in code that refers to itself for execution. recursive functions can be simple or elaborate. they allow for more efficient code writing, for instance, in the listing or compliling of sets of numbers, strings or other varaibles through a single reiterated process."
   ]
  },
  {
   "cell_type": "code",
   "execution_count": 7,
   "id": "5e516fdb-5af1-4b38-ac6f-0ee265568720",
   "metadata": {},
   "outputs": [
    {
     "data": {
      "text/plain": [
       "720"
      ]
     },
     "execution_count": 7,
     "metadata": {},
     "output_type": "execute_result"
    }
   ],
   "source": [
    "# Recursive function\n",
    "\n",
    "def recursive_factorial(n):\n",
    "  if n == 1:\n",
    "      return n\n",
    "  else:\n",
    "      return n * recursive_factorial(n-1)\n",
    "    \n",
    "recursive_factorial(6)"
   ]
  },
  {
   "cell_type": "markdown",
   "id": "d332c570-5dc9-4fdc-944e-19a47921e8bd",
   "metadata": {},
   "source": [
    "6. What are some general design guidelines for coding functions?"
   ]
  },
  {
   "cell_type": "code",
   "execution_count": null,
   "id": "e863f366-2954-421c-9ea7-44c98a651a9d",
   "metadata": {},
   "outputs": [],
   "source": [
    "#solution\n",
    "1. Use 4 spaces instead of tabs.\n",
    "2. Maximum line length is 120 symbols.\n",
    "3. 2 blank lines between classes and functions.\n",
    "4. 1 blank line within class between class methods.\n",
    "5. No blank line following a def line.\n",
    "6. No whitespace inside parentheses, brackets, or braces."
   ]
  },
  {
   "cell_type": "markdown",
   "id": "f0654a9b-010f-4d36-aa77-b3a604b9a1c9",
   "metadata": {},
   "source": [
    "7. Name three or more ways that functions can communicate results to a caller."
   ]
  },
  {
   "cell_type": "markdown",
   "id": "82243aab-5d25-4fa4-b250-792dba27069a",
   "metadata": {},
   "source": [
    "#solution\n",
    "def , print , return"
   ]
  }
 ],
 "metadata": {
  "kernelspec": {
   "display_name": "Python 3 (ipykernel)",
   "language": "python",
   "name": "python3"
  },
  "language_info": {
   "codemirror_mode": {
    "name": "ipython",
    "version": 3
   },
   "file_extension": ".py",
   "mimetype": "text/x-python",
   "name": "python",
   "nbconvert_exporter": "python",
   "pygments_lexer": "ipython3",
   "version": "3.10.6"
  }
 },
 "nbformat": 4,
 "nbformat_minor": 5
}
