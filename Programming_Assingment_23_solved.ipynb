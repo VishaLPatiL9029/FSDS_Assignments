{
 "cells": [
  {
   "cell_type": "markdown",
   "id": "0b956b6c-1525-4467-b716-891a1e8e91fe",
   "metadata": {},
   "source": [
    "## Question 1\n",
    "Create a function that takes a number as an argument and returns True or False depending on whether the number is symmetrical or not. A number is symmetrical when it is the same as its reverse.\n",
    "Examples\n",
    "is_symmetrical(7227) ➞ True\n",
    "\n",
    "is_symmetrical(12567) ➞ False\n",
    "\n",
    "is_symmetrical(44444444) ➞ True\n",
    "\n",
    "is_symmetrical(9939) ➞ False\n",
    "\n",
    "is_symmetrical(1112111) ➞ True"
   ]
  },
  {
   "cell_type": "markdown",
   "id": "28437adc-8bb0-4751-b000-7d7b322f226b",
   "metadata": {},
   "source": [
    "### Solution for Question 1"
   ]
  },
  {
   "cell_type": "code",
   "execution_count": 1,
   "id": "aaa54745-abe7-491e-aa9d-34d6ff0cefc3",
   "metadata": {},
   "outputs": [
    {
     "data": {
      "text/plain": [
       "True"
      ]
     },
     "execution_count": 1,
     "metadata": {},
     "output_type": "execute_result"
    }
   ],
   "source": [
    "def is_symmetrical(num):\n",
    "    k = [int(x) for x in str(num)]\n",
    "    if k == k[::-1]:\n",
    "        return True\n",
    "    else:\n",
    "        return False\n",
    "        \n",
    "is_symmetrical(7227)"
   ]
  },
  {
   "cell_type": "code",
   "execution_count": 2,
   "id": "7090ece9-7dff-4e8c-8e06-d867fdbc7e89",
   "metadata": {},
   "outputs": [
    {
     "data": {
      "text/plain": [
       "False"
      ]
     },
     "execution_count": 2,
     "metadata": {},
     "output_type": "execute_result"
    }
   ],
   "source": [
    "is_symmetrical(9939)"
   ]
  },
  {
   "cell_type": "markdown",
   "id": "de3cef31-7197-4814-b7bc-8668073abbfa",
   "metadata": {
    "tags": []
   },
   "source": [
    "## Question 2\n",
    "Given a string of numbers separated by a comma and space, return the product of the numbers.\n",
    "Examples\n",
    "multiply_nums(\"2, 3\") ➞ 6\n",
    "\n",
    "multiply_nums(\"1, 2, 3, 4\") ➞ 24\n",
    "\n",
    "multiply_nums(\"54, 75, 453, 0\") ➞ 0\n",
    "\n",
    "multiply_nums(\"10, -2\") ➞ -20"
   ]
  },
  {
   "cell_type": "markdown",
   "id": "25b78c5c-3ae9-4cfd-bf4b-fb48d5bee947",
   "metadata": {},
   "source": [
    "### Solution for Question 2"
   ]
  },
  {
   "cell_type": "code",
   "execution_count": 4,
   "id": "25b042bf-db4f-4abb-a2d9-1d1f3a35c12a",
   "metadata": {},
   "outputs": [
    {
     "data": {
      "text/plain": [
       "-20"
      ]
     },
     "execution_count": 4,
     "metadata": {},
     "output_type": "execute_result"
    }
   ],
   "source": [
    "def multiply_nums(nums_str):\n",
    "    nums = [int(num) for num in nums_str.split(', ')]\n",
    "    product = 1\n",
    "    for num in nums:\n",
    "        product *= num\n",
    "    return product\n",
    "\n",
    "multiply_nums(\"10, -2\")"
   ]
  },
  {
   "cell_type": "markdown",
   "id": "aee003dd-a09e-4dd4-bb45-c9f5d436ce57",
   "metadata": {},
   "source": [
    "## Question 3\n",
    "Create a function that squares every digit of a number.\n",
    "Examples\n",
    "square_digits(9119) ➞ 811181\n",
    "\n",
    "square_digits(2483) ➞ 416649\n",
    "\n",
    "square_digits(3212) ➞ 9414\n",
    "Notes\n",
    "The function receives an integer and must return an integer."
   ]
  },
  {
   "cell_type": "markdown",
   "id": "9b469fc8-337c-4216-ae7b-1e90da59437c",
   "metadata": {},
   "source": [
    "### Solution for Question 3"
   ]
  },
  {
   "cell_type": "code",
   "execution_count": 5,
   "id": "f703c642-8544-4064-8150-adb2d75e25e0",
   "metadata": {},
   "outputs": [
    {
     "name": "stdout",
     "output_type": "stream",
     "text": [
      "811181"
     ]
    }
   ],
   "source": [
    "def square_digits(num):\n",
    "    nums = [int(n) for n in str(num)]\n",
    "    for i in nums:\n",
    "        print(int(i**2), end = \"\")\n",
    "        \n",
    "square_digits(9119)"
   ]
  },
  {
   "cell_type": "code",
   "execution_count": 6,
   "id": "b0a2910b-b067-4b26-ab9a-8dfddf170772",
   "metadata": {},
   "outputs": [
    {
     "name": "stdout",
     "output_type": "stream",
     "text": [
      "811181"
     ]
    }
   ],
   "source": [
    "square_digits(9119)"
   ]
  },
  {
   "cell_type": "markdown",
   "id": "e4f95496-d0fc-41ca-8736-bb8f1b75d796",
   "metadata": {},
   "source": [
    "## Question 4 \n",
    "Create a function that sorts a list and removes all duplicate items from it. Examples setify([1, 3, 3, 5, 5]) ➞ [1, 3, 5]\n",
    "\n",
    "setify([4, 4, 4, 4]) ➞ [4]\n",
    "\n",
    "setify([5, 7, 8, 9, 10, 15]) ➞ [5, 7, 8, 9, 10, 15]\n",
    "\n",
    "setify([3, 3, 3, 2, 1]) ➞ [1, 2, 3]"
   ]
  },
  {
   "cell_type": "markdown",
   "id": "ffd0bc91-1c28-454b-921e-c3f824797f29",
   "metadata": {},
   "source": [
    "### Solution for Question 4"
   ]
  },
  {
   "cell_type": "code",
   "execution_count": 7,
   "id": "c921d2d2-1c42-4b98-8b81-f9a318014866",
   "metadata": {},
   "outputs": [],
   "source": [
    "def setify(lst):\n",
    "    lst1 = []\n",
    "    for i in lst:\n",
    "        if i not in lst1:\n",
    "            lst1.append(i)\n",
    "    return lst1"
   ]
  },
  {
   "cell_type": "code",
   "execution_count": 8,
   "id": "4259a8a0-4811-4cf4-90e6-65d9cd24df67",
   "metadata": {},
   "outputs": [
    {
     "data": {
      "text/plain": [
       "[3, 2, 1]"
      ]
     },
     "execution_count": 8,
     "metadata": {},
     "output_type": "execute_result"
    }
   ],
   "source": [
    "setify([3, 3, 3, 2, 1])"
   ]
  },
  {
   "cell_type": "code",
   "execution_count": 9,
   "id": "e0decd3d-5b94-4bbc-8195-9b71b0811946",
   "metadata": {},
   "outputs": [
    {
     "data": {
      "text/plain": [
       "[4]"
      ]
     },
     "execution_count": 9,
     "metadata": {},
     "output_type": "execute_result"
    }
   ],
   "source": [
    "setify([4, 4, 4, 4])"
   ]
  },
  {
   "cell_type": "markdown",
   "id": "73574fc0-acdb-4465-9b28-353b7b98e485",
   "metadata": {},
   "source": [
    "## Question 5 \n",
    "Create a function that returns the mean of all digits. Examples mean(42) ➞ 3\n",
    "\n",
    "mean(12345) ➞ 3\n",
    "\n",
    "mean(666) ➞ 6 Notes • The mean of all digits is the sum of digits / how many digits there are (e.g. mean of digits in 512 is (5+1+2)/3(number of digits) = 8/3=2). • The mean will always be an integer."
   ]
  },
  {
   "cell_type": "markdown",
   "id": "f92a8345-9092-4799-81d1-c91a85737aea",
   "metadata": {},
   "source": [
    "### Solution for Question 5"
   ]
  },
  {
   "cell_type": "code",
   "execution_count": 10,
   "id": "e61154db-3d4e-4967-98f7-b3e0681068ac",
   "metadata": {},
   "outputs": [],
   "source": [
    "def mean(num):\n",
    "    lst = [int(i) for i in str(num)]\n",
    "    total = 0\n",
    "    for i in lst:\n",
    "        total = total + i\n",
    "    return round(total/len(lst))"
   ]
  },
  {
   "cell_type": "code",
   "execution_count": 11,
   "id": "2375fc54-890d-4c6e-9336-bcc5bd1d0819",
   "metadata": {},
   "outputs": [
    {
     "data": {
      "text/plain": [
       "6"
      ]
     },
     "execution_count": 11,
     "metadata": {},
     "output_type": "execute_result"
    }
   ],
   "source": [
    "mean(666)"
   ]
  },
  {
   "cell_type": "code",
   "execution_count": null,
   "id": "4e6ed487-ecb0-489d-8305-0f058a5e072c",
   "metadata": {},
   "outputs": [],
   "source": []
  },
  {
   "cell_type": "code",
   "execution_count": null,
   "id": "782d82fd-1efa-4ad4-a180-32dfcfeb8157",
   "metadata": {},
   "outputs": [],
   "source": []
  }
 ],
 "metadata": {
  "kernelspec": {
   "display_name": "Python 3 (ipykernel)",
   "language": "python",
   "name": "python3"
  },
  "language_info": {
   "codemirror_mode": {
    "name": "ipython",
    "version": 3
   },
   "file_extension": ".py",
   "mimetype": "text/x-python",
   "name": "python",
   "nbconvert_exporter": "python",
   "pygments_lexer": "ipython3",
   "version": "3.10.6"
  }
 },
 "nbformat": 4,
 "nbformat_minor": 5
}
