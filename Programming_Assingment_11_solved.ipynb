{
 "cells": [
  {
   "cell_type": "markdown",
   "id": "282b3f19-02f6-4131-bf5a-71a16e648bea",
   "metadata": {},
   "source": [
    "1. Write a Python program to find words which are greater than given length k?\n",
    "2. Write a Python program for removing i-th character from a string?\n",
    "3. Write a Python program to split and join a string?\n",
    "4. Write a Python to check if a given string is binary string or not?\n",
    "5. Write a Python program to find uncommon words from two Strings?\n",
    "6. Write a Python to find all duplicate characters in string?\n",
    "7. Write a Python Program to check if a string contains any special character?\n"
   ]
  },
  {
   "cell_type": "markdown",
   "id": "59e27c4d-3bb4-4da4-84d0-3ead29a74c76",
   "metadata": {},
   "source": [
    "1.\tWrite a Python program to find words which are greater than given length k?"
   ]
  },
  {
   "cell_type": "code",
   "execution_count": 1,
   "id": "dc6374af-f416-43c9-aa5e-3e67f2df69c1",
   "metadata": {},
   "outputs": [
    {
     "name": "stdin",
     "output_type": "stream",
     "text": [
      "Enter the length of the word to check:  6\n"
     ]
    },
    {
     "name": "stdout",
     "output_type": "stream",
     "text": [
      "['alphabet', 'congratulations']\n"
     ]
    }
   ],
   "source": [
    "# Solution\n",
    "words = ['vishal', 'mango', 'people', 'bat', 'alphabet', 'congratulations', 'people', 'love']\n",
    "k = int(input('Enter the length of the word to check: '))\n",
    "word_great = []\n",
    "for i in words:\n",
    "    if len(i) > k:\n",
    "        word_great.append(i)\n",
    "\n",
    "print(word_great)"
   ]
  },
  {
   "cell_type": "markdown",
   "id": "cfd03fcb-409a-4de6-a642-34d1208f3174",
   "metadata": {},
   "source": [
    "2. Write a Python program for removing i-th character from a string?"
   ]
  },
  {
   "cell_type": "code",
   "execution_count": 2,
   "id": "8f02cd3c-2203-41a7-819f-12f8c022e583",
   "metadata": {},
   "outputs": [
    {
     "name": "stdin",
     "output_type": "stream",
     "text": [
      "enter the string:  vishal\n",
      "Enter the ith position of string to remove:  2\n"
     ]
    },
    {
     "name": "stdout",
     "output_type": "stream",
     "text": [
      "vihal\n"
     ]
    }
   ],
   "source": [
    "#solution\n",
    "string_re = input(\"enter the string: \")\n",
    "k = int(input(\"Enter the ith position of string to remove: \" ))\n",
    "\n",
    "for i in range(len(string_re)):\n",
    "    if i == k:\n",
    "        a = string_re[k]\n",
    "\n",
    "print(string_re.replace(a, ''))\n",
    "    \n",
    "    "
   ]
  },
  {
   "cell_type": "markdown",
   "id": "7aa1a841-a397-4680-9246-5234a29d8153",
   "metadata": {},
   "source": [
    "3. Write a Python program to split and join a string?"
   ]
  },
  {
   "cell_type": "code",
   "execution_count": 3,
   "id": "e520e7cf-120c-4ccc-8bfc-4c10827b2f5e",
   "metadata": {},
   "outputs": [
    {
     "name": "stdout",
     "output_type": "stream",
     "text": [
      "['v', 'i', 's', 'h', 'a', 'l', 'p', 'a', 't', 'i', 'l']\n",
      "vishalpatil\n"
     ]
    }
   ],
   "source": [
    "#solution\n",
    "# this solution representated without using inbuild split and join function.\n",
    "strng = 'vishalpatil'\n",
    "lst = []\n",
    "for i in strng:\n",
    "    lst.append(i)\n",
    "print(lst)\n",
    "\n",
    "j = ''\n",
    "for i in lst:\n",
    "    j = j + i\n",
    "print(j)"
   ]
  },
  {
   "cell_type": "markdown",
   "id": "a9895423-2fe0-407d-84ef-cac43778910b",
   "metadata": {},
   "source": [
    "4. Write a Python to check if a given string is binary string or not?"
   ]
  },
  {
   "cell_type": "code",
   "execution_count": 4,
   "id": "f3262667-b9ae-4a49-a7e9-e41d9b18a2ab",
   "metadata": {},
   "outputs": [
    {
     "name": "stdin",
     "output_type": "stream",
     "text": [
      "enter the string to check if its binary or not. 0101010\n"
     ]
    },
    {
     "name": "stdout",
     "output_type": "stream",
     "text": [
      "yaaa, its binary\n"
     ]
    }
   ],
   "source": [
    "#solution\n",
    "strng = input(\"enter the string to check if its binary or not.\")\n",
    "count = 0\n",
    "\n",
    "for i in strng:\n",
    "    if i == '1' or i == '0':\n",
    "        count = count + 1\n",
    "\n",
    "if count == len(strng):\n",
    "    print(\"yaaa, its binary\")\n",
    "else:\n",
    "    print(\"ooops, its not what you think.\")\n"
   ]
  },
  {
   "cell_type": "markdown",
   "id": "d03204e9-687a-4db1-9c11-b119d0a958a4",
   "metadata": {},
   "source": [
    "5. Write a Python program to find uncommon words from two Strings?"
   ]
  },
  {
   "cell_type": "code",
   "execution_count": 6,
   "id": "04103f45-78a7-4748-8ee9-2d8e0140bc3d",
   "metadata": {},
   "outputs": [
    {
     "name": "stdout",
     "output_type": "stream",
     "text": [
      "['willing', 'lacking', 'return', 'spill']\n",
      "['dispensable', 'feeble', 'liquid', 'report', 'unbecoming', 'store', 'drum', 'incompetent', 'behavior', 'expand', 'snatch']\n"
     ]
    }
   ],
   "source": [
    "#solution\n",
    "lst_1 = ['dispensable','willing', 'lacking','return','feeble','liquid','report','spill','unbecoming','store']\n",
    "lst_2 = ['willing', 'lacking','return','drum','spill','incompetent','behavior','expand','snatch']\n",
    "common = []\n",
    "uncommon = []\n",
    "for i in lst_1:\n",
    "    for j in lst_2:\n",
    "        if i == j:\n",
    "            common.append(i)\n",
    "\n",
    "print(common)\n",
    "\n",
    "\n",
    "for i in lst_1:\n",
    "    if i not in common:\n",
    "        uncommon.append(i)\n",
    "for i in lst_2:\n",
    "    if i not in common:\n",
    "        uncommon.append(i)\n",
    "\n",
    "            \n",
    "print(uncommon)"
   ]
  },
  {
   "cell_type": "markdown",
   "id": "7cf75339-9a25-4063-99c2-0140c2a6b1a7",
   "metadata": {},
   "source": [
    "6. Write a Python to find all duplicate characters in string?"
   ]
  },
  {
   "cell_type": "code",
   "execution_count": 34,
   "id": "1f2b932e-9400-4faa-8532-9c498dd04d1d",
   "metadata": {},
   "outputs": [
    {
     "name": "stdout",
     "output_type": "stream",
     "text": [
      "s e "
     ]
    }
   ],
   "source": [
    "#solution\n",
    "strng = 'dispensable'\n",
    "\n",
    "lst = []\n",
    "uni_lst = []\n",
    "for i in strng:\n",
    "    lst.append(i)\n",
    "    \n",
    "for i in lst:\n",
    "    if i not in uni_lst:\n",
    "        uni_lst.append(i)\n",
    "    else:\n",
    "        print(i, end = ' ')\n",
    "    \n",
    "\n"
   ]
  },
  {
   "cell_type": "markdown",
   "id": "f2f6be02-094c-4363-abef-60b10c86f640",
   "metadata": {},
   "source": [
    "7. Write a Python Program to check if a string contains any special character?"
   ]
  },
  {
   "cell_type": "code",
   "execution_count": 36,
   "id": "2c52a64c-8da2-41d2-a7ea-5f4d61909aaf",
   "metadata": {},
   "outputs": [
    {
     "name": "stdin",
     "output_type": "stream",
     "text": [
      "Enter the string:  @#$@^@visallk\n"
     ]
    },
    {
     "name": "stdout",
     "output_type": "stream",
     "text": [
      "@\n",
      "@\n",
      "@\n",
      "#\n",
      "$\n",
      "^\n"
     ]
    }
   ],
   "source": [
    "#solution\n",
    "regex = '[@_!#$%^&*()<>?/\\|}{~:]'\n",
    "strng = input(\"Enter the string: \")\n",
    "\n",
    "for i in regex:\n",
    "    for j in strng:\n",
    "        if i == j:\n",
    "            print(i)"
   ]
  },
  {
   "cell_type": "code",
   "execution_count": null,
   "id": "0d17ff51-fae1-4457-9ddd-5427652539d4",
   "metadata": {},
   "outputs": [],
   "source": []
  }
 ],
 "metadata": {
  "kernelspec": {
   "display_name": "Python 3 (ipykernel)",
   "language": "python",
   "name": "python3"
  },
  "language_info": {
   "codemirror_mode": {
    "name": "ipython",
    "version": 3
   },
   "file_extension": ".py",
   "mimetype": "text/x-python",
   "name": "python",
   "nbconvert_exporter": "python",
   "pygments_lexer": "ipython3",
   "version": "3.10.6"
  }
 },
 "nbformat": 4,
 "nbformat_minor": 5
}
