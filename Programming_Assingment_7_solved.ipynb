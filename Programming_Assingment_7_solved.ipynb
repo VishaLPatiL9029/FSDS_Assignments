{
 "cells": [
  {
   "cell_type": "markdown",
   "id": "bbcada03-24d5-4b58-960f-6bf2610cfef0",
   "metadata": {},
   "source": [
    "1. Write a Python Program to find sum of array?\n",
    "2. Write a Python Program to find largest element in an array?\n",
    "3. Write a Python Program for array rotation?\n",
    "4. Write a Python Program to Split the array and add the first part to the end?\n",
    "5. Write a Python Program to check if given array is Monotonic?"
   ]
  },
  {
   "cell_type": "markdown",
   "id": "34bda7dd-456e-4dd1-a303-c65555e6d0e4",
   "metadata": {},
   "source": [
    "1. Write a Python Program to find sum of array?"
   ]
  },
  {
   "cell_type": "code",
   "execution_count": 9,
   "id": "05adad8d-c5d2-4ed5-9ca0-5beadf211464",
   "metadata": {},
   "outputs": [
    {
     "name": "stdout",
     "output_type": "stream",
     "text": [
      "30\n"
     ]
    }
   ],
   "source": [
    "#solution\n",
    "l = [2,6,7,8,4,3]\n",
    "sum = 0\n",
    "for i in l:\n",
    "    sum = sum + i\n",
    "    \n",
    "print(sum)"
   ]
  },
  {
   "cell_type": "markdown",
   "id": "0ca43ce5-faf5-4fb2-b532-74cbb0dfd4c0",
   "metadata": {},
   "source": [
    "2. Write a Python Program to find largest element in an array?"
   ]
  },
  {
   "cell_type": "code",
   "execution_count": 12,
   "id": "28ee3e79-adfd-4c72-a9c3-31870ca4bfcf",
   "metadata": {},
   "outputs": [
    {
     "name": "stdout",
     "output_type": "stream",
     "text": [
      "8\n"
     ]
    }
   ],
   "source": [
    "#solution\n",
    "l = [2,6,7,8,4,3,1]\n",
    "max_ = l[0]\n",
    "for i in range(len(l)):\n",
    "    if(l[i] > max_):\n",
    "        max_ = l[i]\n",
    "        \n",
    "print(max_)\n",
    "    "
   ]
  },
  {
   "cell_type": "markdown",
   "id": "973b240c-ad64-47e0-8b92-e206e3627c58",
   "metadata": {},
   "source": [
    "3. Write a Python Program for array rotation?"
   ]
  },
  {
   "cell_type": "code",
   "execution_count": 15,
   "id": "a6f67929-55dc-4a2e-a7f3-59a2cb123a87",
   "metadata": {},
   "outputs": [
    {
     "name": "stdout",
     "output_type": "stream",
     "text": [
      "Rotated list is\n",
      "[4, 5, 6, 7, 8, 9, 0, 1, 2, 3]\n"
     ]
    }
   ],
   "source": [
    "# solution\n",
    "def rotateArray(arr, step):\n",
    "    n=len(arr)\n",
    "    arr[:]=arr[step:n]+arr[0:step]\n",
    "    return arr\n",
    "\n",
    "arr = [1, 2, 3, 4, 5, 6, 7, 8, 9, 0]\n",
    "\n",
    "print(\"Rotated list is\")\n",
    "print(rotateArray(arr,3)) "
   ]
  },
  {
   "cell_type": "markdown",
   "id": "95acb2a5-1848-454d-b68b-f3550b2325d6",
   "metadata": {},
   "source": [
    "4. Write a Python Program to Split the array and add the first part to the end?"
   ]
  },
  {
   "cell_type": "code",
   "execution_count": 22,
   "id": "a46df7ae-c13e-491b-962a-d6de4344a3ce",
   "metadata": {},
   "outputs": [
    {
     "name": "stdout",
     "output_type": "stream",
     "text": [
      "Rotated list is\n",
      "[5, 6, 7, 8, 9, 1, 2, 3, 4]\n"
     ]
    }
   ],
   "source": [
    "#solution\n",
    "def splitArray(arr):\n",
    "    n=len(arr)\n",
    "    s = int(n/2)\n",
    "    arr[:]=arr[s:n]+arr[0:s]\n",
    "    return arr\n",
    "\n",
    "arr = [1, 2, 3, 4, 5, 6, 7, 8, 9]\n",
    "\n",
    "print(\"splited list is\")\n",
    "print(splitArray(arr)) \n"
   ]
  },
  {
   "cell_type": "markdown",
   "id": "f5c7a5cf-b210-4643-98e8-cac20b6e4b00",
   "metadata": {},
   "source": [
    "5. Write a Python Program to check if given array is Monotonic?"
   ]
  },
  {
   "cell_type": "code",
   "execution_count": 28,
   "id": "6868077d-75cf-4f8f-ad87-c1891e364811",
   "metadata": {},
   "outputs": [
    {
     "name": "stdout",
     "output_type": "stream",
     "text": [
      "True\n"
     ]
    }
   ],
   "source": [
    "#solution\n",
    "\n",
    "def ismonotonic(A):\n",
    "    x = []\n",
    "    y = []\n",
    "    x.extend(A)\n",
    "    y.extend(A)\n",
    "    x.sort()\n",
    "    y.sort(reverse=True)\n",
    "    if(x == A or y == A):\n",
    "        return True\n",
    "    return False\n",
    "\n",
    "\n",
    "# Driver program\n",
    "A = [6, 5, 4, 4]\n",
    "\n",
    "# Print required result\n",
    "print(ismonotonic(A))\n"
   ]
  },
  {
   "cell_type": "code",
   "execution_count": null,
   "id": "fb0e0b35-add8-44ea-aeb8-80dd6aad9e81",
   "metadata": {},
   "outputs": [],
   "source": []
  }
 ],
 "metadata": {
  "kernelspec": {
   "display_name": "Python 3 (ipykernel)",
   "language": "python",
   "name": "python3"
  },
  "language_info": {
   "codemirror_mode": {
    "name": "ipython",
    "version": 3
   },
   "file_extension": ".py",
   "mimetype": "text/x-python",
   "name": "python",
   "nbconvert_exporter": "python",
   "pygments_lexer": "ipython3",
   "version": "3.10.6"
  }
 },
 "nbformat": 4,
 "nbformat_minor": 5
}
