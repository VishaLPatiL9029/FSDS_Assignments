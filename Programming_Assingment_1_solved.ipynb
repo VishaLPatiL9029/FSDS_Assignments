{
 "cells": [
  {
   "cell_type": "markdown",
   "id": "807fe880-031e-4e87-ae4c-8dc3de08c205",
   "metadata": {},
   "source": [
    "1. Write a Python program to print \"Hello Python\"?\n",
    "2. Write a Python program to do arithmetical operations addition and division.?\n",
    "3. Write a Python program to find the area of a triangle?\n",
    "4. Write a Python program to swap two variables?\n",
    "5. Write a Python program to generate a random number?\n"
   ]
  },
  {
   "cell_type": "markdown",
   "id": "0adf9dcc-4fd1-4954-bdab-7c4619e66b48",
   "metadata": {},
   "source": [
    "1.\tWrite a Python program to print \"Hello Python\"?"
   ]
  },
  {
   "cell_type": "code",
   "execution_count": 1,
   "id": "754c87fd-3224-40fc-9301-bfb3fa57fb1e",
   "metadata": {},
   "outputs": [
    {
     "name": "stdout",
     "output_type": "stream",
     "text": [
      "hello python\n"
     ]
    }
   ],
   "source": [
    "# solution\n",
    "print(\"hello python\")"
   ]
  },
  {
   "cell_type": "markdown",
   "id": "bb4424af-b151-4cb6-9780-0ffb1ea149cf",
   "metadata": {},
   "source": [
    "2.\tWrite a Python program to do arithmetical operations addition and division.?"
   ]
  },
  {
   "cell_type": "code",
   "execution_count": 3,
   "id": "ff84aec1-7b51-42c5-a3f0-0fc980ac93e1",
   "metadata": {},
   "outputs": [
    {
     "name": "stdin",
     "output_type": "stream",
     "text": [
      "Enter a 1st number:  4\n",
      "Enter a 2nd number:  5\n"
     ]
    },
    {
     "name": "stdout",
     "output_type": "stream",
     "text": [
      "multiplciation 20\n",
      "addition 9\n"
     ]
    }
   ],
   "source": [
    "# solution\n",
    "a = int(input(\"Enter a 1st number: \"))\n",
    "b = int(input(\"Enter a 2nd number: \"))\n",
    "\n",
    "mul = a * b\n",
    "add = a + b\n",
    "\n",
    "print(\"multiplciation\", mul)\n",
    "print(\"addition\", add)"
   ]
  },
  {
   "cell_type": "markdown",
   "id": "1bca2511-be2a-4ab3-bdc9-e937b4ff1480",
   "metadata": {},
   "source": [
    "3.\tWrite a Python program to find the area of a triangle?"
   ]
  },
  {
   "cell_type": "code",
   "execution_count": 7,
   "id": "d75e3da7-cbec-492d-8760-5a299e19b4e1",
   "metadata": {},
   "outputs": [
    {
     "name": "stdin",
     "output_type": "stream",
     "text": [
      "Enter the base of triangle:  5\n",
      "Enter the height of triangle:  44\n"
     ]
    },
    {
     "name": "stdout",
     "output_type": "stream",
     "text": [
      "Area_of_triangle : 110.0\n"
     ]
    }
   ],
   "source": [
    "#solution\n",
    "base = int(input(\"Enter the base of triangle: \"))\n",
    "height = int(input(\"Enter the height of triangle: \"))\n",
    "Area_of_triangle = 0.5*base*height\n",
    "\n",
    "print(f\"Area_of_triangle : {Area_of_triangle}\")"
   ]
  },
  {
   "cell_type": "code",
   "execution_count": null,
   "id": "91e86164-f736-40ce-8a37-d1435123be60",
   "metadata": {},
   "outputs": [],
   "source": [
    "4.\tWrite a Python program to swap two variables?"
   ]
  },
  {
   "cell_type": "code",
   "execution_count": null,
   "id": "6aa94671-9d88-4e0f-8558-af3775c4ce8c",
   "metadata": {},
   "outputs": [],
   "source": [
    "#solution\n",
    "a = input()\n",
    "b = input()\n",
    "\n",
    "c = a\n",
    "a = b\n",
    "b = c\n",
    "\n",
    "print(a, b)"
   ]
  },
  {
   "cell_type": "markdown",
   "id": "8031e684-4952-4e7a-a5a5-f30fa69580b5",
   "metadata": {},
   "source": [
    "5.\tWrite a Python program to generate a random number?"
   ]
  },
  {
   "cell_type": "code",
   "execution_count": 16,
   "id": "c4796d01-8f2e-47c0-af3e-b1f893cbcf0b",
   "metadata": {},
   "outputs": [
    {
     "name": "stdout",
     "output_type": "stream",
     "text": [
      "0.9109091477131516\n"
     ]
    }
   ],
   "source": [
    "#solution\n",
    "import random\n",
    "rand_num = random.random()\n",
    "print(rand_num)"
   ]
  },
  {
   "cell_type": "code",
   "execution_count": null,
   "id": "ea10ad48-8441-472b-913f-e65f79dd885b",
   "metadata": {},
   "outputs": [],
   "source": []
  }
 ],
 "metadata": {
  "kernelspec": {
   "display_name": "Python 3 (ipykernel)",
   "language": "python",
   "name": "python3"
  },
  "language_info": {
   "codemirror_mode": {
    "name": "ipython",
    "version": 3
   },
   "file_extension": ".py",
   "mimetype": "text/x-python",
   "name": "python",
   "nbconvert_exporter": "python",
   "pygments_lexer": "ipython3",
   "version": "3.10.6"
  }
 },
 "nbformat": 4,
 "nbformat_minor": 5
}
