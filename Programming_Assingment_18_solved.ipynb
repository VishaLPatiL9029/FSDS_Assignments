{
 "cells": [
  {
   "cell_type": "markdown",
   "id": "3ecbddaa-cf7a-49e8-9f0f-8d23e5863dbf",
   "metadata": {},
   "source": [
    "## Question 1\n",
    "Create a function that takes a list of non-negative integers and strings and return a new list without the strings.\n",
    "Examples\n",
    "filter_list([1, 2, \"a\", \"b\"]) ➞ [1, 2]\n",
    "\n",
    "filter_list([1, \"a\", \"b\", 0, 15]) ➞ [1, 0, 15]\n",
    "\n",
    "filter_list([1, 2, \"aasf\", \"1\", \"123\", 123]) ➞ [1, 2, 123]"
   ]
  },
  {
   "cell_type": "markdown",
   "id": "f778d8a3-07e4-44d2-8f08-3740e3ffe1dd",
   "metadata": {},
   "source": [
    "### Solution for Question 1"
   ]
  },
  {
   "cell_type": "code",
   "execution_count": 1,
   "id": "48071f7a-5f2f-4cde-9c73-e8654a903483",
   "metadata": {},
   "outputs": [
    {
     "data": {
      "text/plain": [
       "[1, 0, 15]"
      ]
     },
     "execution_count": 1,
     "metadata": {},
     "output_type": "execute_result"
    }
   ],
   "source": [
    "def filter_list(lst):\n",
    "    filterd = []\n",
    "    for i in lst:\n",
    "        if type(i) == int:\n",
    "            filterd.append(i)\n",
    "    return filterd\n",
    "        \n",
    "filter_list([1, \"a\", \"b\", 0, 15])     "
   ]
  },
  {
   "cell_type": "markdown",
   "id": "ff11ca35-f15b-4686-8086-b07bc9c8d0de",
   "metadata": {},
   "source": [
    "## Question 2\n",
    "The \"Reverser\" takes a string as input and returns that string in reverse order, with the opposite case.\n",
    "Examples\n",
    "reverse(\"Hello World\") ➞ \"DLROw OLLEh\"\n",
    "\n",
    "reverse(\"ReVeRsE\") ➞ \"eSrEvEr\"\n",
    "\n",
    "reverse(\"Radar\") ➞ \"RADAr\""
   ]
  },
  {
   "cell_type": "markdown",
   "id": "db5cf26f-6293-4f86-95cb-9ea6fa849fc5",
   "metadata": {},
   "source": [
    "### Solution for Question 2"
   ]
  },
  {
   "cell_type": "code",
   "execution_count": 2,
   "id": "71852854-6b30-413d-b5be-8c0277340427",
   "metadata": {},
   "outputs": [],
   "source": [
    "def reverser(strng):\n",
    "    a = ''\n",
    "    for i in strng:\n",
    "        if i.isupper() == True:\n",
    "            a = a + (i.lower())\n",
    "        elif i.islower() == True:\n",
    "            a = a + (i.upper())\n",
    "    print(a[::-1])"
   ]
  },
  {
   "cell_type": "code",
   "execution_count": 3,
   "id": "b65a79ea-2306-49c8-bf7e-855cdd609b3d",
   "metadata": {},
   "outputs": [
    {
     "name": "stdout",
     "output_type": "stream",
     "text": [
      "Radar\n"
     ]
    }
   ],
   "source": [
    "reverser(\"RADAr\")"
   ]
  },
  {
   "cell_type": "markdown",
   "id": "32cd1bae-398e-414b-a90a-7bcdee9725ca",
   "metadata": {},
   "source": [
    "## Question 3\n",
    "You can assign variables from lists like this:\n",
    "lst = [1, 2, 3, 4, 5, 6]\n",
    "first = lst[0]\n",
    "middle = lst[1:-1]\n",
    "last = lst[-1]\n",
    "\n",
    "print(first) ➞ outputs 1\n",
    "print(middle) ➞ outputs [2, 3, 4, 5]\n",
    "print(last) ➞ outputs 6\n",
    "With Python 3, you can assign variables from lists in a much more succinct way. Create variables first, middle and last from the given list using destructuring assignment (check the Resources tab for some examples), where:\n",
    "first  ➞ 1\n",
    "\n",
    "middle ➞ [2, 3, 4, 5]\n",
    "\n",
    "last ➞ 6\n",
    "Your task is to unpack the list writeyourcodehere into three variables, being first, middle, and last, with middle being everything in between the first and last element. Then print all three variables.\n"
   ]
  },
  {
   "cell_type": "markdown",
   "id": "ae696ee9-d999-4ad0-ba27-fa51919fff21",
   "metadata": {},
   "source": [
    "### Solution for Question 3"
   ]
  },
  {
   "cell_type": "code",
   "execution_count": 4,
   "id": "a939cc16-203a-44e0-9a0f-c46a83a83669",
   "metadata": {},
   "outputs": [],
   "source": [
    "def unpack(lst):\n",
    "    first, *middle, last = lst\n",
    "    print(f\"first -> {first}\")\n",
    "    print(f\"middle -> {middle}\")\n",
    "    print(f\"last -> {last}\")\n"
   ]
  },
  {
   "cell_type": "code",
   "execution_count": 5,
   "id": "385e7e4d-6149-408a-82e0-a9a1164329ea",
   "metadata": {},
   "outputs": [
    {
     "name": "stdout",
     "output_type": "stream",
     "text": [
      "first -> 1\n",
      "middle -> [2, 3, 4, 5]\n",
      "last -> 6\n"
     ]
    }
   ],
   "source": [
    "lst = [1, 2, 3, 4, 5, 6]\n",
    "unpack(lst)"
   ]
  },
  {
   "cell_type": "markdown",
   "id": "7d975052-77c6-403b-b3e3-06161293efaa",
   "metadata": {},
   "source": [
    "## Question 4\n",
    "Write a function that calculates the factorial of a number recursively.\n",
    "Examples\n",
    "factorial(5) ➞ 120\n",
    "\n",
    "factorial(3) ➞ 6\n",
    "\n",
    "factorial(1) ➞ 1\n",
    "\n",
    "factorial(0) ➞ 1"
   ]
  },
  {
   "cell_type": "markdown",
   "id": "5aebe9a7-be29-40b3-bd70-20164d6487f9",
   "metadata": {},
   "source": [
    "### Solution for Question 4"
   ]
  },
  {
   "cell_type": "code",
   "execution_count": 6,
   "id": "aae43dc7-3426-4611-ab08-83eb85567ce0",
   "metadata": {},
   "outputs": [],
   "source": [
    "def factorial(num):\n",
    "    a = 1\n",
    "    for i in range(1,num+1):\n",
    "        a = a * i\n",
    "    return a"
   ]
  },
  {
   "cell_type": "code",
   "execution_count": 7,
   "id": "6bd1958d-9b8c-4953-9f99-75787950f891",
   "metadata": {},
   "outputs": [
    {
     "data": {
      "text/plain": [
       "6"
      ]
     },
     "execution_count": 7,
     "metadata": {},
     "output_type": "execute_result"
    }
   ],
   "source": [
    "factorial(3)"
   ]
  },
  {
   "cell_type": "markdown",
   "id": "53cf2fd8-aa70-4b31-bb7b-c6b85bfc9536",
   "metadata": {},
   "source": [
    "## Question 5\n",
    "Write a function that moves all elements of one type to the end of the list.\n",
    "Examples\n",
    "move_to_end([1, 3, 2, 4, 4, 1], 1) ➞ [3, 2, 4, 4, 1, 1].\n",
    "\n",
    "#Move all the 1s to the end of the array.\n",
    "\n",
    "move_to_end([7, 8, 9, 1, 2, 3, 4], 9) ➞ [7, 8, 1, 2, 3, 4, 9]\n",
    "\n",
    "move_to_end([\"a\", \"a\", \"a\", \"b\"], \"a\") ➞ [\"b\", \"a\", \"a\", \"a\"]\n"
   ]
  },
  {
   "cell_type": "markdown",
   "id": "268e7d2c-c728-4e79-9ed7-3c23ad83c3fe",
   "metadata": {},
   "source": [
    "### Solution for Question 5\n"
   ]
  },
  {
   "cell_type": "code",
   "execution_count": 8,
   "id": "54f5a7e5-a6f0-4657-b158-602259b93663",
   "metadata": {},
   "outputs": [],
   "source": [
    "def move_to_end(lst, ele):\n",
    "    lst.remove(ele)\n",
    "    lst.append(ele)\n",
    "    return lst"
   ]
  },
  {
   "cell_type": "code",
   "execution_count": 9,
   "id": "afc3b964-8d0e-4430-a32b-4f7a772f6bd3",
   "metadata": {},
   "outputs": [
    {
     "data": {
      "text/plain": [
       "[7, 8, 1, 2, 3, 4, 9]"
      ]
     },
     "execution_count": 9,
     "metadata": {},
     "output_type": "execute_result"
    }
   ],
   "source": [
    "move_to_end([7, 8, 9, 1, 2, 3, 4], 9)"
   ]
  },
  {
   "cell_type": "code",
   "execution_count": null,
   "id": "1ebc4271-25ec-4f60-aed6-4895096b955a",
   "metadata": {},
   "outputs": [],
   "source": []
  }
 ],
 "metadata": {
  "kernelspec": {
   "display_name": "Python 3 (ipykernel)",
   "language": "python",
   "name": "python3"
  },
  "language_info": {
   "codemirror_mode": {
    "name": "ipython",
    "version": 3
   },
   "file_extension": ".py",
   "mimetype": "text/x-python",
   "name": "python",
   "nbconvert_exporter": "python",
   "pygments_lexer": "ipython3",
   "version": "3.10.6"
  }
 },
 "nbformat": 4,
 "nbformat_minor": 5
}
