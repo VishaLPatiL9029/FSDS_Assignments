{
 "cells": [
  {
   "cell_type": "markdown",
   "id": "ef7f7435-b25d-4f9f-951f-109d87c4b201",
   "metadata": {},
   "source": [
    "## Question 1\n",
    "Create a function that takes three integer arguments (a, b, c) and returns the amount of integers which are of equal value.\n",
    "Examples\n",
    "equal(3, 4, 3) ➞ 2\n",
    "\n",
    "equal(1, 1, 1) ➞ 3\n",
    "\n",
    "equal(3, 4, 1) ➞ 0 \n",
    "Notes\n",
    "Your function must return 0, 2 or 3."
   ]
  },
  {
   "cell_type": "markdown",
   "id": "ae33dbc3-f7d7-4f56-ad0d-bea9df27edb0",
   "metadata": {},
   "source": [
    "### Solution to Question 1"
   ]
  },
  {
   "cell_type": "code",
   "execution_count": 1,
   "id": "2f24a0a2-1645-4559-a349-2dd9f05e79e6",
   "metadata": {},
   "outputs": [],
   "source": [
    "def equal(a,b,c):\n",
    "    if a==b==c:\n",
    "        return 3\n",
    "    elif a==c or a==b or b==c:\n",
    "        return 2\n",
    "    else:\n",
    "        return 0\n",
    "    "
   ]
  },
  {
   "cell_type": "code",
   "execution_count": 2,
   "id": "153da5b2-8bb7-43ff-a8ca-1ab628a72605",
   "metadata": {},
   "outputs": [
    {
     "data": {
      "text/plain": [
       "0"
      ]
     },
     "execution_count": 2,
     "metadata": {},
     "output_type": "execute_result"
    }
   ],
   "source": [
    "equal(3, 4, 1)"
   ]
  },
  {
   "cell_type": "code",
   "execution_count": 3,
   "id": "d628ec2b-e4b4-4a2b-9f31-63eb157e889b",
   "metadata": {},
   "outputs": [
    {
     "data": {
      "text/plain": [
       "3"
      ]
     },
     "execution_count": 3,
     "metadata": {},
     "output_type": "execute_result"
    }
   ],
   "source": [
    "equal(1, 1, 1)"
   ]
  },
  {
   "cell_type": "markdown",
   "id": "b0abe8a1-ea32-4c0d-a4e9-06f2a84b5cbb",
   "metadata": {},
   "source": [
    "## Question 2\n",
    "Write a function that converts a dictionary into a list of keys-values tuples.\n",
    "Examples\n",
    "dict_to_list({\n",
    "  \"D\": 1,\n",
    "  \"B\": 2,\n",
    "  \"C\": 3\n",
    "}) ➞ [(\"B\", 2), (\"C\", 3), (\"D\", 1)]\n",
    "\n",
    "dict_to_list({\n",
    "  \"likes\": 2,\n",
    "  \"dislikes\": 3,\n",
    "  \"followers\": 10\n",
    "}) ➞ [(\"dislikes\", 3), (\"followers\", 10), (\"likes\", 2)]\n",
    "Notes\n",
    "Return the elements in the list in alphabetical order.\n"
   ]
  },
  {
   "cell_type": "markdown",
   "id": "86471511-99e0-4096-ae45-f83942a3c8b8",
   "metadata": {},
   "source": [
    "### Solution to Question 2"
   ]
  },
  {
   "cell_type": "code",
   "execution_count": 4,
   "id": "f032dbce-7ccf-4eaf-912a-2a568b9f461e",
   "metadata": {},
   "outputs": [],
   "source": [
    "def dict_to_list(dicted):\n",
    "    lst = [(i, j) for i, j in dicted.items()]\n",
    "    return lst"
   ]
  },
  {
   "cell_type": "code",
   "execution_count": 5,
   "id": "94e5750a-d823-482b-978e-11629d08d432",
   "metadata": {},
   "outputs": [
    {
     "data": {
      "text/plain": [
       "[('D', 1), ('B', 2), ('C', 3)]"
      ]
     },
     "execution_count": 5,
     "metadata": {},
     "output_type": "execute_result"
    }
   ],
   "source": [
    "dict_to_list({\n",
    "  \"D\": 1,\n",
    "  \"B\": 2,\n",
    "  \"C\": 3\n",
    "})"
   ]
  },
  {
   "cell_type": "code",
   "execution_count": 6,
   "id": "48c84671-4add-4ad3-b01f-e178e615b69a",
   "metadata": {},
   "outputs": [
    {
     "data": {
      "text/plain": [
       "[('likes', 2), ('dislikes', 3), ('followers', 10)]"
      ]
     },
     "execution_count": 6,
     "metadata": {},
     "output_type": "execute_result"
    }
   ],
   "source": [
    "dict_to_list({\n",
    "  \"likes\": 2,\n",
    "  \"dislikes\": 3,\n",
    "  \"followers\": 10\n",
    "})"
   ]
  },
  {
   "cell_type": "markdown",
   "id": "e11d6da7-52b6-4f30-aa21-3ff3bbcd0e14",
   "metadata": {},
   "source": [
    "## Question 3\n",
    "Write a function that creates a dictionary with each (key, value) pair being the (lower case, upper case) versions of a letter, respectively.\n",
    "Examples\n",
    "mapping([\"p\", \"s\"]) ➞ { \"p\": \"P\", \"s\": \"S\" }\n",
    "\n",
    "mapping([\"a\", \"b\", \"c\"]) ➞ { \"a\": \"A\", \"b\": \"B\", \"c\": \"C\" }\n",
    "\n",
    "mapping([\"a\", \"v\", \"y\", \"z\"]) ➞ { \"a\": \"A\", \"v\": \"V\", \"y\": \"Y\", \"z\": \"Z\" }\n",
    "Notes\n",
    "All of the letters in the input list will always be lowercase."
   ]
  },
  {
   "cell_type": "markdown",
   "id": "137b2b66-4d02-427c-88e0-c094bf5ca920",
   "metadata": {},
   "source": [
    "### Solution to Question 3"
   ]
  },
  {
   "cell_type": "code",
   "execution_count": 7,
   "id": "5dd8d89e-b5db-42ac-aac5-b13f4b8747cc",
   "metadata": {},
   "outputs": [],
   "source": [
    "def mapping(lst):\n",
    "    dicted = {i:i.upper() for i in lst}\n",
    "    return dicted"
   ]
  },
  {
   "cell_type": "code",
   "execution_count": 8,
   "id": "479f3fb3-d772-4df8-850d-a783a75b2a45",
   "metadata": {},
   "outputs": [
    {
     "data": {
      "text/plain": [
       "{'a': 'A', 'b': 'B', 'c': 'C'}"
      ]
     },
     "execution_count": 8,
     "metadata": {},
     "output_type": "execute_result"
    }
   ],
   "source": [
    "mapping([\"a\", \"b\", \"c\"])"
   ]
  },
  {
   "cell_type": "code",
   "execution_count": 9,
   "id": "0ed77701-d4f0-40c6-9cc2-30a36e000b04",
   "metadata": {},
   "outputs": [
    {
     "data": {
      "text/plain": [
       "{'a': 'A', 'v': 'V', 'y': 'Y', 'z': 'Z'}"
      ]
     },
     "execution_count": 9,
     "metadata": {},
     "output_type": "execute_result"
    }
   ],
   "source": [
    "mapping([\"a\", \"v\", \"y\", \"z\"])"
   ]
  },
  {
   "cell_type": "markdown",
   "id": "4f390834-8378-4e87-8050-c9ad541c807a",
   "metadata": {},
   "source": [
    "## Question 4\n",
    "Write a function, that replaces all vowels in a string with a specified vowel.\n",
    "Examples\n",
    "vow_replace(\"apples and bananas\", \"u\") ➞ \"upplus und bununus\"\n",
    "\n",
    "vow_replace(\"cheese casserole\", \"o\") ➞ \"chooso cossorolo\"\n",
    "\n",
    "vow_replace(\"stuffed jalapeno poppers\", \"e\") ➞ \"steffed jelepene peppers\"\n",
    "Notes\n",
    "All words will be lowercase. Y is not considered a vowel."
   ]
  },
  {
   "cell_type": "markdown",
   "id": "e983e71e-b3ff-4c6d-8c76-e6b223fde5c7",
   "metadata": {},
   "source": [
    "### Solution to Question 5"
   ]
  },
  {
   "cell_type": "code",
   "execution_count": 10,
   "id": "c76c8998-1e25-482c-ac42-e02509b47078",
   "metadata": {},
   "outputs": [],
   "source": [
    "def vow_replace(strng, v):\n",
    "    new_strng = []\n",
    "    vowels = ['a','e','i','o','u']\n",
    "    for i in strng:\n",
    "        if i in vowels:\n",
    "            new_strng.append(v)\n",
    "        else:\n",
    "            new_strng.append(i)\n",
    "    news = ''.join(new_strng)\n",
    "    return news"
   ]
  },
  {
   "cell_type": "code",
   "execution_count": 11,
   "id": "8c53088d-adab-4f95-a417-0a998852fbaa",
   "metadata": {},
   "outputs": [
    {
     "data": {
      "text/plain": [
       "'upplus und bununus'"
      ]
     },
     "execution_count": 11,
     "metadata": {},
     "output_type": "execute_result"
    }
   ],
   "source": [
    "vow_replace(\"apples and bananas\", \"u\")"
   ]
  },
  {
   "cell_type": "code",
   "execution_count": 12,
   "id": "e813d786-cafa-4330-979b-c17c394edade",
   "metadata": {},
   "outputs": [
    {
     "data": {
      "text/plain": [
       "'chooso cossorolo'"
      ]
     },
     "execution_count": 12,
     "metadata": {},
     "output_type": "execute_result"
    }
   ],
   "source": [
    "vow_replace(\"cheese casserole\", \"o\")"
   ]
  },
  {
   "cell_type": "markdown",
   "id": "77552219-9d49-4cf8-9b41-3f3a7b1eaff9",
   "metadata": {},
   "source": [
    "## Question 5\n",
    "Create a function that takes a string as input and capitalizes a letter if its ASCII code is even and returns its lower case version if its ASCII code is odd.\n",
    "Examples\n",
    "ascii_capitalize(\"to be or not to be!\") ➞ \"To Be oR NoT To Be!\"\n",
    "\n",
    "ascii_capitalize(\"THE LITTLE MERMAID\") ➞ \"THe LiTTLe meRmaiD\"\n",
    "\n",
    "ascii_capitalize(\"Oh what a beautiful morning.\") ➞ \"oH wHaT a BeauTiFuL moRNiNg.\"\n"
   ]
  },
  {
   "cell_type": "markdown",
   "id": "47bc2df6-9d00-469e-9348-996a287bfce9",
   "metadata": {},
   "source": [
    "### Solution to Question 5\n"
   ]
  },
  {
   "cell_type": "code",
   "execution_count": 13,
   "id": "1a67f9bb-704b-4a0b-8cf4-1751ed984102",
   "metadata": {},
   "outputs": [],
   "source": [
    "def ascii_capitalize(strng):\n",
    "    result = ''\n",
    "    for i in strng:\n",
    "        ascii_val = ord(i)\n",
    "        if ascii_val % 2 == 0:\n",
    "            result += i.upper()\n",
    "        else:\n",
    "            result += i.lower()\n",
    "    return result\n"
   ]
  },
  {
   "cell_type": "code",
   "execution_count": 14,
   "id": "a9ddd880-a87d-47b4-bc94-f2ff815d9031",
   "metadata": {},
   "outputs": [
    {
     "data": {
      "text/plain": [
       "'To Be oR NoT To Be!'"
      ]
     },
     "execution_count": 14,
     "metadata": {},
     "output_type": "execute_result"
    }
   ],
   "source": [
    "ascii_capitalize(\"to be or not to be!\")"
   ]
  },
  {
   "cell_type": "code",
   "execution_count": 15,
   "id": "a3474c33-a150-427b-9651-561465f3985e",
   "metadata": {},
   "outputs": [
    {
     "data": {
      "text/plain": [
       "'oH wHaT a BeauTiFuL moRNiNg.'"
      ]
     },
     "execution_count": 15,
     "metadata": {},
     "output_type": "execute_result"
    }
   ],
   "source": [
    "ascii_capitalize(\"Oh what a beautiful morning.\")"
   ]
  },
  {
   "cell_type": "code",
   "execution_count": null,
   "id": "ef4b7dff-afa9-49cd-b105-fde5c53a4df8",
   "metadata": {},
   "outputs": [],
   "source": []
  },
  {
   "cell_type": "code",
   "execution_count": null,
   "id": "b398bfd7-5e9f-4994-8b98-f6dca581ec0c",
   "metadata": {},
   "outputs": [],
   "source": []
  },
  {
   "cell_type": "code",
   "execution_count": null,
   "id": "3ccbf38f-1cae-455c-9370-50a8a4accce9",
   "metadata": {},
   "outputs": [],
   "source": []
  },
  {
   "cell_type": "code",
   "execution_count": null,
   "id": "48b9139f-ecf9-4a4e-ab4f-16476d242ac0",
   "metadata": {},
   "outputs": [],
   "source": []
  },
  {
   "cell_type": "code",
   "execution_count": null,
   "id": "a021187d-e4d3-4432-af63-6cf65a116311",
   "metadata": {},
   "outputs": [],
   "source": []
  },
  {
   "cell_type": "code",
   "execution_count": null,
   "id": "fd190274-261d-45dd-963c-53bb9c129478",
   "metadata": {},
   "outputs": [],
   "source": []
  }
 ],
 "metadata": {
  "kernelspec": {
   "display_name": "Python 3 (ipykernel)",
   "language": "python",
   "name": "python3"
  },
  "language_info": {
   "codemirror_mode": {
    "name": "ipython",
    "version": 3
   },
   "file_extension": ".py",
   "mimetype": "text/x-python",
   "name": "python",
   "nbconvert_exporter": "python",
   "pygments_lexer": "ipython3",
   "version": "3.10.6"
  }
 },
 "nbformat": 4,
 "nbformat_minor": 5
}
