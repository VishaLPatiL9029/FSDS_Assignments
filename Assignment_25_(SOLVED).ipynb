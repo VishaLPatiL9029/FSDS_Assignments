{
 "cells": [
  {
   "cell_type": "markdown",
   "id": "e2f54ec8-2c8a-4f23-830a-320f19424ff5",
   "metadata": {},
   "source": [
    "1) What is the difference between enclosing a list comprehension in square brackets and parentheses?\n",
    "2) What is the relationship between generators and iterators?\n",
    "3) What are the signs that a function is a generator function?\n",
    "4) What is the purpose of a yield statement?\n",
    "5) What is the relationship between map calls and list comprehensions? Make a comparison and contrast between the two.\n"
   ]
  },
  {
   "cell_type": "markdown",
   "id": "483096f1-59c7-496d-98d2-b4c8da090c67",
   "metadata": {},
   "source": [
    "1. What is the difference between enclosing a list comprehension in square brackets and parentheses?"
   ]
  },
  {
   "cell_type": "markdown",
   "id": "cec1187a-fb45-4d8c-bcc6-fe9bd8530575",
   "metadata": {},
   "source": [
    "#solution\n",
    "list comprehension enclosing in the square brackets will return list and enclosing with parentheses will return tuple.\n",
    "\n",
    "so basically Square brackets are lists while parentheses are tuples.\n",
    "\n"
   ]
  },
  {
   "cell_type": "markdown",
   "id": "2322558b-7b82-4b13-9787-c90447807912",
   "metadata": {},
   "source": [
    "2. What is the relationship between generators and iterators?"
   ]
  },
  {
   "cell_type": "markdown",
   "id": "5799f4c5-5b7f-49b0-9e56-73e63d37375c",
   "metadata": {},
   "source": [
    "# solution\n",
    "ierators are primarly used to iterate through other objects or convert them to iterators using the iter() method.\n",
    "generators are commonly used in loops to create an iterator by returning all the data without impacting the loop\"s iteration. iterator makes use of the iter() and next() methods.\n"
   ]
  },
  {
   "cell_type": "markdown",
   "id": "b82380ea-c04f-4b56-a429-943c94a6bfec",
   "metadata": {},
   "source": [
    "3. What are the signs that a function is a generator function?"
   ]
  },
  {
   "cell_type": "markdown",
   "id": "e134ea09-a1c0-440d-94c6-dae7e05dbc65",
   "metadata": {},
   "source": [
    "# solution\n",
    "If a function contains at least one yield statement (it may contain other yield or return statements), it becomes a generator function. Both yield and return will return some value from a function."
   ]
  },
  {
   "cell_type": "markdown",
   "id": "e32dea3c-255a-46a1-a6c1-01766c673074",
   "metadata": {},
   "source": [
    "4. What is the purpose of a yield statement?"
   ]
  },
  {
   "cell_type": "markdown",
   "id": "98042fc9-9f67-4d6e-b411-659365275982",
   "metadata": {},
   "source": [
    "# solution\n",
    "The yield statement suspends function's execution and sends a value back to the caller, but retains enough state to enable function to resume where it is left off. When resumed, the function continues execution immediately after the last yield run.\n"
   ]
  },
  {
   "cell_type": "markdown",
   "id": "482c7fa6-deb4-4057-a508-eb8420106d1c",
   "metadata": {},
   "source": [
    "5. What is the relationship between map calls and list comprehensions? Make a comparison and contrast between the two."
   ]
  },
  {
   "cell_type": "markdown",
   "id": "4737a977-901a-4d66-93ca-f95301f8ca8f",
   "metadata": {},
   "source": [
    "list comprehension has a simpler configuration than the map function.  \n",
    "list comprehension can be used together with if condition as replacement of filter method. \n",
    "Map function has no such functionality. \n",
    "However, we can feed the map function output to the filter function.  \n",
    "\n",
    "list comprehension returns a list, whereas the map function returns an object of Iterable.  \n",
    "list comprehension execution is faster than that of map function when the formula expression is huge and complex. \n",
    "Map function is faster than list comprehension when the formula is already defined as a function earlier. So, that map function is used without lambda expression. "
   ]
  },
  {
   "cell_type": "code",
   "execution_count": null,
   "id": "678978fe-ef72-4fc9-8656-dc5bfd8a24cf",
   "metadata": {},
   "outputs": [],
   "source": []
  }
 ],
 "metadata": {
  "kernelspec": {
   "display_name": "Python 3 (ipykernel)",
   "language": "python",
   "name": "python3"
  },
  "language_info": {
   "codemirror_mode": {
    "name": "ipython",
    "version": 3
   },
   "file_extension": ".py",
   "mimetype": "text/x-python",
   "name": "python",
   "nbconvert_exporter": "python",
   "pygments_lexer": "ipython3",
   "version": "3.10.6"
  }
 },
 "nbformat": 4,
 "nbformat_minor": 5
}
