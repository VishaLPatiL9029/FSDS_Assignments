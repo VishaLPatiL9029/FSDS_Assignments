{
 "cells": [
  {
   "cell_type": "markdown",
   "id": "056823ca-c638-4dc3-8d7d-26ebc1fa5d80",
   "metadata": {},
   "source": [
    "1. Add the current date to the text file today.txt as a string.\n",
    "2. Read the text file today.txt into the string today_string\n",
    "3. Parse the date from today_string.\n",
    "4. List the files in your current directory\n",
    "5. Create a list of all of the files in your parent directory (minimum five files should be available).\n",
    "6. Use multiprocessing to create three separate processes. Make each one wait a random number of seconds between one and five, print the current time, and then exit.\n",
    "7. Create a date object of your day of birth.\n",
    "8. What day of the week was your day of birth?\n",
    "9. When will you be (or when were you) 10,000 days old?"
   ]
  },
  {
   "cell_type": "markdown",
   "id": "9cdb66cb-ab8c-42f7-9319-216ba0de7f2c",
   "metadata": {},
   "source": [
    "1. Add the current date to the text file today.txt as a string."
   ]
  },
  {
   "cell_type": "code",
   "execution_count": 1,
   "id": "e89b0eda-9e3e-4bd2-813c-852fec7c4d51",
   "metadata": {},
   "outputs": [],
   "source": [
    "# solution\n",
    "file = open(\"today.txt\", \"w\")\n",
    "file.write(\"27112022\")\n",
    "file.close()\n"
   ]
  },
  {
   "cell_type": "markdown",
   "id": "aee152bb-edc6-4a11-9b5b-22b4f5809a28",
   "metadata": {},
   "source": [
    "2. Read the text file today.txt into the string today_string"
   ]
  },
  {
   "cell_type": "code",
   "execution_count": 2,
   "id": "dbd556ce-bb23-4d4b-b8f4-daad8082ab89",
   "metadata": {},
   "outputs": [
    {
     "name": "stdout",
     "output_type": "stream",
     "text": [
      "27112022\n"
     ]
    }
   ],
   "source": [
    "f = open(\"today.txt\", \"r+\")\n",
    "today_string = f.read()\n",
    "print(today_string)"
   ]
  },
  {
   "cell_type": "markdown",
   "id": "eda5910b-21a1-408b-a73e-969f8d7cbb0a",
   "metadata": {},
   "source": [
    "3. Parse the date from today_string."
   ]
  },
  {
   "cell_type": "code",
   "execution_count": 3,
   "id": "5d568ae6-5437-4cd6-8852-239b18065739",
   "metadata": {},
   "outputs": [
    {
     "name": "stdout",
     "output_type": "stream",
     "text": [
      "27\n"
     ]
    }
   ],
   "source": [
    "#solution\n",
    "\n",
    "f = open(\"today.txt\", \"r+\")\n",
    "today_string = f.read()\n",
    "print(today_string[:2])\n"
   ]
  },
  {
   "cell_type": "markdown",
   "id": "12d1d400-0121-44ce-95b7-8de9e3450f24",
   "metadata": {},
   "source": [
    "4. List the files in your current directory"
   ]
  },
  {
   "cell_type": "code",
   "execution_count": 4,
   "id": "13efbff9-a3e4-4052-9c0f-2e02d2216c69",
   "metadata": {},
   "outputs": [],
   "source": [
    "#listing the file in my current directory"
   ]
  },
  {
   "cell_type": "code",
   "execution_count": 5,
   "id": "38fe4719-aa57-489a-bfdd-8adac542b29f",
   "metadata": {},
   "outputs": [
    {
     "name": "stdout",
     "output_type": "stream",
     "text": [
      "Assignement_16.ipynb  Assignment_20.ipynb  books.db         today.txt\n",
      "Assignment_15.ipynb   Assignment_21.ipynb  \u001b[0m\u001b[01;34m__pycache__\u001b[0m/     zoo.py\n",
      "Assignment_17.ipynb   Assingment_18.ipynb  questions.ipynb\n",
      "Assignment_19.ipynb   book.csv             test.txt\n"
     ]
    }
   ],
   "source": [
    "ls"
   ]
  },
  {
   "cell_type": "markdown",
   "id": "34cefdc9-7e78-4264-acd5-f759fab7865f",
   "metadata": {},
   "source": [
    "5. Create a list of all of the files in your parent directory (minimum five files should be available)."
   ]
  },
  {
   "cell_type": "code",
   "execution_count": 6,
   "id": "d1743c7a-11ea-40a9-b771-ccbf854e0af7",
   "metadata": {},
   "outputs": [
    {
     "data": {
      "text/plain": [
       "['Assignment_15.ipynb',\n",
       " 'test.txt',\n",
       " 'zoo.py',\n",
       " 'Assingment_18.ipynb',\n",
       " 'questions.ipynb',\n",
       " 'Assignment_21.ipynb',\n",
       " '.git',\n",
       " 'book.csv',\n",
       " 'Assignment_20.ipynb',\n",
       " 'Assignment_19.ipynb',\n",
       " '__pycache__',\n",
       " 'books.db',\n",
       " 'Assignment_17.ipynb',\n",
       " '.ipynb_checkpoints',\n",
       " 'today.txt',\n",
       " 'Assignement_16.ipynb']"
      ]
     },
     "execution_count": 6,
     "metadata": {},
     "output_type": "execute_result"
    }
   ],
   "source": [
    "from os import listdir, system\n",
    "listdir()"
   ]
  },
  {
   "cell_type": "markdown",
   "id": "945105b7-8efc-4063-8bba-5c62a0de9d02",
   "metadata": {},
   "source": [
    "6. Use multiprocessing to create three separate processes. Make each one wait a random number of seconds between one and five, print the current time, and then exit."
   ]
  },
  {
   "cell_type": "code",
   "execution_count": 10,
   "id": "1d576cf6-3099-4dfa-9914-9da668f2daed",
   "metadata": {},
   "outputs": [
    {
     "name": "stdout",
     "output_type": "stream",
     "text": [
      "Current time is = 10:29:05.478736 \n",
      "Process took 1.3836500013527213 second(s)\n",
      "Current time is = 10:29:06.076099 \n",
      "Process took 1.9853717483802447 second(s)\n",
      "Current time is = 10:29:08.116066 \n",
      "Process took 4.030453174313514 second(s)\n"
     ]
    }
   ],
   "source": [
    "from multiprocessing import Process\n",
    "import datetime as dt\n",
    "import time\n",
    "import random\n",
    "\n",
    "def print_dt(sec):\n",
    "    time.sleep(sec)\n",
    "    print (f'Current time is = {dt.datetime.now().time()} \\nProcess took {sec} second(s)')\n",
    "    \n",
    "for i in range(3):\n",
    "    wait = random.uniform(1,5)\n",
    "    res = Process(target = print_dt, args = (wait,))\n",
    "    res.start()"
   ]
  },
  {
   "cell_type": "markdown",
   "id": "235c2e39-eb29-45da-b292-fd8507a4520d",
   "metadata": {},
   "source": [
    "7. Create a date object of your day of birth."
   ]
  },
  {
   "cell_type": "code",
   "execution_count": 11,
   "id": "28f110f8-7776-497f-b371-95fc0256cf3c",
   "metadata": {},
   "outputs": [
    {
     "name": "stdout",
     "output_type": "stream",
     "text": [
      "1992-08-22 00:00:00\n"
     ]
    }
   ],
   "source": [
    "#solution\n",
    "import datetime as dt\n",
    "\n",
    "dob = dt.datetime(1992, 8,22)\n",
    "print(dob)"
   ]
  },
  {
   "cell_type": "markdown",
   "id": "6728f700-8142-4108-8cbb-1af75f84c0fc",
   "metadata": {},
   "source": [
    "8. What day of the week was your day of birth?"
   ]
  },
  {
   "cell_type": "code",
   "execution_count": 12,
   "id": "ab3bf960-91f3-4901-a162-6fe312a2d4a4",
   "metadata": {},
   "outputs": [
    {
     "name": "stdout",
     "output_type": "stream",
     "text": [
      "5\n"
     ]
    }
   ],
   "source": [
    "#solution\n",
    "weekday = dob.weekday()\n",
    "print(weekday)\n",
    "\n",
    "#so here 0 is considered as Monday\n"
   ]
  },
  {
   "cell_type": "markdown",
   "id": "dd0985e7-9c1a-4f5d-b7d6-7a366c08e787",
   "metadata": {},
   "source": [
    "9. When will you be (or when were you) 10,000 days old?"
   ]
  },
  {
   "cell_type": "code",
   "execution_count": 13,
   "id": "2cf9e289-9254-4ed3-b881-8905510ae639",
   "metadata": {},
   "outputs": [
    {
     "name": "stdout",
     "output_type": "stream",
     "text": [
      "I was 10000 days old on 2020-01-08 00:00:00\n"
     ]
    }
   ],
   "source": [
    "#solution\n",
    "from datetime import timedelta\n",
    "delta = timedelta(days=10000)\n",
    "future_date = dob + delta\n",
    "print (f'I was 10000 days old on {future_date}')\n"
   ]
  },
  {
   "cell_type": "code",
   "execution_count": null,
   "id": "10dd249f-9ba2-4ef7-8675-09f75ec3e2b0",
   "metadata": {},
   "outputs": [],
   "source": []
  }
 ],
 "metadata": {
  "kernelspec": {
   "display_name": "Python 3 (ipykernel)",
   "language": "python",
   "name": "python3"
  },
  "language_info": {
   "codemirror_mode": {
    "name": "ipython",
    "version": 3
   },
   "file_extension": ".py",
   "mimetype": "text/x-python",
   "name": "python",
   "nbconvert_exporter": "python",
   "pygments_lexer": "ipython3",
   "version": "3.10.6"
  }
 },
 "nbformat": 4,
 "nbformat_minor": 5
}
