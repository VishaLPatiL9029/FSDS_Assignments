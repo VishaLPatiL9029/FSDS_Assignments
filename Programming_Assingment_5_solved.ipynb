{
 "cells": [
  {
   "cell_type": "markdown",
   "id": "e9155778-b6c7-4e8a-8fc8-966d4958e13d",
   "metadata": {},
   "source": [
    "1. Write a Python Program to Find LCM?\n",
    "2. Write a Python Program to Find HCF?\n",
    "3. Write a Python Program to Convert Decimal to Binary, Octal and Hexadecimal?\n",
    "4. Write a Python Program To Find ASCII value of a character?\n",
    "5. Write a Python Program to Make a Simple Calculator with 4 basic mathematical operations?"
   ]
  },
  {
   "cell_type": "markdown",
   "id": "488e4c35-707a-4a56-9c64-dae3f035ecd2",
   "metadata": {},
   "source": [
    "1. Write a Python Program to Find LCM?"
   ]
  },
  {
   "cell_type": "code",
   "execution_count": 63,
   "id": "1f6e1b44-ecd3-478f-96fc-f51c7f749149",
   "metadata": {},
   "outputs": [
    {
     "name": "stdin",
     "output_type": "stream",
     "text": [
      " 4\n",
      " 5\n"
     ]
    },
    {
     "name": "stdout",
     "output_type": "stream",
     "text": [
      "the lcm of given number is 20\n"
     ]
    }
   ],
   "source": [
    "A = int(input())\n",
    "B = int(input())\n",
    "\n",
    "A_lst = [A*i for i in range(1, 11)]\n",
    "B_lst = [B*i for i in range(1, 11)]\n",
    "\n",
    "LCM = []\n",
    "for i in A_lst:\n",
    "    for j in B_lst:\n",
    "        if i == j:\n",
    "            LCM.append(i)\n",
    "\n",
    "print(f\"the lcm of given number is {min(LCM)}\")\n",
    "    "
   ]
  },
  {
   "cell_type": "code",
   "execution_count": 42,
   "id": "f3d9df0c-1124-452f-aeb1-33b26980ae3b",
   "metadata": {},
   "outputs": [],
   "source": [
    "def prime_search(lst):\n",
    "    prime = []\n",
    "    for num in lst:\n",
    "        if num > 1:\n",
    "            for i in range(2, num):\n",
    "                if num % i == 0:\n",
    "                    break\n",
    "            else:\n",
    "                prime.append(num)\n",
    "    return prime"
   ]
  },
  {
   "cell_type": "code",
   "execution_count": 44,
   "id": "eaefbd05-9482-4f22-b07d-464522b5dc58",
   "metadata": {},
   "outputs": [
    {
     "name": "stdout",
     "output_type": "stream",
     "text": [
      "[2, 3, 5]\n"
     ]
    }
   ],
   "source": [
    "a = prime_search([1, 2, 3, 4, 5, 6, 10])\n",
    "print(a)"
   ]
  },
  {
   "cell_type": "markdown",
   "id": "31c3198d-d638-404a-96ba-52dc92df6c0d",
   "metadata": {},
   "source": [
    "2. Write a Python Program to Find HCF?"
   ]
  },
  {
   "cell_type": "code",
   "execution_count": 61,
   "id": "76e79131-9d67-4bcd-913f-69ee04724f4e",
   "metadata": {},
   "outputs": [
    {
     "name": "stdin",
     "output_type": "stream",
     "text": [
      " 54\n",
      " 24\n"
     ]
    },
    {
     "name": "stdout",
     "output_type": "stream",
     "text": [
      "The H.C.F. is 6\n"
     ]
    }
   ],
   "source": [
    "def compute_hcf(x, y):\n",
    "    if x > y:\n",
    "        smaller = y\n",
    "    else:\n",
    "        smaller = x\n",
    "    for i in range(1, smaller+1):\n",
    "        if((x % i == 0) and (y % i == 0)):\n",
    "            hcf = i \n",
    "    return hcf\n",
    "\n",
    "num1 = int(input())\n",
    "num2 = int(input())\n",
    "\n",
    "print(\"The H.C.F. is\", compute_hcf(num1, num2))"
   ]
  },
  {
   "cell_type": "code",
   "execution_count": 64,
   "id": "d3914e74-30f7-4cc1-b6e6-5eae2289928b",
   "metadata": {},
   "outputs": [],
   "source": [
    "# #solution\n",
    "# A = int(input())\n",
    "# B = int(input())\n",
    "\n",
    "# A_lst = [i for i in range(1, 11) if A%i==0]\n",
    "# prime_fac_A = prime_search(A_lst)\n",
    "\n",
    "# B_lst = [i for i in range(1, 11) if B%i==0]\n",
    "# prime_fac_B = prime_search(B_lst)\n",
    "\n",
    "# HCF = []\n",
    "# for i in A_lst:\n",
    "#     for j in B_lst:\n",
    "#         if i == j:\n",
    "#             HCF.append(i)\n",
    "\n",
    "# print(A_lst)\n",
    "# print(B_lst)\n",
    "\n",
    "# def common(a,b): \n",
    "#     c = [value for value in a if value in b] \n",
    "#     return c\n",
    "\n",
    "# d=common(A_lst,B_lst)\n",
    "# print(d)\n"
   ]
  },
  {
   "cell_type": "markdown",
   "id": "410a6f33-035d-433e-a5f8-be21ccd04a8c",
   "metadata": {},
   "source": [
    "3. Write a Python Program to Convert Decimal to Binary, Octal and Hexadecimal?"
   ]
  },
  {
   "cell_type": "code",
   "execution_count": 85,
   "id": "7d2b6677-208e-42da-9213-6f0e51f2012e",
   "metadata": {},
   "outputs": [
    {
     "name": "stdin",
     "output_type": "stream",
     "text": [
      " 294\n"
     ]
    },
    {
     "name": "stdout",
     "output_type": "stream",
     "text": [
      "the binary conversion of 294 is [1, 0, 0, 1, 0, 0, 1, 1, 0]\n"
     ]
    }
   ],
   "source": [
    "# solution\n",
    "#converting to binary\n",
    "\n",
    "int_num = int(input())\n",
    "num = int_num\n",
    "rem_list = []\n",
    "ramainder = 0\n",
    "while num > 0:\n",
    "    remainder = num % 2\n",
    "    rem_list.append(remainder)\n",
    "    num = num //2\n",
    "\n",
    "\n",
    "print(f\"the binary conversion of {int_num} is {rem_list[::-1]}\")\n",
    "\n"
   ]
  },
  {
   "cell_type": "code",
   "execution_count": 87,
   "id": "70dc5ebe-4b5c-4540-8420-248dcf8406ba",
   "metadata": {},
   "outputs": [
    {
     "name": "stdin",
     "output_type": "stream",
     "text": [
      " 52\n"
     ]
    },
    {
     "name": "stdout",
     "output_type": "stream",
     "text": [
      "the binary conversion of 52 is [6, 4]\n"
     ]
    }
   ],
   "source": [
    "# converting to octal\n",
    "int_num = int(input())\n",
    "num = int_num\n",
    "rem_list = []\n",
    "ramainder = 0\n",
    "while num > 0:\n",
    "    remainder = num % 8\n",
    "    rem_list.append(remainder)\n",
    "    num = num //8\n",
    "    \n",
    "print(f\"the octal conversion of {int_num} is {rem_list[::-1]}\")"
   ]
  },
  {
   "cell_type": "code",
   "execution_count": 96,
   "id": "13e71e69-e713-4358-9a81-811555801873",
   "metadata": {},
   "outputs": [
    {
     "name": "stdin",
     "output_type": "stream",
     "text": [
      " 600\n"
     ]
    },
    {
     "name": "stdout",
     "output_type": "stream",
     "text": [
      "the hexadecimal conversion of 600 is [2, 5, 8]\n"
     ]
    }
   ],
   "source": [
    "#covertng to hexadecimal\n",
    "Decimal_Number = [0,1,2,3,4,5,6,7,8,9,10,11,12,13,14,15]\n",
    "Equivalent_Hexadecimal = [0,1,2,3,4,5,6,7,8,9,'A','B','C','D','E','F']\n",
    "\n",
    "int_num = int(input())\n",
    "num = int_num\n",
    "rem_list = []\n",
    "ramainder = 0\n",
    "while num > 0:\n",
    "    remainder = num % 16\n",
    "    rem_list.append(remainder)\n",
    "    num = num //16\n",
    "    \n",
    "hexa = rem_list[::-1]\n",
    "hexadecimal = []\n",
    "for i in hexa:\n",
    "    hexadecimal.append(Equivalent_Hexadecimal[i])\n",
    "    \n",
    "print(f\"the hexadecimal conversion of {int_num} is {hexadecimal}\")"
   ]
  },
  {
   "cell_type": "markdown",
   "id": "98fb775c-8d79-4330-a799-3540453944cf",
   "metadata": {},
   "source": [
    "4. Write a Python Program To Find ASCII value of a character?"
   ]
  },
  {
   "cell_type": "code",
   "execution_count": 5,
   "id": "f9a55041-bdc5-4a36-b3a1-e45ee96ef7ac",
   "metadata": {},
   "outputs": [
    {
     "name": "stdin",
     "output_type": "stream",
     "text": [
      " q\n"
     ]
    },
    {
     "name": "stdout",
     "output_type": "stream",
     "text": [
      "The ASCII value of 'q' is 113\n"
     ]
    }
   ],
   "source": [
    "#solution\n",
    "\n",
    "#Program to find the ASCII value of the given character\n",
    "\n",
    "c = str(input())\n",
    "print(\"The ASCII value of '\" + c + \"' is\", ord(c))\n"
   ]
  },
  {
   "cell_type": "markdown",
   "id": "7e6367db-8dea-4582-84fd-11cd8381f4af",
   "metadata": {},
   "source": [
    "5. Write a Python Program to Make a Simple Calculator with 4 basic mathematical operations?"
   ]
  },
  {
   "cell_type": "code",
   "execution_count": 7,
   "id": "0b326116-d086-495a-964a-06763c7503ea",
   "metadata": {},
   "outputs": [
    {
     "name": "stdout",
     "output_type": "stream",
     "text": [
      "Select operation.\n",
      "1.Add\n",
      "2.Subtract\n",
      "3.Multiply\n",
      "4.Divide\n"
     ]
    },
    {
     "name": "stdin",
     "output_type": "stream",
     "text": [
      "Enter choice(1/2/3/4):  1\n",
      "Enter first number:  4\n",
      "Enter second number:  5\n"
     ]
    },
    {
     "name": "stdout",
     "output_type": "stream",
     "text": [
      "4.0 + 5.0 = 9.0\n"
     ]
    },
    {
     "name": "stdin",
     "output_type": "stream",
     "text": [
      "Let's do next calculation? (yes/no):  no\n"
     ]
    }
   ],
   "source": [
    "# Program make a simple calculator\n",
    "\n",
    "# This function adds two numbers\n",
    "def add(x, y):\n",
    "    return x + y\n",
    "\n",
    "# This function subtracts two numbers\n",
    "def subtract(x, y):\n",
    "    return x - y\n",
    "\n",
    "# This function multiplies two numbers\n",
    "def multiply(x, y):\n",
    "    return x * y\n",
    "\n",
    "# This function divides two numbers\n",
    "def divide(x, y):\n",
    "    return x / y\n",
    "\n",
    "\n",
    "print(\"Select operation.\")\n",
    "print(\"1.Add\")\n",
    "print(\"2.Subtract\")\n",
    "print(\"3.Multiply\")\n",
    "print(\"4.Divide\")\n",
    "\n",
    "while True:\n",
    "    # take input from the user\n",
    "    choice = input(\"Enter choice(1/2/3/4): \")\n",
    "\n",
    "    # check if choice is one of the four options\n",
    "    if choice in ('1', '2', '3', '4'):\n",
    "        num1 = float(input(\"Enter first number: \"))\n",
    "        num2 = float(input(\"Enter second number: \"))\n",
    "\n",
    "        if choice == '1':\n",
    "            print(num1, \"+\", num2, \"=\", add(num1, num2))\n",
    "\n",
    "        elif choice == '2':\n",
    "            print(num1, \"-\", num2, \"=\", subtract(num1, num2))\n",
    "\n",
    "        elif choice == '3':\n",
    "            print(num1, \"*\", num2, \"=\", multiply(num1, num2))\n",
    "\n",
    "        elif choice == '4':\n",
    "            print(num1, \"/\", num2, \"=\", divide(num1, num2))\n",
    "        \n",
    "        # check if user wants another calculation\n",
    "        # break the while loop if answer is no\n",
    "        next_calculation = input(\"Let's do next calculation? (yes/no): \")\n",
    "        if next_calculation == \"no\":\n",
    "            break\n",
    "    \n",
    "    else:\n",
    "        print(\"Invalid Input\")"
   ]
  },
  {
   "cell_type": "code",
   "execution_count": null,
   "id": "becbb499-ac64-46c5-8573-aabfb227a62a",
   "metadata": {},
   "outputs": [],
   "source": []
  }
 ],
 "metadata": {
  "kernelspec": {
   "display_name": "Python 3 (ipykernel)",
   "language": "python",
   "name": "python3"
  },
  "language_info": {
   "codemirror_mode": {
    "name": "ipython",
    "version": 3
   },
   "file_extension": ".py",
   "mimetype": "text/x-python",
   "name": "python",
   "nbconvert_exporter": "python",
   "pygments_lexer": "ipython3",
   "version": "3.10.6"
  }
 },
 "nbformat": 4,
 "nbformat_minor": 5
}
