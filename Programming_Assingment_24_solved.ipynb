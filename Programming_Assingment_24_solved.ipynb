{
 "cells": [
  {
   "cell_type": "markdown",
   "id": "4e51eac4-2a1d-4190-ae37-b6ba203bc061",
   "metadata": {},
   "source": [
    "## Question 1\n",
    "Create a function that takes an integer and returns a list from 1 to the given number, where:\n",
    "1.\tIf the number can be divided evenly by 4, amplify it by 10 (i.e. return 10 times the number).\n",
    "2.\tIf the number cannot be divided evenly by 4, simply return the number.\n",
    "Examples\n",
    "amplify(4) ➞ [1, 2, 3, 40]\n",
    "\n",
    "amplify(3) ➞ [1, 2, 3]\n",
    "\n",
    "amplify(25) ➞ [1, 2, 3, 40, 5, 6, 7, 80, 9, 10, 11, 120, 13, 14, 15, 160, 17, 18, 19, 200, 21, 22, 23, 240, 25]\n",
    "Notes\n",
    "•\tThe given integer will always be equal to or greater than 1.\n",
    "•\tInclude the number (see example above).\n",
    "•\tTo perform this problem with its intended purpose, try doing it with list comprehensions. If that's too difficult, just solve the challenge any way you can."
   ]
  },
  {
   "cell_type": "markdown",
   "id": "e0b8d410-60f0-4ca2-aa8f-a23173dcf24e",
   "metadata": {},
   "source": [
    "### solution for Question 1"
   ]
  },
  {
   "cell_type": "code",
   "execution_count": 1,
   "id": "be4797cc-8048-4fc2-ad01-dd7b8db765d0",
   "metadata": {},
   "outputs": [],
   "source": [
    "def amplify(n):\n",
    "    lst = []\n",
    "    for i in range(n+1):\n",
    "        if i % 4 == 0:\n",
    "            lst.append(i*10)\n",
    "        else:\n",
    "            lst.append(i)\n",
    "    return lst"
   ]
  },
  {
   "cell_type": "code",
   "execution_count": 2,
   "id": "1e4e5f29-2f9d-472e-8c1c-4bb2215cac45",
   "metadata": {},
   "outputs": [
    {
     "data": {
      "text/plain": [
       "[0, 1, 2, 3, 40, 5]"
      ]
     },
     "execution_count": 2,
     "metadata": {},
     "output_type": "execute_result"
    }
   ],
   "source": [
    "amplify(5)"
   ]
  },
  {
   "cell_type": "markdown",
   "id": "8c5b4d13-a49e-4cc0-95af-f988f13d9eec",
   "metadata": {},
   "source": [
    "## Question2\n",
    "Create a function that takes a list of numbers and return the number that's unique.\n",
    "Examples\n",
    "unique([3, 3, 3, 7, 3, 3]) ➞ 7\n",
    "\n",
    "unique([0, 0, 0.77, 0, 0]) ➞ 0.77\n",
    "\n",
    "unique([0, 1, 1, 1, 1, 1, 1, 1]) ➞ 0\n",
    "Notes\n",
    "Test cases will always have exactly one unique number while all others are the same."
   ]
  },
  {
   "cell_type": "markdown",
   "id": "5f61892c-7879-49b3-a66d-f541efb76493",
   "metadata": {},
   "source": [
    "### solution of the Question 2"
   ]
  },
  {
   "cell_type": "code",
   "execution_count": 3,
   "id": "e84fb5f2-5244-4466-b095-ca7348eafb44",
   "metadata": {},
   "outputs": [],
   "source": [
    "def unique(lst):\n",
    "    uni = ''\n",
    "    for i in lst:\n",
    "        if lst.count(i) == 1:\n",
    "            return i"
   ]
  },
  {
   "cell_type": "code",
   "execution_count": 4,
   "id": "ddd68c15-74fc-4c6e-9267-7fc780cb620e",
   "metadata": {},
   "outputs": [
    {
     "data": {
      "text/plain": [
       "0.77"
      ]
     },
     "execution_count": 4,
     "metadata": {},
     "output_type": "execute_result"
    }
   ],
   "source": [
    "unique([0, 0, 0.77, 0, 0])"
   ]
  },
  {
   "cell_type": "code",
   "execution_count": 5,
   "id": "fe5f744d-1619-4fca-ba4a-74d709751dfd",
   "metadata": {},
   "outputs": [
    {
     "data": {
      "text/plain": [
       "0"
      ]
     },
     "execution_count": 5,
     "metadata": {},
     "output_type": "execute_result"
    }
   ],
   "source": [
    "unique([0, 1, 1, 1, 1, 1, 1, 1])"
   ]
  },
  {
   "cell_type": "markdown",
   "id": "4c9511ba-879d-414e-9593-a78688c1db4d",
   "metadata": {},
   "source": [
    "## Question 3\n",
    "Your task is to create a Circle constructor that creates a circle with a radius provided by an argument. The circles constructed must have two getters getArea() (PIr^2) and getPerimeter() (2PI*r) which give both respective areas and perimeter (circumference).\n",
    "For help with this class, I have provided you with a Rectangle constructor which you can use as a base example.\n",
    "Examples\n",
    "circy = Circle(11)\n",
    "circy.getArea()\n",
    "\n",
    "#Should return 380.132711084365\n",
    "\n",
    "circy = Circle(4.44)\n",
    "circy.getPerimeter()\n",
    "\n",
    "#Should return 27.897342763877365\n",
    "Notes\n",
    "Round results up to the nearest integer.\n"
   ]
  },
  {
   "cell_type": "markdown",
   "id": "fc7e50f1-a48d-40d3-b967-fa56349da0c4",
   "metadata": {},
   "source": [
    "### solution of the Question 3"
   ]
  },
  {
   "cell_type": "code",
   "execution_count": 6,
   "id": "89460c91-eafb-4e0e-85ae-76cb09c87c25",
   "metadata": {},
   "outputs": [],
   "source": [
    "import math\n",
    "class Circle:\n",
    "    def __init__(self, radius):\n",
    "        self.r = radius\n",
    "    \n",
    "    def getArea(self):\n",
    "        return (round(math.pi *self.r *self.r))\n",
    "    \n",
    "    def getPerimeter(self):\n",
    "        return (round(2*math.pi*self.r))"
   ]
  },
  {
   "cell_type": "code",
   "execution_count": 7,
   "id": "bb844b1e-9571-4282-af7f-8bb49b0b7ea4",
   "metadata": {},
   "outputs": [
    {
     "data": {
      "text/plain": [
       "380"
      ]
     },
     "execution_count": 7,
     "metadata": {},
     "output_type": "execute_result"
    }
   ],
   "source": [
    "circy = Circle(11) \n",
    "circy.getArea()"
   ]
  },
  {
   "cell_type": "code",
   "execution_count": 8,
   "id": "7b8ace8b-c288-49f3-a829-394b1173cee0",
   "metadata": {},
   "outputs": [
    {
     "data": {
      "text/plain": [
       "28"
      ]
     },
     "execution_count": 8,
     "metadata": {},
     "output_type": "execute_result"
    }
   ],
   "source": [
    "circy = Circle(4.44) \n",
    "circy.getPerimeter()"
   ]
  },
  {
   "cell_type": "markdown",
   "id": "f4a1a2f4-0372-407d-a086-896135a86ca5",
   "metadata": {},
   "source": [
    "## Question 4\n",
    "Create a function that takes a list of strings and return a list, sorted from shortest to longest.\n",
    "Examples\n",
    "sort_by_length([\"Google\", \"Apple\", \"Microsoft\"])\n",
    "➞ [\"Apple\", \"Google\", \"Microsoft\"]\n",
    "\n",
    "sort_by_length([\"Leonardo\", \"Michelangelo\", \"Raphael\", \"Donatello\"])\n",
    "➞ [\"Raphael\", \"Leonardo\", \"Donatello\", \"Michelangelo\"]\n",
    "\n",
    "sort_by_length([\"Turing\", \"Einstein\", \"Jung\"])\n",
    "➞ [\"Jung\", \"Turing\", \"Einstein\"]\n",
    "Notes\n",
    "All test cases contain lists with strings of different lengths, so you won't have to deal with multiple strings of the same length."
   ]
  },
  {
   "cell_type": "markdown",
   "id": "654269a6-82a3-4b3c-9997-4552b0c778fd",
   "metadata": {},
   "source": [
    "### solution of the Question 4"
   ]
  },
  {
   "cell_type": "code",
   "execution_count": 9,
   "id": "45868b3d-c234-4b37-9a84-4b48cf81182a",
   "metadata": {},
   "outputs": [],
   "source": [
    "def sort_by_length(lst):\n",
    "    return sorted(lst, key=len)\n"
   ]
  },
  {
   "cell_type": "code",
   "execution_count": 10,
   "id": "55a9d04f-fdb4-4c2b-be72-c6a4b3535d6f",
   "metadata": {},
   "outputs": [
    {
     "data": {
      "text/plain": [
       "['Jung', 'Turing', 'Einstein']"
      ]
     },
     "execution_count": 10,
     "metadata": {},
     "output_type": "execute_result"
    }
   ],
   "source": [
    "sort_by_length([\"Turing\", \"Einstein\", \"Jung\"])"
   ]
  },
  {
   "cell_type": "markdown",
   "id": "72d12312-c15d-47ad-8a6d-688899ca6136",
   "metadata": {},
   "source": [
    "## Question 5\n",
    "Create a function that validates whether three given integers form a Pythagorean triplet. The sum of the squares of the two smallest integers must equal the square of the largest number to be validated.\n",
    "\n",
    "\n",
    "Examples\n",
    "is_triplet(3, 4, 5) ➞ True\n",
    " #3² + 4² = 25\n",
    " #5² = 25\n",
    "\n",
    "is_triplet(13, 5, 12) ➞ True\n",
    " #5² + 12² = 169\n",
    " #13² = 169\n",
    "\n",
    "is_triplet(1, 2, 3) ➞ False\n",
    " #1² + 2² = 5\n",
    " #3² = 9\n",
    "Notes\n",
    "Numbers may not be given in a sorted order.\n"
   ]
  },
  {
   "cell_type": "markdown",
   "id": "58b26446-8691-4ca9-a034-6aa1b25c0bda",
   "metadata": {},
   "source": [
    "### solution of the Question 5"
   ]
  },
  {
   "cell_type": "code",
   "execution_count": 11,
   "id": "95c02a3b-2f27-46e8-b449-d2896868281c",
   "metadata": {},
   "outputs": [],
   "source": [
    "def is_triplet(i,j,k):\n",
    "    sor = [i,j,k]\n",
    "    sor.sort(reverse = False)\n",
    "    if (sor[0]**2 + sor[1]**2) == sor[2]**2:\n",
    "        return True\n",
    "    else:\n",
    "        return False"
   ]
  },
  {
   "cell_type": "code",
   "execution_count": 12,
   "id": "d81dfda8-648e-4b19-81cb-355de9127655",
   "metadata": {},
   "outputs": [
    {
     "data": {
      "text/plain": [
       "False"
      ]
     },
     "execution_count": 12,
     "metadata": {},
     "output_type": "execute_result"
    }
   ],
   "source": [
    "is_triplet(1, 2, 3)"
   ]
  },
  {
   "cell_type": "code",
   "execution_count": 13,
   "id": "a51030be-2637-43e2-a0d0-025ace98bc46",
   "metadata": {},
   "outputs": [
    {
     "data": {
      "text/plain": [
       "True"
      ]
     },
     "execution_count": 13,
     "metadata": {},
     "output_type": "execute_result"
    }
   ],
   "source": [
    "is_triplet(3, 4, 5)"
   ]
  },
  {
   "cell_type": "code",
   "execution_count": 14,
   "id": "a6740869-f3f1-402d-96e6-05ca6c230565",
   "metadata": {},
   "outputs": [
    {
     "data": {
      "text/plain": [
       "True"
      ]
     },
     "execution_count": 14,
     "metadata": {},
     "output_type": "execute_result"
    }
   ],
   "source": [
    "is_triplet(13, 5, 12)"
   ]
  },
  {
   "cell_type": "code",
   "execution_count": null,
   "id": "02edec72-6e0e-4a9c-b5c0-c845c96ef2b2",
   "metadata": {},
   "outputs": [],
   "source": []
  }
 ],
 "metadata": {
  "kernelspec": {
   "display_name": "Python 3 (ipykernel)",
   "language": "python",
   "name": "python3"
  },
  "language_info": {
   "codemirror_mode": {
    "name": "ipython",
    "version": 3
   },
   "file_extension": ".py",
   "mimetype": "text/x-python",
   "name": "python",
   "nbconvert_exporter": "python",
   "pygments_lexer": "ipython3",
   "version": "3.10.6"
  }
 },
 "nbformat": 4,
 "nbformat_minor": 5
}
