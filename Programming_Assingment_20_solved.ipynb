{
 "cells": [
  {
   "cell_type": "markdown",
   "id": "d770c0c1-5fec-4729-8390-34e680be0521",
   "metadata": {},
   "source": [
    "## Question 1\n",
    "Create a function that takes a list of strings and integers, and filters out the list so that it returns a list of integers only.\n",
    "Examples\n",
    "filter_list([1, 2, 3, \"a\", \"b\", 4]) ➞ [1, 2, 3, 4]\n",
    "\n",
    "filter_list([\"A\", 0, \"Edabit\", 1729, \"Python\", \"1729\"]) ➞ [0, 1729]\n",
    "\n",
    "filter_list([\"Nothing\", \"here\"]) ➞ []"
   ]
  },
  {
   "cell_type": "markdown",
   "id": "e33ad011-aa72-4260-b7ed-03d8974deca3",
   "metadata": {},
   "source": [
    "##  solution to question 1"
   ]
  },
  {
   "cell_type": "code",
   "execution_count": 1,
   "id": "79f9f2f3-3757-4b58-8e4a-9ae89f5eac73",
   "metadata": {},
   "outputs": [],
   "source": [
    "def filter_list(lst):\n",
    "    filtered = []\n",
    "    for i in lst:\n",
    "        if type(i) == int:\n",
    "            filtered.append(i)\n",
    "    return filtered"
   ]
  },
  {
   "cell_type": "code",
   "execution_count": 2,
   "id": "56bd3dcb-2b98-4177-938b-1053cb61c556",
   "metadata": {},
   "outputs": [
    {
     "data": {
      "text/plain": [
       "[1, 2, 3, 4]"
      ]
     },
     "execution_count": 2,
     "metadata": {},
     "output_type": "execute_result"
    }
   ],
   "source": [
    "filter_list([1, 2, 3, \"a\", \"b\", 4])"
   ]
  },
  {
   "cell_type": "code",
   "execution_count": 3,
   "id": "010f9bc2-b12b-4b74-abdf-ee08e6a87bb7",
   "metadata": {},
   "outputs": [
    {
     "data": {
      "text/plain": [
       "[0, 1729]"
      ]
     },
     "execution_count": 3,
     "metadata": {},
     "output_type": "execute_result"
    }
   ],
   "source": [
    "filter_list([\"A\", 0, \"Edabit\", 1729, \"Python\", \"1729\"])"
   ]
  },
  {
   "cell_type": "markdown",
   "id": "364c11fc-3549-4645-b026-41fb286cef01",
   "metadata": {},
   "source": [
    "## Question 2\n",
    "\n",
    "Given a list of numbers, create a function which returns the list but with each element's index in the list added to itself. This means you add 0 to the number at index 0, add 1 to the number at index 1, etc...\n",
    "Examples\n",
    "add_indexes([0, 0, 0, 0, 0]) ➞ [0, 1, 2, 3, 4]\n",
    "\n",
    "add_indexes([1, 2, 3, 4, 5]) ➞ [1, 3, 5, 7, 9]\n",
    "\n",
    "add_indexes([5, 4, 3, 2, 1]) ➞ [5, 5, 5, 5, 5]"
   ]
  },
  {
   "cell_type": "markdown",
   "id": "fd533b6b-201f-4f1b-866c-ece2787bcb4b",
   "metadata": {},
   "source": [
    "### solution to question 2"
   ]
  },
  {
   "cell_type": "code",
   "execution_count": 4,
   "id": "dc33fc48-7917-4207-a298-d88580c929c3",
   "metadata": {},
   "outputs": [],
   "source": [
    "def add_indexes(lst):\n",
    "    lst_add = []\n",
    "    for i in lst:\n",
    "        lst_add.append(i + lst.index(i))\n",
    "    return lst_add"
   ]
  },
  {
   "cell_type": "code",
   "execution_count": 5,
   "id": "87fc22ab-81d3-43a3-9262-895f2ff1e003",
   "metadata": {},
   "outputs": [
    {
     "data": {
      "text/plain": [
       "[1, 3, 5, 7, 9]"
      ]
     },
     "execution_count": 5,
     "metadata": {},
     "output_type": "execute_result"
    }
   ],
   "source": [
    "add_indexes([1, 2, 3, 4, 5])"
   ]
  },
  {
   "cell_type": "code",
   "execution_count": 6,
   "id": "a99e9568-ba29-4de5-a1cc-0bd8c278b1c1",
   "metadata": {},
   "outputs": [
    {
     "data": {
      "text/plain": [
       "[5, 5, 5, 5, 5]"
      ]
     },
     "execution_count": 6,
     "metadata": {},
     "output_type": "execute_result"
    }
   ],
   "source": [
    "add_indexes([5, 4, 3, 2, 1])"
   ]
  },
  {
   "cell_type": "markdown",
   "id": "895ed2e7-9a56-4343-8e67-e09cc15cae12",
   "metadata": {},
   "source": [
    "## Question 3\n",
    "Create a function that takes the height and radius of a cone as arguments and returns the volume of the cone rounded to the nearest hundredth. See the resources tab for the formula.\n",
    " \n",
    "Examples\n",
    "cone_volume(3, 2) ➞ 12.57\n",
    "\n",
    "cone_volume(15, 6) ➞ 565.49\n",
    "\n",
    "cone_volume(18, 0) ➞ 0\n",
    "\n",
    "\n",
    "Formula : V = 1/3*Hπ*R^2\n"
   ]
  },
  {
   "cell_type": "markdown",
   "id": "2cd3a7ce-66e4-49c4-9519-1fcdb66e4f88",
   "metadata": {},
   "source": [
    "### solution to question 3"
   ]
  },
  {
   "cell_type": "code",
   "execution_count": 7,
   "id": "a1dce7b9-65b2-4da7-8f73-a7ae42e7e8b2",
   "metadata": {},
   "outputs": [],
   "source": [
    "import math\n",
    "def cone_volume(height, radius):\n",
    "    volume = 1/3*height*math.pi*pow(radius,2)\n",
    "    return round(volume, 2)"
   ]
  },
  {
   "cell_type": "code",
   "execution_count": 8,
   "id": "7bec472c-7499-448f-a7c8-bb0a27152c21",
   "metadata": {},
   "outputs": [
    {
     "data": {
      "text/plain": [
       "565.49"
      ]
     },
     "execution_count": 8,
     "metadata": {},
     "output_type": "execute_result"
    }
   ],
   "source": [
    "cone_volume(15, 6)"
   ]
  },
  {
   "cell_type": "markdown",
   "id": "2ccf7173-d0c7-4ecb-be3c-3fa5c83c109a",
   "metadata": {},
   "source": [
    "## Question 4\n",
    "This Triangular Number Sequence is generated from a pattern of dots that form a triangle. The first 5 numbers of the sequence, or dots, are: \n",
    "1, 3, 6, 10, 15\n",
    "This means that the first triangle has just one dot, the second one has three dots, the third one has 6 dots and so on.\n",
    "Write a function that gives the number of dots with its corresponding triangle number of the sequence.\n",
    "Examples\n",
    "triangle(1) ➞ 1\n",
    "\n",
    "triangle(6) ➞ 21\n",
    "\n",
    "triangle(215) ➞ 23220\n",
    "[n(n+1)]/2"
   ]
  },
  {
   "cell_type": "markdown",
   "id": "b1d9f3fc-9710-4e79-a9fc-d4ad6d0f5af2",
   "metadata": {},
   "source": [
    "### solution to question 4"
   ]
  },
  {
   "cell_type": "code",
   "execution_count": 9,
   "id": "11ba096d-49d7-4eb2-b48c-f377e7a4cc6d",
   "metadata": {},
   "outputs": [
    {
     "data": {
      "text/plain": [
       "23220"
      ]
     },
     "execution_count": 9,
     "metadata": {},
     "output_type": "execute_result"
    }
   ],
   "source": [
    "def triangle(n):\n",
    "    a = n*(n + 1)/2\n",
    "    return int(a)\n",
    "        \n",
    "    \n",
    "triangle(215)"
   ]
  },
  {
   "cell_type": "markdown",
   "id": "3a936c5a-0b88-4326-b9d2-5c3060b0242c",
   "metadata": {},
   "source": [
    "## Question 5\n",
    "Create a function that takes a list of numbers between 1 and 10 (excluding one number) and returns the missing number.\n",
    "Examples\n",
    "missing_num([1, 2, 3, 4, 6, 7, 8, 9, 10]) ➞ 5\n",
    "\n",
    "missing_num([7, 2, 3, 6, 5, 9, 1, 4, 8]) ➞ 10\n",
    "\n",
    "missing_num([10, 5, 1, 2, 4, 6, 8, 3, 9]) ➞ 7\n"
   ]
  },
  {
   "cell_type": "markdown",
   "id": "54c867fd-a88a-41bf-ab26-61006bab829e",
   "metadata": {},
   "source": [
    "### solution to question 5"
   ]
  },
  {
   "cell_type": "code",
   "execution_count": 10,
   "id": "22a08050-d4cc-40a8-85b5-f56f55ae5318",
   "metadata": {},
   "outputs": [
    {
     "name": "stdout",
     "output_type": "stream",
     "text": [
      "[7]\n"
     ]
    }
   ],
   "source": [
    "def missing_num(n):\n",
    "    numbers = set(n)\n",
    "    length = len(n)\n",
    "    output = []\n",
    "    for i in range(1, n[-1]):\n",
    "        if i not in numbers:\n",
    "            output.append(i)\n",
    "    return output\n",
    "    \n",
    "listOfNumbers = [10, 5, 1, 2, 4, 6, 8, 3, 9]\n",
    "print(missing_num(listOfNumbers))"
   ]
  },
  {
   "cell_type": "code",
   "execution_count": null,
   "id": "abc0e4fc-c80c-447a-936c-69ae3b0d24a6",
   "metadata": {},
   "outputs": [],
   "source": []
  },
  {
   "cell_type": "code",
   "execution_count": null,
   "id": "aa9e8276-c26d-410f-828b-319b85e57664",
   "metadata": {},
   "outputs": [],
   "source": []
  }
 ],
 "metadata": {
  "kernelspec": {
   "display_name": "Python 3 (ipykernel)",
   "language": "python",
   "name": "python3"
  },
  "language_info": {
   "codemirror_mode": {
    "name": "ipython",
    "version": 3
   },
   "file_extension": ".py",
   "mimetype": "text/x-python",
   "name": "python",
   "nbconvert_exporter": "python",
   "pygments_lexer": "ipython3",
   "version": "3.10.6"
  }
 },
 "nbformat": 4,
 "nbformat_minor": 5
}
