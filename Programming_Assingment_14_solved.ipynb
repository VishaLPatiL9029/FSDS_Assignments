{
 "cells": [
  {
   "cell_type": "markdown",
   "id": "dc86b09e-05e8-4b3c-aa80-0cb957a20ed4",
   "metadata": {},
   "source": [
    "## Question 1:\n",
    "\n",
    "Define a class with a generator which can iterate the numbers, which are divisible by 7, between a given range 0 and n.\n"
   ]
  },
  {
   "cell_type": "markdown",
   "id": "7211e566-b245-4198-88b9-9c8d1759bf05",
   "metadata": {},
   "source": [
    "### Solution to Question 1"
   ]
  },
  {
   "cell_type": "code",
   "execution_count": 1,
   "id": "af3649ab-be95-478d-b6a1-a4e9f6bb1abb",
   "metadata": {},
   "outputs": [],
   "source": [
    "class divcheck:\n",
    "    def divby7(n):\n",
    "        for i in range(0, n+1):\n",
    "            if i % 7 == 0:\n",
    "                number =  True\n",
    "            else:\n",
    "                number =  False\n",
    "        print(i, number)"
   ]
  },
  {
   "cell_type": "code",
   "execution_count": 3,
   "id": "d0bf9f7b-5254-4d0c-a424-cd5fe650c736",
   "metadata": {},
   "outputs": [
    {
     "name": "stdout",
     "output_type": "stream",
     "text": [
      "312312 True\n"
     ]
    }
   ],
   "source": [
    "divcheck.divby7(312312)"
   ]
  },
  {
   "cell_type": "markdown",
   "id": "9dd1f221-61a1-4c74-9f54-0c93d98159e6",
   "metadata": {},
   "source": [
    "## Question 2:\n",
    "\n",
    "Write a program to compute the frequency of the words from the input. The output should output after sorting the key alphanumerically. \n",
    "\n",
    "Suppose the following input is supplied to the program:\n",
    "\n",
    "New to Python or choosing between Python 2 and Python 3? Read Python 2 or Python 3.\n",
    "\n",
    "Then, the output should be:\n",
    "\n",
    "2:2\n",
    "\n",
    "3.:1\n",
    "\n",
    "3?:1\n",
    "\n",
    "New:1\n",
    "\n",
    "Python:5\n",
    "\n",
    "Read:1\n",
    "\n",
    "and:1\n",
    "\n",
    "between:1\n",
    "\n",
    "choosing:1\n",
    "\n",
    "or:2\n",
    "\n",
    "to:1"
   ]
  },
  {
   "cell_type": "markdown",
   "id": "8ae32814-d695-4e26-be42-c9dd3af202d4",
   "metadata": {},
   "source": [
    "### Solution to Question 2"
   ]
  },
  {
   "cell_type": "code",
   "execution_count": 4,
   "id": "4f9fb99b-c147-4c48-ad0d-be1ef6888540",
   "metadata": {},
   "outputs": [
    {
     "name": "stdin",
     "output_type": "stream",
     "text": [
      " New to Python or choosing between Python 2 and Python 3? Read Python 2 or Python 3.\n"
     ]
    },
    {
     "name": "stdout",
     "output_type": "stream",
     "text": [
      "=============================================================================================================================================\n",
      "2 : 2\n",
      "3. : 1\n",
      "3? : 1\n",
      "New : 1\n",
      "Python : 5\n",
      "Read : 1\n",
      "and : 1\n",
      "between : 1\n",
      "choosing : 1\n",
      "or : 2\n",
      "to : 1\n"
     ]
    }
   ],
   "source": [
    "input_words = list(input().split(' '))\n",
    "print('=============================================================================================================================================')\n",
    "words = sorted(input_words)\n",
    "unique_words = []\n",
    "for x in words:\n",
    "    if x not in unique_words:\n",
    "        unique_words.append(x)\n",
    "        \n",
    "        \n",
    "for i in unique_words:\n",
    "    print(i,':', words.count(i))\n",
    "    \n"
   ]
  },
  {
   "cell_type": "markdown",
   "id": "a6d56472-bb61-4ec5-b171-59fe593f05e8",
   "metadata": {},
   "source": [
    "## Question 3:\n",
    "Define a class Person and its two child classes: Male and Female. \n",
    "All classes have a method \"getGender\" which can print \"Male\" for Male class and \"Female\" for Female class."
   ]
  },
  {
   "cell_type": "markdown",
   "id": "ce1dbaa5-ce6f-4c23-bd50-4e99a1520d07",
   "metadata": {},
   "source": [
    "### Solution to Question 3"
   ]
  },
  {
   "cell_type": "code",
   "execution_count": 14,
   "id": "afaa8da7-3c7b-4487-bdf8-8b95cefe9ccf",
   "metadata": {},
   "outputs": [
    {
     "name": "stdout",
     "output_type": "stream",
     "text": [
      "female\n",
      "male\n",
      "unknown\n"
     ]
    }
   ],
   "source": [
    "class person():\n",
    "    def __init__(self):\n",
    "        self.gender = \"unknown\"\n",
    "\n",
    "    def getgender(self):\n",
    "        print(self.gender)\n",
    "\n",
    "class male(person):\n",
    "    def __init__(self):\n",
    "        self.gender = \"male\"\n",
    "\n",
    "class female(person):\n",
    "    def __init__(self):\n",
    "        self.gender = \"female\"\n",
    "\n",
    "dhanu = female()\n",
    "vinod = male()\n",
    "pinky = person()\n",
    "\n",
    "dhanu.getgender()\n",
    "vinod.getgender()\n",
    "pinky.getgender()"
   ]
  },
  {
   "cell_type": "markdown",
   "id": "7dbefa88-c09e-4b14-b159-f1c3154f5fd0",
   "metadata": {},
   "source": [
    "## Question 4:\n",
    "Please write a program to generate all sentences where subject is in [\"I\", \"You\"] and verb is in [\"Play\", \"Love\"] and the object is in [\"Hockey\",\"Football\"].\n"
   ]
  },
  {
   "cell_type": "markdown",
   "id": "cb00a848-4bf5-4b9b-9726-06602ea15bff",
   "metadata": {},
   "source": [
    "### Solution to Question 4"
   ]
  },
  {
   "cell_type": "code",
   "execution_count": 16,
   "id": "6bd3f20d-e24b-4ae1-8169-1c4b8f2de03b",
   "metadata": {},
   "outputs": [
    {
     "name": "stdout",
     "output_type": "stream",
     "text": [
      "I Play Hockey\n",
      "I Play Football\n",
      "I Love Hockey\n",
      "I Love Football\n",
      "You Play Hockey\n",
      "You Play Football\n",
      "You Love Hockey\n",
      "You Love Football\n"
     ]
    }
   ],
   "source": [
    "sub = [\"I\", \"You\"]\n",
    "verb = [\"Play\", \"Love\"]\n",
    "obj = [\"Hockey\",\"Football\"]\n",
    "\n",
    "for i in sub:\n",
    "    for j in verb:\n",
    "        for k in obj:\n",
    "            print(i,j,k)"
   ]
  },
  {
   "cell_type": "markdown",
   "id": "065a0c7b-ad30-4272-8f72-953d1911eaf9",
   "metadata": {},
   "source": [
    "## Question 5:\n",
    "Please write a program to compress and decompress the string \"hello world!hello world!hello world!hello world!\"."
   ]
  },
  {
   "cell_type": "markdown",
   "id": "d6cd6817-cb92-4402-b282-5ec7a1fd0e4c",
   "metadata": {},
   "source": [
    "### Solution to Question 5"
   ]
  },
  {
   "cell_type": "code",
   "execution_count": 18,
   "id": "ddc94558-9f10-4f05-81f2-0f7e16b99122",
   "metadata": {},
   "outputs": [],
   "source": [
    "string = \"hello world!hello world!hello world!hello world!\""
   ]
  },
  {
   "cell_type": "code",
   "execution_count": 32,
   "id": "bf4df5be-c73a-4a27-b742-1c43a292098f",
   "metadata": {},
   "outputs": [
    {
     "name": "stdout",
     "output_type": "stream",
     "text": [
      "b'x\\x9c\\xcbH\\xcd\\xc9\\xc9W(\\xcf/\\xcaIQ\\xcc \\x82\\r\\x00\\xbd[\\x11\\xf5'\n",
      "b'hello world!hello world!hello world!hello world!'\n"
     ]
    }
   ],
   "source": [
    "import zlib\n",
    "s = b'hello world!hello world!hello world!hello world!'\n",
    "t = zlib.compress(s)\n",
    "print(t)\n",
    "print(zlib.decompress(t))"
   ]
  },
  {
   "cell_type": "markdown",
   "id": "0e8ddd78-1058-4506-a1f0-bcd7054cb2ea",
   "metadata": {},
   "source": [
    "## Question 6:\n",
    "Please write a binary search function which searches an item in a sorted list. The function should return the index of element to be searched in the list.\n"
   ]
  },
  {
   "cell_type": "markdown",
   "id": "d48efda4-5f8a-42dd-a4f7-985a1089a60d",
   "metadata": {},
   "source": [
    "### Solution to Question 6"
   ]
  },
  {
   "cell_type": "code",
   "execution_count": 39,
   "id": "ab676e33-861b-42b5-95b4-82fffc87be2a",
   "metadata": {},
   "outputs": [
    {
     "name": "stdout",
     "output_type": "stream",
     "text": [
      "not found\n"
     ]
    }
   ],
   "source": [
    "lst = [2, 3, 4, 10, 40, 10]\n",
    "item = 90\n",
    "\n",
    "def binary_search(lst, low, high, item):\n",
    "\n",
    "\tif high >= low:\n",
    "\n",
    "\t\tmid = (high + low) // 2\n",
    "\n",
    "\t\t\n",
    "\t\tif lst[mid] == item:\n",
    "\t\t\treturn mid\n",
    "\n",
    "\t\t\n",
    "\t\telif lst[mid] > item:\n",
    "\t\t\treturn binary_search(lst, low, mid - 1, item)\n",
    "\n",
    "\t\t\n",
    "\t\telse:\n",
    "\t\t\treturn binary_search(lst, mid + 1, high, item)\n",
    "\n",
    "\telse:\n",
    "\t\t\n",
    "\t\treturn \"not found\"\n",
    "\n",
    "\n",
    "\n",
    "\n",
    "\n",
    "search_result = binary_search(lst, 0, len(lst)-1, item)\n",
    "\n",
    "print(search_result)"
   ]
  },
  {
   "cell_type": "code",
   "execution_count": null,
   "id": "47624fd5-e914-4d43-a060-46ca81fba5ca",
   "metadata": {},
   "outputs": [],
   "source": []
  },
  {
   "cell_type": "code",
   "execution_count": null,
   "id": "f788003d-605d-4fc5-8d0f-9bc9bf9f3306",
   "metadata": {},
   "outputs": [],
   "source": []
  }
 ],
 "metadata": {
  "kernelspec": {
   "display_name": "Python 3 (ipykernel)",
   "language": "python",
   "name": "python3"
  },
  "language_info": {
   "codemirror_mode": {
    "name": "ipython",
    "version": 3
   },
   "file_extension": ".py",
   "mimetype": "text/x-python",
   "name": "python",
   "nbconvert_exporter": "python",
   "pygments_lexer": "ipython3",
   "version": "3.10.6"
  }
 },
 "nbformat": 4,
 "nbformat_minor": 5
}
