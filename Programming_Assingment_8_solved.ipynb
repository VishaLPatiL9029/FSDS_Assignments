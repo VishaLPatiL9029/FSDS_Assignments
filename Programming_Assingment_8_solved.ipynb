{
 "cells": [
  {
   "cell_type": "markdown",
   "id": "275c6746-c445-45ff-9766-8d690568e073",
   "metadata": {},
   "source": [
    "1. Write a Python Program to Add Two Matrices?\n",
    "2. Write a Python Program to Multiply Two Matrices?\n",
    "3. Write a Python Program to Transpose a Matrix?\n",
    "4. Write a Python Program to Sort Words in Alphabetic Order?\n",
    "5. Write a Python Program to Remove Punctuation From a String?"
   ]
  },
  {
   "cell_type": "markdown",
   "id": "e8d308a1-c2a3-4b5f-8145-cbc3fc785431",
   "metadata": {},
   "source": [
    "1. Write a Python Program to Add Two Matrices?"
   ]
  },
  {
   "cell_type": "code",
   "execution_count": 3,
   "id": "9ee7f409-db2a-4994-8be4-32d7c6a19f7e",
   "metadata": {},
   "outputs": [
    {
     "name": "stdout",
     "output_type": "stream",
     "text": [
      "[17, 15, 4]\n",
      "[10, 12, 9]\n",
      "[11, 13, 18]\n"
     ]
    }
   ],
   "source": [
    "#solution\n",
    "# Program to add two matrices using nested loop\n",
    "\n",
    "A = [[12,7,3],\n",
    "    [4,5,6],\n",
    "    [7,8,9]]\n",
    "\n",
    "B = [[5,8,1],\n",
    "    [6,7,3],\n",
    "    [4,5,9]]\n",
    "\n",
    "C = [[0,0,0],\n",
    "     [0,0,0],\n",
    "     [0,0,0]]\n",
    "\n",
    "for i in range(len(A)):\n",
    "    for j in range(len(A[0])):\n",
    "        C[i][j] = A[i][j] + B[i][j]\n",
    "\n",
    "for r in C:\n",
    "    print(r)\n"
   ]
  },
  {
   "cell_type": "markdown",
   "id": "167f03be-e1cf-4d8b-b487-029a4cb97b34",
   "metadata": {},
   "source": [
    "2. Write a Python Program to Multiply Two Matrices?"
   ]
  },
  {
   "cell_type": "code",
   "execution_count": 4,
   "id": "d8031b4d-3eb8-4c93-9e29-06016053d436",
   "metadata": {},
   "outputs": [
    {
     "name": "stdout",
     "output_type": "stream",
     "text": [
      "[60, 56, 3]\n",
      "[24, 35, 18]\n",
      "[28, 40, 81]\n"
     ]
    }
   ],
   "source": [
    "#solution\n",
    "A = [[12,7,3],\n",
    "    [4,5,6],\n",
    "    [7,8,9]]\n",
    "\n",
    "B = [[5,8,1],\n",
    "    [6,7,3],\n",
    "    [4,5,9]]\n",
    "\n",
    "C = [[0,0,0],\n",
    "     [0,0,0],\n",
    "     [0,0,0]]\n",
    "\n",
    "for i in range(len(A)):\n",
    "    for j in range(len(A[0])):\n",
    "        C[i][j] = A[i][j] * B[i][j]\n",
    "\n",
    "for r in C:\n",
    "    print(r)"
   ]
  },
  {
   "cell_type": "markdown",
   "id": "cdadf156-2f5a-4673-b310-c0996059ef19",
   "metadata": {},
   "source": [
    "3. Write a Python Program to Transpose a Matrix?"
   ]
  },
  {
   "cell_type": "code",
   "execution_count": 8,
   "id": "af439f50-5670-491f-9281-f722036423d5",
   "metadata": {},
   "outputs": [
    {
     "name": "stdout",
     "output_type": "stream",
     "text": [
      "[60, 24, 28]\n",
      "[56, 35, 40]\n",
      "[3, 18, 81]\n"
     ]
    }
   ],
   "source": [
    "#solution\n",
    "A = [[60, 56, 3],\n",
    "     [24, 35, 18],\n",
    "     [28, 40, 81]]\n",
    "\n",
    "C = [[0,0,0],\n",
    "     [0,0,0],\n",
    "     [0,0,0]] \n",
    "\n",
    "\n",
    "for i in range(len(A)):\n",
    "    for j in range(len(A[0])):\n",
    "        C[i][j] = A[j][i]\n",
    "        \n",
    "for n in C:\n",
    "    print(n)"
   ]
  },
  {
   "cell_type": "markdown",
   "id": "d2acbe98-3812-4102-aa4e-14d34d963f45",
   "metadata": {},
   "source": [
    "4. Write a Python Program to Sort Words in Alphabetic Order?"
   ]
  },
  {
   "cell_type": "code",
   "execution_count": 9,
   "id": "68c12064-1a9f-49df-bf80-ac0cd4804659",
   "metadata": {},
   "outputs": [
    {
     "name": "stdout",
     "output_type": "stream",
     "text": [
      "The sorted words are:\n",
      "a\n",
      "batch\n",
      "from\n",
      "fsds\n",
      "hello\n",
      "ineuron\n",
      "is\n",
      "this\n",
      "vishal\n",
      "with\n"
     ]
    }
   ],
   "source": [
    "#solution\n",
    "my_str = \"Hello this is a vishal from ineuron with fsds batch\"\n",
    "\n",
    "words = [word.lower() for word in my_str.split()]\n",
    "\n",
    "words.sort()\n",
    "\n",
    "print(\"The sorted words are:\")\n",
    "for word in words:\n",
    "    print(word)\n"
   ]
  },
  {
   "cell_type": "markdown",
   "id": "bb3409e7-9c92-49f9-a675-5c2933e6b032",
   "metadata": {},
   "source": [
    "5. Write a Python Program to Remove Punctuation From a String?"
   ]
  },
  {
   "cell_type": "code",
   "execution_count": 13,
   "id": "a9c972a4-2cc4-453a-be1e-7ad9e7ce26f2",
   "metadata": {},
   "outputs": [
    {
     "name": "stdout",
     "output_type": "stream",
     "text": [
      " Hello he said  and vishal ohhh\n"
     ]
    }
   ],
   "source": [
    "#solution\n",
    "\n",
    "punctuations = '''!()-[]{};:'\"\\,<>./?@#$%^&*_~'''\n",
    "\n",
    "my_str = \"Hello!!!, he said %^&^(*( and vishal!!! ohhh???.\"\n",
    "\n",
    "\n",
    "no_punct = \" \"\n",
    "for char in my_str:\n",
    "    if char not in punctuations:\n",
    "        no_punct = no_punct + char\n",
    "\n",
    "print(no_punct)\n"
   ]
  },
  {
   "cell_type": "code",
   "execution_count": null,
   "id": "a8cca7fd-99e6-4d65-80ca-cd612c9aa2e4",
   "metadata": {},
   "outputs": [],
   "source": []
  }
 ],
 "metadata": {
  "kernelspec": {
   "display_name": "Python 3 (ipykernel)",
   "language": "python",
   "name": "python3"
  },
  "language_info": {
   "codemirror_mode": {
    "name": "ipython",
    "version": 3
   },
   "file_extension": ".py",
   "mimetype": "text/x-python",
   "name": "python",
   "nbconvert_exporter": "python",
   "pygments_lexer": "ipython3",
   "version": "3.10.6"
  }
 },
 "nbformat": 4,
 "nbformat_minor": 5
}
